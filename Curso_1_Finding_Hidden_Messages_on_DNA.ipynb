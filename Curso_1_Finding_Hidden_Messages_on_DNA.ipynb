{
  "nbformat": 4,
  "nbformat_minor": 0,
  "metadata": {
    "colab": {
      "name": "Curso 1: Finding Hidden Messages on DNA.ipynb",
      "provenance": [],
      "collapsed_sections": [],
      "toc_visible": true,
      "authorship_tag": "ABX9TyN2flnhaiPgGk6HY+c0eeKE",
      "include_colab_link": true
    },
    "kernelspec": {
      "name": "python3",
      "display_name": "Python 3"
    }
  },
  "cells": [
    {
      "cell_type": "markdown",
      "metadata": {
        "id": "view-in-github",
        "colab_type": "text"
      },
      "source": [
        "<a href=\"https://colab.research.google.com/github/vanleiko/cursos-coursera/blob/main/Curso_1_Finding_Hidden_Messages_on_DNA.ipynb\" target=\"_parent\"><img src=\"https://colab.research.google.com/assets/colab-badge.svg\" alt=\"Open In Colab\"/></a>"
      ]
    },
    {
      "cell_type": "markdown",
      "metadata": {
        "id": "AOdhCOkHfmZV"
      },
      "source": [
        "#**Finding Hidden Messages on DNA**"
      ]
    },
    {
      "cell_type": "markdown",
      "metadata": {
        "id": "kNjIo6E1xfMg"
      },
      "source": [
        "##**Funções acessórias**"
      ]
    },
    {
      "cell_type": "markdown",
      "metadata": {
        "id": "esOQvecaxTvQ"
      },
      "source": [
        "###uma_string_por_linha(lista)\r\n",
        "\r\n",
        "imprime cada string em uma linha"
      ]
    },
    {
      "cell_type": "code",
      "metadata": {
        "id": "I4eD6ALRs9WO"
      },
      "source": [
        "def uma_string_por_linha(lista):\r\n",
        "  for item in lista:\r\n",
        "    print(item, end=\"\\n\")"
      ],
      "execution_count": 1,
      "outputs": []
    },
    {
      "cell_type": "markdown",
      "metadata": {
        "id": "WmRi-F0XzVbp"
      },
      "source": [
        "###string_lado_a_lado(lista)\r\n",
        "\r\n",
        "imprime cada string lado a lado"
      ]
    },
    {
      "cell_type": "code",
      "metadata": {
        "id": "P62vwtVCzaVA"
      },
      "source": [
        "def string_lado_a_lado(lista):\r\n",
        "  for item in lista:\r\n",
        "    print(item, end=\" \")"
      ],
      "execution_count": 2,
      "outputs": []
    },
    {
      "cell_type": "markdown",
      "metadata": {
        "id": "ZWYwiKUo1bVb"
      },
      "source": [
        "###Ler arquivos txt\r\n",
        "\r\n",
        "ler arquivos txt"
      ]
    },
    {
      "cell_type": "code",
      "metadata": {
        "id": "-C5D2Hum1dln"
      },
      "source": [
        "# with open(\"/content/dataset_5164_1.txt\") as arquivo:\r\n",
        "#   input_items = arquivo.read().strip().splitlines()\r\n",
        "#   Pattern = input_items[0].strip()\r\n",
        "#   Dna = input_items[1].strip().split()"
      ],
      "execution_count": 3,
      "outputs": []
    },
    {
      "cell_type": "markdown",
      "metadata": {
        "id": "D3i1t1vVz603"
      },
      "source": [
        "##**Week 1**"
      ]
    },
    {
      "cell_type": "markdown",
      "metadata": {
        "id": "znLoXfQD9tvJ"
      },
      "source": [
        "Procurando a Origem de Replicação (Ori) na bactéria *Vibrio cholerae*:\r\n",
        "- sabe-se que a região Ori é constituída por algumas centenas de nucleotídeos.\r\n",
        "- há sequências específicas dentro da Ori, as quais chamamos de **DnaA box**, que são sequências onde a proteína DnaA irá se ligar e dar início à replicação (*a DnaA box são várias \"mensagens escondidas\" dentro da Ori que diz à proteína DnaA: \"ligue-se aqui!\"*).\r\n",
        "\r\n",
        "**k-mer**: é uma subsequência (*substring*) de tamanho k frequentemente encontrada no DNA.\r\n",
        "- Exemplo: ATGC é um 4-mer; ATTTTT é um 6-mer.\r\n"
      ]
    },
    {
      "cell_type": "markdown",
      "metadata": {
        "id": "LzLSkiYgcaPX"
      },
      "source": [
        "###**PatternCount(Text, Pattern)**\r\n",
        "\r\n",
        "Essa função irá contar quantas vezes um padrão (k-mer) aparece em um texto (sequência de DNA)"
      ]
    },
    {
      "cell_type": "code",
      "metadata": {
        "id": "lMf1uviSaSgg"
      },
      "source": [
        "def PatternCount(Text, Pattern):\r\n",
        "\r\n",
        "  # inicializando a contagem de padrões em zero\r\n",
        "  count = 0\r\n",
        "\r\n",
        "  text_len = len(Text)\r\n",
        "  pattern_len = len(Pattern)\r\n",
        "\r\n",
        "  # criar um janela de leitura que irá percorrer o texto procurando pelo padrão\r\n",
        "  # não há necessidade da janela de leitura ir até o último nucleotídeo do DNA, por isso:  text_len - pattern_len\r\n",
        "  # +1, pois range é exclusivo  \r\n",
        "  slide_window = text_len - pattern_len + 1\r\n",
        "\r\n",
        "  for pos in range(slide_window):\r\n",
        "    if Text[pos:pos+pattern_len] == Pattern:\r\n",
        "      count += 1\r\n",
        "  \r\n",
        "  return count"
      ],
      "execution_count": 4,
      "outputs": []
    },
    {
      "cell_type": "markdown",
      "metadata": {
        "id": "yv6_7h530vLo"
      },
      "source": [
        "**Testes:**"
      ]
    },
    {
      "cell_type": "code",
      "metadata": {
        "colab": {
          "base_uri": "https://localhost:8080/"
        },
        "id": "UHkYMUSndsVT",
        "outputId": "48697882-4dfe-4a2e-ff36-a4df25b6ba71"
      },
      "source": [
        "# testando a função\r\n",
        "Text = \"ACGTACGTACGT\"\r\n",
        "Pattern = \"CG\"\r\n",
        "\r\n",
        "PatternCount(Text, Pattern)"
      ],
      "execution_count": 5,
      "outputs": [
        {
          "output_type": "execute_result",
          "data": {
            "text/plain": [
              "3"
            ]
          },
          "metadata": {
            "tags": []
          },
          "execution_count": 5
        }
      ]
    },
    {
      "cell_type": "code",
      "metadata": {
        "colab": {
          "base_uri": "https://localhost:8080/"
        },
        "id": "70WScjHTcFXL",
        "outputId": "24f25af1-9390-4b04-dab4-4554e65cf51e"
      },
      "source": [
        "# testando se a função reconhece sobreposições do padrão\r\n",
        "Text = \"GCGCG\"\r\n",
        "Pattern = \"GCG\"\r\n",
        "\r\n",
        "PatternCount(Text, Pattern)"
      ],
      "execution_count": 6,
      "outputs": [
        {
          "output_type": "execute_result",
          "data": {
            "text/plain": [
              "2"
            ]
          },
          "metadata": {
            "tags": []
          },
          "execution_count": 6
        }
      ]
    },
    {
      "cell_type": "code",
      "metadata": {
        "colab": {
          "base_uri": "https://localhost:8080/"
        },
        "id": "JSCCMtoce4hO",
        "outputId": "ec3255df-436f-46d6-fc13-a76b201ca880"
      },
      "source": [
        "# testando se a função reconhece sobreposições do padrão\r\n",
        "Text = \"ATCCGATCCCATGCCCATG\"\r\n",
        "Pattern = \"CC\"\r\n",
        "\r\n",
        "PatternCount(Text, Pattern)"
      ],
      "execution_count": 7,
      "outputs": [
        {
          "output_type": "execute_result",
          "data": {
            "text/plain": [
              "5"
            ]
          },
          "metadata": {
            "tags": []
          },
          "execution_count": 7
        }
      ]
    },
    {
      "cell_type": "code",
      "metadata": {
        "colab": {
          "base_uri": "https://localhost:8080/"
        },
        "id": "4dqGorQkd6Nt",
        "outputId": "5c4a4bcf-388a-4a02-c623-e8916898f8de"
      },
      "source": [
        "# checando se a função lê um padrão presente no início do texto\r\n",
        "Text = \"AAAGAGTGTCTGATAGCAGCTTCTGAACTGGTTACCTGCCGTGAGTAAATTAAATTTTATTGACTTAGGTCACTAAATACTTTAACCAATATAGGCATAGCGCACAGACAGATAATAATTACAGAGTACACAACATCCAT\"\r\n",
        "Pattern = \"AAA\"\r\n",
        "\r\n",
        "PatternCount(Text, Pattern)"
      ],
      "execution_count": 8,
      "outputs": [
        {
          "output_type": "execute_result",
          "data": {
            "text/plain": [
              "4"
            ]
          },
          "metadata": {
            "tags": []
          },
          "execution_count": 8
        }
      ]
    },
    {
      "cell_type": "code",
      "metadata": {
        "colab": {
          "base_uri": "https://localhost:8080/"
        },
        "id": "ajN2HSDLeFoJ",
        "outputId": "a14225bb-89c4-43c7-dde4-6f2067868d37"
      },
      "source": [
        "# checando se a função lê um padrão presente no final do texto\r\n",
        "Text = \"AGCGTGCCGAAATATGCCGCCAGACCTGCTGCGGTGGCCTCGCCGACTTCACGGATGCCAAGTGCATAGAGGAAGCGAGCAAAGGTGGTTTCTTTCGCTTTATCCAGCGCGTTAACCACGTTCTGTGCCGACTTT\"\r\n",
        "Pattern = \"TTT\"\r\n",
        "\r\n",
        "PatternCount(Text, Pattern)"
      ],
      "execution_count": 9,
      "outputs": [
        {
          "output_type": "execute_result",
          "data": {
            "text/plain": [
              "4"
            ]
          },
          "metadata": {
            "tags": []
          },
          "execution_count": 9
        }
      ]
    },
    {
      "cell_type": "code",
      "metadata": {
        "colab": {
          "base_uri": "https://localhost:8080/"
        },
        "id": "BjHTKqpxfId5",
        "outputId": "97d77bb4-8b98-4d4e-ba75-fc7a125fce79"
      },
      "source": [
        "# dataset do exercício\r\n",
        "Text = \"GTGGTAAGGTGGTAAGAGTGGTAAAGTGGTAACCCTCGGGAAGTGTGGTAACGTGGTAAACGTGGTAAGGTGGTAAGTGGTAAAGGTGGTAAGGGTGGTAACCATGGTGGTAAGTGGTAATACAGGTGGTAATGTGGTAATTAGACGTGTGGTAACGTGGTAAATGTGGTAAGCCTGTGGTAAGTGGTAACTCGTGGTGGTAAAATCGGTGGTAAGTGGTAACAGCCGTGGTAATGTGGTAAGTGGTAAGTGGTAAGTGCCGTGGTAAGCGTGGTAAGGGGTGGTAAGTGGTAAAGCGAGTGGTAAGTGGTAAGTGGTAAAATGTGGTAAGTGGTAAGGCTTACGGTGGTAAGTGGTAACGTGGTAATTCCCGGTGGTAAAGTGGTAATGTGGTAGGGGTGGTAAGTGGTAATGGTGGTAAAGTTGTGGTAACGGGGGTGGTAAAGGATGAGGTGGTAATCGGTGGTAATGTGGTAACCTGCGTGCGTGGTAAGGTCAGATTCGTGGTAATGTGGTAATCGCGCGTGGTAATCCGTGGTAATGGAATGTGGTAAGGTGGTAAAGAGCAGGTGGTAATGTGGTAATCGTGGTAAGGGGTGGTAAAATGGTCCGTGGTAAAGTGGTAAGTGTGGTAAGTGGTAACCAATAGAACACGTGGTAAATCGTGGTAAGAGTTGTGGTAATTCGTGGTAACGCGTGGTAACCCCGTGGTAACGTGGTAACGTGGTAACGTGGTAAGGAAGGTGGTGGTAAGGTGGTAAATGTGGTAAGGTGGTAAATGAGAGAACAAGTGGTAAGTATGTGGTAACGTGGTAAGCGGTGGTAAAGGTGGTAAAAGGTGGTAACGACGTGGTAAGGCGTGGTAAAGCGTGGTAACGTGGTAAGTGGTAAAATGTGGTAAGAGTGGTAACGTGGTAAATGTGGTAATCAACGTGGTAAGTGGTAAGATGGTGGTAA\"\r\n",
        "Pattern = \"GTGGTAAGT\"\r\n",
        "\r\n",
        "PatternCount(Text, Pattern)"
      ],
      "execution_count": 10,
      "outputs": [
        {
          "output_type": "execute_result",
          "data": {
            "text/plain": [
              "18"
            ]
          },
          "metadata": {
            "tags": []
          },
          "execution_count": 10
        }
      ]
    },
    {
      "cell_type": "code",
      "metadata": {
        "colab": {
          "base_uri": "https://localhost:8080/"
        },
        "id": "Hu10g7J1cSWw",
        "outputId": "0155e45e-5fd4-4c35-b58a-b60c74fab943"
      },
      "source": [
        "# extra dataset\r\n",
        "Text = \"TAACAGCCTTTAGCCTTTAGCCTTTAGCCTTTAGCCTTTAGCCTTTGAGCCTTTGAGCCTTTTAGCCTTTCAGCCTTTAGCCTTTAAGCCTTTCCGCATCGAGCCTTTCAGCCTTTCGTAGCCTTTCGAGCCTTTAGCCTTTCAGCCTTTAGAGCCTTTAAGCCTTTAGTCGATGTAGCCTTTAGCCTTTAGCCTTTAGCCTTTGCAGCCTTTAGTAGGCAAGCCTTTTAGCCTTTGAGCCTTTCGAGCCTTTCTCGCTAGCCTTTAGCCTTTGGTGAGCCTTTTAGCCTTTAGCCTTTTCGCAGCCTTTTGAGCCTTTCTTGTTTGAATGGCAAGAGCCTTTTCGAGCCTTTAGCCTTTGAGCCTTTCAGCCTTTAAAAGCCTTTCGTTAGCCTTTAGCCTTTATCGAGCCTTTAAGCCTTTTATGCAAAGCCTTTGAGCCTTTAGCCTTTCAGCCTTTCAGCCTTTCATTGACAAGCCTTTCAGCCTTTAGCCTTTAGCCTTTCTCAGCCTTTGAGCCTTTGAGCCTTTGTCGAGCCTTTTTTCAGAGCCTTTTAGCCTTTAGCCTTTGAGCCTTTAGCCTTTAGCCTTTTACGAGCCTTTGCAAGCCTTTCAGCCTTTCCAAGCCTTTAGCCTTTGCTTTAGCCTTTCATGGGATAGCCTTTAGCCTTTATTAAGCCTTTTTTATCAAGCCTTTGTAGCCTTTAAGCCTTTCCAGCCTTTAGGAGCCTTTGTATAGCCTTTTGAGCCTTTCTACAGTAAAGCCTTTTTTGGTCAGCCTTTCTAGCCTTTGATAGCCTTTCTGAAGCCTTTGGCGGAGCCTTTCTGTTAACAGCCCAGCCTTTCTCATAGCCTTTGCGGTATCAGCCTTTGCAGCCTTTCTGGAGCGATAGCCTTTCAGCCTTTCCGAGCCTTTTTCAGAGCCTTTGAGCCTTTAGCCTTTAGCCTTTAGCCTTTAGCCTTTAGCCTTTAGCCTTTCCGAGCCTTTTCAGCCTTTACAGCCTTTTTAGCCTTTGAGCCTTTCACAGCCTTTGAGCTAGCCTTTAAGTTAAAGCCTTTAGCCTTTCAGCCTTTACATTAGCCTTTTAGCCTTTTCAGCCTTTAGAGCCTTTAGCCTTTGCTGAAGCCTTTAGTAGCCTTTAGCCTTTGCGAAGCCTTTCTGGTGCAACAAGTGAAGCCTTTGCCCTAGCCTTTGCTAGCCTTTCCGAGCCTTTGTCGATATAGCCTTTAGCCTTTAGAAAGCCTTTAGCCTTTGCTAGCCTTTATAGCCTTTAGCCTTTAGCCTTTCCCAGCCTTTAGCCTTTATCCTAAGCCTTTAGCCTTTTCCAGAAGCAGCCTTTTGATCAGAGCCTTTCTTCGGACTGCTCCCAGCCTTTAGCCTTTCAGCCTTTAGCCTTTAGCCTTTCAGCCTTTAGCCTTTTCTAGCCTTTAGCCTTTGTGTAGCCTTTCTAGCCTTTACGAGCCTTTGCCCAGCCTTTCCCAGCCTTTGAGAGCCTTTACCATATAGCCTTTACATAAGCCTTTGATGAGCCTTTAGCCTTTCGAGCCTTTCAGCCTTTACTCCAGCCTTTATAGCCTTTATATAGCCTTTCCTGTTAGGCCGTCGGTGCAGCCTTTTAGCCTTTAGCCTTTAGCCTTTAGCCTTTTAGCCTTTCAGCCTTTGCTAGCCTTTCCAGCCTTTACAGCCTTTTACCGAGCCTTTCCATCAGCCTTTAGCCTTTATATCTCTGATCGGGTAGCCTTTCGGCTAGCCTTTGGTAGCCTTTTTCAGCCTTTATGTAAAGCCTTTGTAGCCTTTGATGTGAGCCTTTAGAAGCCTTTGTCAGCCTTTTAGCCTTTAGCCTTTAGCCTTTTTAAGCCTTTTACAAGCCTTTACTCAGAGCCTTTACGAGCCTTTTAGCCTTTGCAGCCTTTTAGCCTTTTGATGAGCCTTTGCGGAGCCTTTTCTTTCAGCCTTTTGGCAGCCTTTAGCCTTTGTACAGCCTTTTTGAGCACAGCCTTTCGCGAAAGAGCCTTTATCAGCCTTTAAGCCTTTGCTAGCCTTTAGCCTTTTGAGCCTTTAGCCTTTGTATCTGTCTATCATCGAGCCTTTCTAAGCCTTTGCGGAAGCCTTTAGCCTTTGTCAGCCTTTCAAAGCCTTTAGCCTTTTATTCAAGCCTTTGAACCATAGCCTTTGGCAGCCTTTCAAGCCTTTGACGACAGCCTTTAGCCTTTCATTAGCCTTTTAGGAGGCTCATCCGTCTAGCCTTTAAATAGCCTTTAGCCTTTATAGCCTTTAAGCCTTTAGCCTTTTAAGCCTTTGAGAGCCTTTAAAGCCTTTAAACCAAGCCTTTGCGAAGCCTTTAGCCTTTAGCCTTTCGCAGCCTTTAGCCTTTCGAGCCTTTTGTAGCCTTTTGGAGAGCCTTTGGGCAAGCCTTTAGTATAAGCCTTTAGCCTTTTAGCCTTTCAAGCCTTTAGCCTTTAAGCCTTTGGCACAGCCTTTTGAGCCTTTCAGGAGCCTTTATTGGTGAGCCTTTAGTATAGCCTTTTCAGCCTTTGGCAGCCTTTAATGAAAGCCTTTGCTCAGCCTTTTTCAGCCTTTACAGCCTTTCAAGCCTTTAGCCACAAGCCTTTAGCCTTTAGCCTTTCAGCCTTTGCGAGCCTTTGTAGCCTTTAAGCCTTTCAGCCTTTAGCCTTTAGCCTTTTTCAAGCCTTTTCAGCCTTTCAAAGCCTTTCAAGCCTTTGAAGCCTTTCTAAGCCTTTGAGCCTTTGAGCCTTTGAGCCTTTAGCCTTTGTTCCTAGCCTTTATAGCCTTTTAGGCAGCCTTTCAGAGCCTTTTAAGCCTTTAGCCTTTCAGAAAGAGCCTTTAGCCCAGCCTTTTGATTAGCCTTTAGGGAACAGCCTTTAGCCTTTTAAGCCTTTGGTATACAATCAACGCAGCCTTTAGCCTTTAAGCCTTTTGGAGCCTTTCAGACTGATCCCAGCCTTTCAGCCTTTCTCAGCCTTTAAGCCTTTCTCCAAGCCTTTTGAGCCTTTTCGAGCCTTTAGTGAGCCTTTTGAAGCCTTTGTTTAGCCTTTTGTATAGGGTAGCCTTTAGCCTTTCCGGAAGCCTTTTGTAGCCTTTAAGCCTTTTGTCCGGGAAAGCCTTTGTAAGCCTTTAATGCAGCCTTTCCTATAGCCTTTAAGCCTTTCAGCCTTTTGGAGCCTTTTCTCAGCCTTTAGCCTTTCGCCAGCCTTTCTCCCGAGCAGCCTTTTAGAAAAAGCCTTTTAGCCTTTTACCGTGGACAGCCTTTCACGAGCCTTTACAGGCTAGCCTTTAGCCTTTGCTAGCCTTTTCCCAGCCTTTTGAGCCTTTAAGCCTTTCTAAGTTCTACGCTTGGGCTAAAGCCTTTAGCCTTTAAGCCTTTCAGCCTTTTGCAGCCTTTATATAACTTGAGCCTTTAGCCTTTAGCCTTTATAGCCTTTAGCCTTTTAGCCTTTTATATCCCTTAAGCCTTTGTAAGCCTTTAGCCTTTAAGCCTTTACGAGGAAAGCCTTTCATGCAGCCTTTAGCCTTTAGCCTTTGAGCCTTTCCAGCCTTTCAGCCTTTCAGCCTTTAGCCTTTAGCCTTTAGCCTTTTAGCCTTTATGAGCCTTTATAGCCTTTAGCCTTTTCACCAGCCTTTCCAGATGCACAAGCCTTTCAGCCTTTAGCCTTTCGAGCCTTTGGCTTATAGCCTTTCATCAGCCTTTCTAGCCTTTTAGCCTTTAGCCTTTAGCCTTTTCTAGCCTTTCAGCCTTTAGCCTTTTCGAAGCCTTTAGCCTTTTTAGCCTTTAGCTCAGCCTTTAGCCTTTATCTAACAGCCTTTAGCCTTTAGCCTTTAAAGCCTTTATGTCCAATTCTAACAGCCTTTAGCCTTTAAAGCCTTTGCAGCCTTTGAGCCTTTTAGCCTTTGAAGCCTTTAGCCTTTGTCAGCCTTTCCAGCCTTTTAGCCTTTAGCAGCCTTTAGTACGCCAGCCTTTAGCCTTTGTATAAGCCTTTAGCCTTTAGCCTTTCCACTAGCCTTTAGCCTTTAGAGGAGCGATAGCCTTTCAGCCTTTAGAAAGCCTTTGTTGCTGCTAGCCTTTGGGTTCTCAGCCTTTTAGCCTTTAGCCTTTAGCCTTTAGCCTTTAGCCTTTTGTAGCCTTTTACATAGGATTGATTCAAAAGCCTTTTTGAGCCTTTCTGCATTAGCCTTTTCCTCTAGCCTTTAGCCTTTCGCAGCCTTTAGCCTTTTAGAGCCTTTAGATAGCCTTTCGCGACAGCCTTTTGTTTAGCCTTTAGCCTTTGTTAGCCTTTGAGCCTTTGAGCCTTTTAGCCTTTCCTAGCCTTTCAGCCTTTCCAAAGCCTTTGACAGGGTGTAGCCTTTCTAGCCTTTTTAGCCTTTAGCCTTTAAACTTAAGCCTTTTTAGCCTTTAGCCTTTCAACCCAGCCTTTAGCCTTTTAAGCCTTTAGCCTTTAGCCTTTTTAGAAGCCTTTTAGCCTTTAGCCTTTGGAGCCTTTCAGATCTCAGCCTTTTCGAGCCTTTTAGCCTTTTCAGAAAAGTAGCCTTTTTAGCAGCCTTTTAAAGCCTTTGGAGCCTTTAGCCTTTAGCCTTTGTAGCCTTTTCCCAAAAGCCTTTACAGCCTTTGTGAGCCTTTTAGTTCGTTTGAGCCTTTCCAGCCTTTCAGCCTTTAGCCTTTATAGCCTTTTGCGAGAAGCCTTTAAGCCTTTAGCCTTTTGACGTTCTAGAGCCTTTGGAGCCTTTCACGCGAGCCTTTCAAGCCTTTGACTCCGCAGCCTTTTCGCGACCAGCCTTTGCCGTGCCAGCCTTTAGCCTTTCAACACAGCCTTTAGCCTTTGGGCCGCAGAGCCTTTGAGTAGCCTTTAGCCTTTGACAGCCTTTAGCCTTTCTAGCCTTTGCAGCCTTTGTCTAGGTAGCCTTTAGCCTTTAGCCTTTCTAGCCTTTTAGCCTTTAGCCTTTTGAGCCTTTTGGAAGCCTTTCAGCCTTTAGCCTTTCGCGAGCCTTTGAGCCTTTACCCAGCCTTTACGGAGCCTTTAGCCTTTCCCATAGCCTTTAGCCTTTCCAGCCTTTAGCCTTTTAGCCTTTCAAATCTAAGCCTTTCGCATATATGGTAGCCTTTAGCCTTTAGCCTTTATGGTCCTTCAGTTTGAGCCTTTTAGAGCCTTTAAAGGAGCCTTTGTAAGACGAAGGTAGCCTTTAGCCTTTGCCAGCCTTTTTAGCCTTTAGCCTTTAAAAAGCCTTTGAGCCTTTAGCCTTTAGCCTTTGAGCCTTTAGCCTTTTCTCCTAGCCTTTCATAGCCTTTGAGCCTTTAGCCTTTTAGCCTTTTAGCCTTTAGCCTTTAGCCTTTGGAGGTCAGCCTTTATGTTAAAGCCTTTAGTTCCCAGCCTTTCAGCCTTTAGCCTTTAGCCTTTGAGCCTTTCAGCCTTTTAGCCTTTCAGCCTTTCAGCCTTTGAAGCCTTTTGTAGCCTTTGCCCGAGCCTTTAGCCTTTAGCCTTTCCCAACCCTGATCCGTAGCCTTTGGGCTGATCCTGAGCCTTTTCAGCCTTTAAGCCTTTAGCCTTTAGCCTTTGAGAAGCCTTTAGCCTTTCAGCCTTTAACAGCCTTTAAGCCTTTATAGCCTTTAGCCAGCCTTTGCAGCCTTTCAGTAGCCTTTAGCCTTTAGCCTTTCTAGCCTTTCTTGGAGCCTTTCCCAGCCTTTAAGAGCCTTTAGCCTTTTAGCCTTTCAGCCTTTAGCCTTTTCGTAGCCTTTGACCATTGTCAGCCTTTCTACTGAGCCTTTCATAGCCTTTTTTAGCCTTTCTAGCAGCCTTTGGAGCCTTTAGAAGAGCCTTTAGCCTTTTAAGCCTTTGAGCCTTTAACACAAGCCTTTATCTGGGCCGCGAGCCTTTTCAACCTAACTACAGCCTTTCTAAGCCTTTAGCCTTTAGCCTTTCAGCCTTTTAGCCTTTACCGAGCCTTTGCGGGAAGCCTTTAAAGAGCCTTTAGAAAAAGCCTTTGGGATAGCCTTTCCAGCCTTTCCAGCCTTTTTAGCCTTTTCCTCAAGATTTAGCCTTTGATGAAGCCTTTGAGCCTTTAGCCTTTCATTGAGCCTTTTAAGCCTTTCAGCCTTTTCTCATCAGCCTTTCACAGCCTTTCTACAGCCTTTAGCCTTTAGCCTTTGGAGCCTTTTCGCCCCGAGCCTTTAGCCTTTAGCCTTTTAGCCTTTCAGCCTTTGTAGCCTTTAGAGCCTTTGCTTAGCCTTTAGCCTTTAGTAGCCTTTAGATAGCCTTTTCTGGGAGCCTTTACAGCCTTTAGCCTTTAGCCTTTAGCCTTTTAAAGCCTTTCCCCAAAGCCTTTGTTGAGCCTTTAGCCTTTACAGTCTAGCCTTTAGCCTTTCAAGCCTTTACCTTAGCCTTTGGCAGCCTTTCTAGCCTTTAGCCTTTTCAGCCTTTAGCCTTTAAGCCTTTAGCCTTTTCGAGCCTTTGAGCCTTTAAGCCTTTATAAAAAGCCTTTAGCCTTTAAGCCTTTACCAGCCTTTAGCCTTTCAGCCTTTTATCGGAAAGCCTTTAAGCCTTTTAGCCTTTCAGCCTTTGAGCCTTTCAGCCTTTAGCCTTTGGCAAAGCCTTTTTGCAGCCTTTGGAAGCCTTTAGCCTTTTTCAAGCCTTTCAGCCTTTAGCCTTTGCACGTATTAGGAAGCCTTTTACTCTAAGCCTTTATCAGCCTTTAGCCTTTAGCCTTTAAGCCTTTAGCCTTTAGCCTTTAGCCTTTAGCCTTTAGCCTTTAGCCTTTAGCCTTTACGGTCAGCCTTTGGTAGCCTTTTCAGCCTTTAAGCCTTTAAGCCTTTGAGCCTTTAGCCTTTAGCCTTTGAGCCTTTAAGAGCCTTTCAGCCTTTTTTAGCCTTTTAGCCTTTGAGCCTTTCCTAGCCTTTCAAGCCTTTGAGCCTTTCGAAGCCTTTTAGCCTTTAGCCTTTAGCCTTTATGGAGCCTTTAGCCTTTAGCGGAGCCTTTGAGCCTTTACAGAGCCTTTAGCCTTTAGCCTTTTAAGCCTTTTGCAGCCTTTCAAAGAGCCTTTAGCCTTTACGGAGCCTTTAGCCTTTAAGCCTTTCTCACTAGCCTTTTTAGCCTTTGAGCCTTTATGACGAAGCCTTTAGCCTTTTGTCGTGACCTGAGCCTTTAGCCTTTACAGCCTTTCAGCCTTTAGCCTTTCTTAAAAGCCTTTTAGCCTTTTTGAGCCTTTACAGCCTTTCGAGCCTTTGAGCCTTTCCCAGCCTTTGAAGCCTTTTGGACAGAGCCTTTGCTAGCCTTTAGCCTTTTAGCCTTTAGCCTTTAGCCTTTACTTAGCCTTTTAGCCTTTATGGATAGCCTTTAGCCTTTGAGAGCCTTTGCCTAGCCTTTGAAGCCTTTTTAGCCTTTAACGAGCCTTTAGCCTTTAGCCTTTAGCCTTTAAGCCTTTAGCCTTTCGAGCCTTTCTCAGCCTTTGTAGCCTTTAGCCTTTAGAGCAGCCTTTAGCCTTTCCAGCCTTTAGCCTTTTCAGCCTTTAGCCTTTCAGCCTTTGCCCCGAGCACGTAGCCTTTACAGCCTTTAGCCTTTAGCCTTTTAGCCTTTACAGCCTTTTGAGCCTTTAGCCTTTGAAAGCCTTTTGAAGAGCCTTTCAGCCTTTCTTACTAGCCTTTGCAGCCTTTTAGCCTTTCCGAGCCTTTGATAGCCTTTGTCGGTAAGCCTTTGTAGAGCCTTTAGCCTTTAAGCCTTTGGTAAAGAGCCTTTTCAACAGCCTTTCGGAGCCTTTCGCTACAAGCCTTTTGGCCTAGCCTTTAGCCTTTCAGCCTTTCAAGAGCCTTTAGCCTTTCGCAGCCTTTATAGCCTTTCAGCCTTTCAGCCTTTAGCCTTTAGAGCCTTTGAGCCTTTCGTTATCTAAGCCTTTACTCCATAGCCTTTGAGCCTTTAGCCTTTGTCAGTCGAGCCTTTGTTCTTGAGCCTTTAGCCTTTGCAGCCTTTAGCCTTTTGTTTGTGGAGCCTTTAGCCTTTGAATACAGCCTTTAGCCTTTAGCCTTTAGCCTTTCTAGCCTTTCAGCAGCCTTTGTAGCCTTTGAACCAGCCTTTAGCCTTTTAGCCTTTTCCTTAGCCTTTCCAGCCTTTTAGTGAGCCTTTAGCCTTTGCACCAGCCTTTAGCCTTTAGCCTTTCAGCCTTTAGCCTTTCGAGCCTTTTAGCCTTTGAACAGCCTTTTGAGCCTTTGACGATATGAGCCTTTAGCCTTTTGTAGCCTTTTTTAGCCTTTGAACAGCCTTTGGAGTCAAGCCTTTACGCAGCCTTTCCAGCCTTTCAGCCTTTAGCCTTTGGTCAGCCTTTTCAGAGCCTTTGCGGTTAGCCTTTGAATAGCCTTTAAAGCCTTTCTCAGCCTTTGTAAGCCTTTAGCCTTTTAGCCTTTGTGAGCCTTTCAGCCTTTCCGAGCCTTTAGCCTTTGCCTACGGAAGCCTTTAGCCTTTGCTATCAGCTTGAGCCTTTTAGCCTTTAGTAGCAGCCTTTTAGCCTTTTAGCCTTTCAGCCTTTCTCTAGCCTTTAGCCTTTATCCGAGCCTTTACCAGCCTTTGAGCCTTTAGCCTTTATAGCCTTTATACGTAGCTAGCCTTTAGCCTTTAGAGCCTTTACCCTGTACCAGCCTTTAAGCCTTTCTCGTGAAGCCTTTAGCCTTTGAGCCTTTCGAGCCTTTAGCCTTTAGCCTTTAAGCCTTTTTGTGTGAGCCTTTAGCCTTTGGGGAGCCTTTAGCCTTTCAGCCTTTTAGCCTTTTCAAGCCTTTAGCCTTTAGCCTTTTGAGCCTTTAAAGCCTTTAGCCTTTAGGTAGCAAGCCTTTCGTTATAGCCTTTTATAAGCCTTTTTTAATGAGCCTTTAGCCTTTAGCCTTTGAGCAGCCTTTAGCCTTTAGTAGCCTTTTGATATTAGCCTTTCAGCCTTTAGCCTTTCCCCGAGCCTTTGTTAGAGCCTTTGCAGCCTTTGGAGCCTTTAGCCTTTCGGAGCCTTTAGCCTTTGGGACAGCCTTTAGCCTTTAGCCTTTGAAGCCTTTTGCAGCCTTTAAGATAGCCTTTGAGCCTTTTCAGCCTTTACAGCCTTTAAGCCTTTAGCCTTTGAGCCTTTGAGCCTTTTGAGCCTTTTAGCCTTTGTTGCAGCCTTTAGCCTTTAGCCTTTTAGCCTTTAGCCTTTAGCCTTTGAGCCTTTGAGCCTTTTAGCCTTTAGCCTTTGAGCCTTTTGGACAGCCTTTCTGAGCCTTTCGTAGCCTTTACCGCAAGCCTTTATAGCCTTTGAAGAGGAGCCTTTATAGCCTTTCAGAAGCCTTTTAAGCCTTTTCGCAGCCTTTTATCAGCCTTTAGCCTTTAGCCTTTTAGCCTTTCAGCCTTTAGCCTTTACAAGCCTTTAGCCTTTAGCCTTTATCAAGCCTTTCTAGCCTTTGAGCCTTTGTGAGCCTTTGTGTCAGCCTTTCAAGCCTTTTTAAGTACAGCCTTTACTCAGCCTTTATAGCCTTTGTCGTAAGCCTTTAGCCTTTAGCCTTTGAAAAGCCTTTACGCACAGACAAGTAGCCTTTCAGCCTTTAAGCCTTTGAGTATGTCCTTGAGCCTTTAAAAGAGCCTTTGGTAGCCTTTAGCCTTTAGCCTTTTATAGCCTTTAAGCCTTTAAGCCTTT\"\r\n",
        "Pattern = \"AGCCTTTAG\"\r\n",
        "\r\n",
        "PatternCount(Text, Pattern)"
      ],
      "execution_count": 11,
      "outputs": [
        {
          "output_type": "execute_result",
          "data": {
            "text/plain": [
              "294"
            ]
          },
          "metadata": {
            "tags": []
          },
          "execution_count": 11
        }
      ]
    },
    {
      "cell_type": "markdown",
      "metadata": {
        "id": "0r-aT1bYgXt5"
      },
      "source": [
        "###**FrequentWords(Text, k)**\r\n",
        "Essa função irá retornar o(s) kmer(s) mais frequente(s) do DNA. Essa função não é muito eficiente, pois ela percorre o texto:\r\n",
        "\r\n",
        "- uma vez para contar a quantidade de cada kmer (até quando ele se repete, ela percorre o DNA de novo)\r\n",
        "\r\n",
        "- percorre novamente para checar qual kmer equivale a maior quantidade"
      ]
    },
    {
      "cell_type": "code",
      "metadata": {
        "id": "SHjSiJTBhIJJ"
      },
      "source": [
        "def FrequentWords(Text, k):\r\n",
        "\r\n",
        "  # um set que irá guardar o(s) padrão(ões) mais frequente(s) (set evita duplicidade)\r\n",
        "  frequent_pattern = set()\r\n",
        "\r\n",
        "  # lista irá receber a quantidade de cada padrão\r\n",
        "  count_pattern = []\r\n",
        "\r\n",
        "  text_len = len(Text)\r\n",
        "  pattern_len = k\r\n",
        "\r\n",
        "  # criar uma janela de leitura no DNA\r\n",
        "  slide_window = text_len - pattern_len + 1\r\n",
        "\r\n",
        "  # irá contar cada padrão de tamanho k presente no DNA \r\n",
        "  for pos in range(slide_window):\r\n",
        "    pattern = Text[pos:pos+k]   # estabelece o padrão\r\n",
        "    count = PatternCount(Text, pattern)  # chama a função PatternCount()\r\n",
        "    count_pattern.append(count)   # adiciona a quantidade do padrão na lista\r\n",
        "\r\n",
        "  # verifica qual o maior valor da lista \r\n",
        "  max_count = max(count_pattern)\r\n",
        "\r\n",
        "  # irá verificar qual padrão que tem quantidade igual ao maior valor da lista\r\n",
        "  for pos in range(slide_window):\r\n",
        "    pattern = Text[pos:pos+k]   # estabelece o padrão\r\n",
        "    count = PatternCount(Text, pattern)    # chama a função PatternCount()\r\n",
        "    if count == max_count:    # verifica se a qauntidade do padrão é igual ao maior valor da lista\r\n",
        "      frequent_pattern.add(pattern)   # se for igual ao maior valor da lista, adiciona o padrão no set\r\n",
        "      \r\n",
        "\r\n",
        "\r\n",
        "  return frequent_pattern   \r\n"
      ],
      "execution_count": 12,
      "outputs": []
    },
    {
      "cell_type": "markdown",
      "metadata": {
        "id": "U_MIYXaX0pzs"
      },
      "source": [
        "**Testes:**"
      ]
    },
    {
      "cell_type": "code",
      "metadata": {
        "colab": {
          "base_uri": "https://localhost:8080/"
        },
        "id": "-3VX74FOkYm-",
        "outputId": "5d948b45-dbe7-4067-cc69-1685050d5edd"
      },
      "source": [
        "# checa se a função está contando o primeiro kmer do texto (TGG)\r\n",
        "Text = \"TGGTAGCGACGTTGGTCCCGCCGCTTGAGAATCTGGATGAACATAAGCTCCCACTTGGCTTATTCAGAGAACTGGTCAACACTTGTCTCTCCCAGCCAGGTCTGACCACCGGGCAACTTTTAGAGCACTATCGTGGTACAAATAATGCTGCCAC\"\r\n",
        "k = 3\r\n",
        "\r\n",
        "FrequentWords(Text, k)\r\n",
        "\r\n"
      ],
      "execution_count": 13,
      "outputs": [
        {
          "output_type": "execute_result",
          "data": {
            "text/plain": [
              "{'TGG'}"
            ]
          },
          "metadata": {
            "tags": []
          },
          "execution_count": 13
        }
      ]
    },
    {
      "cell_type": "code",
      "metadata": {
        "colab": {
          "base_uri": "https://localhost:8080/"
        },
        "id": "UyauwCTKkzXF",
        "outputId": "41d86a7d-4b5e-429b-a7f8-73aa21e61e8b"
      },
      "source": [
        "# checa se a função está contando o último kmer do texto (TTTT)\r\n",
        "Text = \"CAGTGGCAGATGACATTTTGCTGGTCGACTGGTTACAACAACGCCTGGGGCTTTTGAGCAACGAGACTTTTCAATGTTGCACCGTTTGCTGCATGATATTGAAAACAATATCACCAAATAAATAACGCCTTAGTAAGTAGCTTTT\"\r\n",
        "k = 4\r\n",
        "\r\n",
        "FrequentWords(Text, k)"
      ],
      "execution_count": 14,
      "outputs": [
        {
          "output_type": "execute_result",
          "data": {
            "text/plain": [
              "{'TTTT'}"
            ]
          },
          "metadata": {
            "tags": []
          },
          "execution_count": 14
        }
      ]
    },
    {
      "cell_type": "code",
      "metadata": {
        "colab": {
          "base_uri": "https://localhost:8080/"
        },
        "id": "UlESFlkyk-ib",
        "outputId": "85568f8c-269a-422a-eae4-b5e9de0fbe99"
      },
      "source": [
        "# checa se a função está contando sobreposições de kmer no texto (AACAA)\r\n",
        "Text = \"ATACAATTACAGTCTGGAACCGGATGAACTGGCCGCAGGTTAACAACAGAGTTGCCAGGCACTGCCGCTGACCAGCAACAACAACAATGACTTTGACGCGAAGGGGATGGCATGAGCGAACTGATCGTCAGCCGTCAGCAACGAGTATTGTTGCTGACCCTTAACAATCCCGCCGCACGTAATGCGCTAACTAATGCCCTGCTG\"\r\n",
        "k = 5\r\n",
        "\r\n",
        "FrequentWords(Text, k)"
      ],
      "execution_count": 15,
      "outputs": [
        {
          "output_type": "execute_result",
          "data": {
            "text/plain": [
              "{'AACAA'}"
            ]
          },
          "metadata": {
            "tags": []
          },
          "execution_count": 15
        }
      ]
    },
    {
      "cell_type": "code",
      "metadata": {
        "colab": {
          "base_uri": "https://localhost:8080/"
        },
        "id": "amleMDE3lR3d",
        "outputId": "667b6242-e738-491b-a141-90b8e6edb3f6"
      },
      "source": [
        "# checa se a função está contando quanto há mais de um kmer mais frequente \r\n",
        "Text = \"CCAGCGGGGGTTGATGCTCTGGGGGTCACAAGATTGCATTTTTATGGGGTTGCAAAAATGTTTTTTACGGCAGATTCATTTAAAATGCCCACTGGCTGGAGACATAGCCCGGATGCGCGTCTTTTACAACGTATTGCGGGGTAAAATCGTAGATGTTTTAAAATAGGCGTAAC\"\r\n",
        "k = 5\r\n",
        "\r\n",
        "FrequentWords(Text, k)"
      ],
      "execution_count": 16,
      "outputs": [
        {
          "output_type": "execute_result",
          "data": {
            "text/plain": [
              "{'AAAAT', 'GGGGT', 'TTTTA'}"
            ]
          },
          "metadata": {
            "tags": []
          },
          "execution_count": 16
        }
      ]
    },
    {
      "cell_type": "code",
      "metadata": {
        "colab": {
          "base_uri": "https://localhost:8080/"
        },
        "id": "BNHsUhVuleks",
        "outputId": "9164bbe0-897f-4749-ec01-daf8d010bb1a"
      },
      "source": [
        "# extra dataset\r\n",
        "Text = \"CGGAAGCGAGATTCGCGTGGCGTGATTCCGGCGGGCGTGGAGAAGCGAGATTCATTCAAGCCGGGAGGCGTGGCGTGGCGTGGCGTGCGGATTCAAGCCGGCGGGCGTGATTCGAGCGGCGGATTCGAGATTCCGGGCGTGCGGGCGTGAAGCGCGTGGAGGAGGCGTGGCGTGCGGGAGGAGAAGCGAGAAGCCGGATTCAAGCAAGCATTCCGGCGGGAGATTCGCGTGGAGGCGTGGAGGCGTGGAGGCGTGCGGCGGGAGATTCAAGCCGGATTCGCGTGGAGAAGCGAGAAGCGCGTGCGGAAGCGAGGAGGAGAAGCATTCGCGTGATTCCGGGAGATTCAAGCATTCGCGTGCGGCGGGAGATTCAAGCGAGGAGGCGTGAAGCAAGCAAGCAAGCGCGTGGCGTGCGGCGGGAGAAGCAAGCGCGTGATTCGAGCGGGCGTGCGGAAGCGAGCGG\"\r\n",
        "k = 12\r\n",
        "\r\n",
        "FrequentWords(Text, k)\r\n"
      ],
      "execution_count": 17,
      "outputs": [
        {
          "output_type": "execute_result",
          "data": {
            "text/plain": [
              "{'CGGCGGGAGATT',\n",
              " 'CGGGAGATTCAA',\n",
              " 'CGTGCGGCGGGA',\n",
              " 'CGTGGAGGCGTG',\n",
              " 'CGTGGCGTGCGG',\n",
              " 'GCGTGCGGCGGG',\n",
              " 'GCGTGGAGGCGT',\n",
              " 'GCGTGGCGTGCG',\n",
              " 'GGAGAAGCGAGA',\n",
              " 'GGAGATTCAAGC',\n",
              " 'GGCGGGAGATTC',\n",
              " 'GGGAGATTCAAG',\n",
              " 'GTGCGGCGGGAG',\n",
              " 'TGCGGCGGGAGA'}"
            ]
          },
          "metadata": {
            "tags": []
          },
          "execution_count": 17
        }
      ]
    },
    {
      "cell_type": "code",
      "metadata": {
        "colab": {
          "base_uri": "https://localhost:8080/"
        },
        "id": "-XMMEUGtlrYS",
        "outputId": "e06478c0-5803-4aee-dc32-0af8fdcdc56c"
      },
      "source": [
        "# dataset do exercício\r\n",
        "Text = \"GAAAGTCGGCGTACAAAAGCTCCTATATCCAGTTGAGAATGGAGTCATTGAAAGTCGGCGAAAGTCGGCCAGTTGAGAAGAAAGTCGGCTGGAGTCATTCTCCTATATCTGGAGTCATTCTCCTATATCGAAAGTCGGCGAAAGTCGGCGAAAGTCGGCCAGTTGAGAACTCCTATATCGAAAGTCGGCCTCCTATATCGAAAGTCGGCGTACAAAAGGTACAAAAGCAGTTGAGAAGTACAAAAGGTACAAAAGCAGTTGAGAATGGAGTCATTGTACAAAAGGAAAGTCGGCGTACAAAAGCAGTTGAGAACAGTTGAGAAGTACAAAAGGTACAAAAGCTCCTATATCGAAAGTCGGCTGGAGTCATTGTACAAAAGCAGTTGAGAAGAAAGTCGGCGAAAGTCGGCGTACAAAAGCTCCTATATCTGGAGTCATTCAGTTGAGAACAGTTGAGAACTCCTATATCTGGAGTCATTTGGAGTCATTTGGAGTCATTTGGAGTCATTGAAAGTCGGCTGGAGTCATTCTCCTATATCTGGAGTCATTCAGTTGAGAAGTACAAAAGCTCCTATATCGTACAAAAGCAGTTGAGAAGAAAGTCGGCGTACAAAAGGTACAAAAGGTACAAAAGCTCCTATATCCTCCTATATCGTACAAAAGTGGAGTCATTGAAAGTCGGCGAAAGTCGGCGAAAGTCGGCGTACAAAAGCAGTTGAGAAGAAAGTCGGCCAGTTGAGAAGTACAAAAGTGGAGTCATTGAAAGTCGGCCAGTTGAGAAGAAAGTCGGCCAGTTGAGAACAGTTGAGAATGGAGTCATTTGGAGTCATTCAGTTGAGAACAGTTGAGAAGTACAAAAGGAAAGTCGGCGTACAAAAGCAGTTGAGAATGGAGTCATTGTACAAAAGCAGTTGAGAAGAAAGTCGGCGTACAAAAGTGGAGTCATTGAAAGTCGGCGTACAAAAG\"\r\n",
        "k = 11\r\n",
        "\r\n",
        "FrequentWords(Text, k)\r\n",
        "\r\n"
      ],
      "execution_count": 18,
      "outputs": [
        {
          "output_type": "execute_result",
          "data": {
            "text/plain": [
              "{'GAAAGTCGGCG'}"
            ]
          },
          "metadata": {
            "tags": []
          },
          "execution_count": 18
        }
      ]
    },
    {
      "cell_type": "code",
      "metadata": {
        "colab": {
          "base_uri": "https://localhost:8080/"
        },
        "id": "KkVgbEicz4fQ",
        "outputId": "b00108dc-e36d-4c6d-b83e-d0f7e2263c70"
      },
      "source": [
        "# Ori de Vibrio cholerae (k = 9)\r\n",
        "Text = \"atcaatgatcaacgtaagcttctaagcatgatcaaggtgctcacacagtttatccacaacctgagtggatgacatcaagataggtcgttgtatctccttcctctcgtactctcatgaccacggaaagatgatcaagagaggatgatttcttggccatatcgcaatgaatacttgtgacttgtgcttccaattgacatcttcagcgccatattgcgctggccaaggtgacggagcgggattacgaaagcatgatcatggctgttgttctgtttatcttgttttgactgagacttgttaggatagacggtttttcatcactgactagccaaagccttactctgcctgacatcgaccgtaaattgataatgaatttacatgcttccgcgacgatttacctcttgatcatcgatccgattgaagatcttcaattgttaattctcttgcctcgactcatagccatgatgagctcttgatcatgtttccttaaccctctattttttacggaagaatgatcaagctgctgctcttgatcatcgtttc\"\r\n",
        "k = 9\r\n",
        "\r\n",
        "FrequentWords(Text, k)"
      ],
      "execution_count": 19,
      "outputs": [
        {
          "output_type": "execute_result",
          "data": {
            "text/plain": [
              "{'atgatcaag', 'ctcttgatc', 'cttgatcat', 'tcttgatca'}"
            ]
          },
          "metadata": {
            "tags": []
          },
          "execution_count": 19
        }
      ]
    },
    {
      "cell_type": "code",
      "metadata": {
        "colab": {
          "base_uri": "https://localhost:8080/"
        },
        "id": "1twffTEJ0VXs",
        "outputId": "c2abfba5-ef98-4397-fe49-d855aa551cfd"
      },
      "source": [
        "# Ori de Vibrio cholerae (k = 8)\r\n",
        "Text = \"atcaatgatcaacgtaagcttctaagcatgatcaaggtgctcacacagtttatccacaacctgagtggatgacatcaagataggtcgttgtatctccttcctctcgtactctcatgaccacggaaagatgatcaagagaggatgatttcttggccatatcgcaatgaatacttgtgacttgtgcttccaattgacatcttcagcgccatattgcgctggccaaggtgacggagcgggattacgaaagcatgatcatggctgttgttctgtttatcttgttttgactgagacttgttaggatagacggtttttcatcactgactagccaaagccttactctgcctgacatcgaccgtaaattgataatgaatttacatgcttccgcgacgatttacctcttgatcatcgatccgattgaagatcttcaattgttaattctcttgcctcgactcatagccatgatgagctcttgatcatgtttccttaaccctctattttttacggaagaatgatcaagctgctgctcttgatcatcgtttc\"\r\n",
        "k = 8\r\n",
        "\r\n",
        "FrequentWords(Text, k)"
      ],
      "execution_count": 20,
      "outputs": [
        {
          "output_type": "execute_result",
          "data": {
            "text/plain": [
              "{'atgatcaa'}"
            ]
          },
          "metadata": {
            "tags": []
          },
          "execution_count": 20
        }
      ]
    },
    {
      "cell_type": "code",
      "metadata": {
        "colab": {
          "base_uri": "https://localhost:8080/"
        },
        "id": "MDyS_lIf0aji",
        "outputId": "98f5f0a5-2d30-469c-cd57-da7b34cea03b"
      },
      "source": [
        "# Ori de Vibrio cholerae (k = 3)\r\n",
        "Text = \"atcaatgatcaacgtaagcttctaagcatgatcaaggtgctcacacagtttatccacaacctgagtggatgacatcaagataggtcgttgtatctccttcctctcgtactctcatgaccacggaaagatgatcaagagaggatgatttcttggccatatcgcaatgaatacttgtgacttgtgcttccaattgacatcttcagcgccatattgcgctggccaaggtgacggagcgggattacgaaagcatgatcatggctgttgttctgtttatcttgttttgactgagacttgttaggatagacggtttttcatcactgactagccaaagccttactctgcctgacatcgaccgtaaattgataatgaatttacatgcttccgcgacgatttacctcttgatcatcgatccgattgaagatcttcaattgttaattctcttgcctcgactcatagccatgatgagctcttgatcatgtttccttaaccctctattttttacggaagaatgatcaagctgctgctcttgatcatcgtttc\"\r\n",
        "k = 3\r\n",
        "\r\n",
        "FrequentWords(Text, k)"
      ],
      "execution_count": 21,
      "outputs": [
        {
          "output_type": "execute_result",
          "data": {
            "text/plain": [
              "{'tga'}"
            ]
          },
          "metadata": {
            "tags": []
          },
          "execution_count": 21
        }
      ]
    },
    {
      "cell_type": "markdown",
      "metadata": {
        "id": "AxNNT7og6l7p"
      },
      "source": [
        "###**PatternToNumber(Pattern)**\r\n",
        "Transforma o padrão em um número inteiro. Para isso, devemos colocar todos os possíveis k-mers em ordem alfabética e usar um sistema quaternário para representar cada base. É como se você organizasse todos os possíveis kmers em um dicionário (ordem alfabética) e você precisa achar onde está  o seu padrão nesse dicionário. O número que representará o padrão será a posição que ele se encontra nesse dicionário.\r\n",
        "\r\n",
        "A = 0\r\n",
        "\r\n",
        "C = 1\r\n",
        "\r\n",
        "G = 2\r\n",
        "\r\n",
        "T = 3\r\n",
        "\r\n",
        "exemplo:\r\n",
        "\r\n",
        "DNA = AAGCAAAGGTGGG\r\n",
        "\r\n",
        "2-mer possíveis, em ordem alfabética:\r\n",
        "\r\n"
      ]
    },
    {
      "cell_type": "markdown",
      "metadata": {
        "id": "yiUAh4U95BD9"
      },
      "source": [
        "\r\n",
        "\r\n",
        "![Sem título.png](data:image/png;base64,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)\r\n",
        "\r\n",
        "\r\n",
        "\r\n"
      ]
    },
    {
      "cell_type": "markdown",
      "metadata": {
        "id": "Y0CCXXSNComN"
      },
      "source": [
        "O raciocínio para um 2-mer:\r\n",
        "\r\n",
        "- quantos 2-mers são possíveis? 4^2 = 16\r\n",
        "- quantas posições haverá? 16 - 1 = 15\r\n",
        "\r\n",
        "**AA** = ([0*(4^1)] + [0*(4^0)] = posição 0\r\n",
        "\r\n",
        "**AC** = ([0*(4^1)] + [1*(4^0)]) = posição 1\r\n",
        "\r\n",
        "**AG** = ([0*(4^1)] + [2*(4^0)]) = posição 2\r\n",
        "\r\n",
        "**AT** = ([0*(4^1)] + [3*(4^0)]) = posição 3\r\n",
        "\r\n",
        "**CA**= ([1*(4^1)] + [0*(4^0)]) = posição 4\r\n",
        "\r\n",
        "**CC** = ([1*(4^1)] + [1*(4^0)]) = posição 5\r\n",
        "\r\n",
        "**CG** = ([1*(4^1)] + [2*(4^0)]) = posição 6\r\n",
        "\r\n",
        "**CT** = ([1*(4^1)] + [3*(4^0)]) = posição 7\r\n",
        "\r\n",
        "**GA** = ([2*(4^1)] + [0*(4^0)]) = posição 8\r\n",
        "\r\n",
        "**GC** = ([2*(4^1)] + [1*(4^0)]) = posição 9\r\n",
        "\r\n",
        "**GG** = ([2*(4^1)] + [2*(4^0)]) = posição 10\r\n",
        "\r\n",
        "**GT** = ([2*(4^1)] + [3*(4^0)]) = posição 11\r\n",
        "\r\n",
        "**TA** = ([3*(4^1)] + [0*(4^0)]) = posição 12\r\n",
        "\r\n",
        "**TC** = ([3*(4^1)] + [1*(4^0)]) = posição 13\r\n",
        "\r\n",
        "**TG** = ([3*(4^1)] + [2*(4^0)]) = posição 14\r\n",
        "\r\n",
        "**TT** = ([3*(4^1)] + [3*(4^0)]) = posição 15\r\n",
        "\r\n"
      ]
    },
    {
      "cell_type": "code",
      "metadata": {
        "id": "l7s7kLdE64Sf"
      },
      "source": [
        "def PatternToNumber(Pattern):\r\n",
        "  Pattern = Pattern.upper()\r\n",
        "\r\n",
        "  # criar um dicionário com um sistema quaternário: cada número representa uma base, em ordem alfabética\r\n",
        "  dic = {\"A\": 0,\r\n",
        "         \"C\": 1,\r\n",
        "         \"G\": 2,\r\n",
        "         \"T\": 3}\r\n",
        "\r\n",
        "  pattern_len = len(Pattern)\r\n",
        "\r\n",
        "  # essa variável irá devolver a posição do padrão que estamos procurando. inicializá-la com zero\r\n",
        "  pattern_pos = 0\r\n",
        "  count = 1\r\n",
        "\r\n",
        "  # vai iterando cada base do padrão até calcular sua posição (seguindo a ordem alfabética)\r\n",
        "  for base in Pattern:\r\n",
        "    index = dic[base] * (4**(pattern_len-count))\r\n",
        "    pattern_pos += index\r\n",
        "    count += 1\r\n",
        "  \r\n",
        "  return pattern_pos"
      ],
      "execution_count": 22,
      "outputs": []
    },
    {
      "cell_type": "code",
      "metadata": {
        "colab": {
          "base_uri": "https://localhost:8080/"
        },
        "id": "AQxIRAub-Fvz",
        "outputId": "df6fa79c-b2d0-4d8b-b03b-ebb2fce4be98"
      },
      "source": [
        "Pattern = \"ATGCAA\"\r\n",
        "\r\n",
        "# 0(4^5) + 3(4^4) + 2(4^3) + 1(4^2) + 0(4^1) + 0(4^0)\r\n",
        "\r\n",
        "PatternToNumber(Pattern)"
      ],
      "execution_count": 23,
      "outputs": [
        {
          "output_type": "execute_result",
          "data": {
            "text/plain": [
              "912"
            ]
          },
          "metadata": {
            "tags": []
          },
          "execution_count": 23
        }
      ]
    },
    {
      "cell_type": "markdown",
      "metadata": {
        "id": "YcGnzDvtLnAS"
      },
      "source": [
        "###**NumberToPattern(index, k)**\r\n",
        "\r\n",
        "essa função deve retornar o padrão, dado a posição que o padrão ocupa no nosso dicionário de possíveis kmers e dado o valor de k."
      ]
    },
    {
      "cell_type": "code",
      "metadata": {
        "id": "X3dxZl-EQAs1"
      },
      "source": [
        "def NumberToPattern(index, k):\r\n",
        "\r\n",
        "  dic = {0: \"A\",\r\n",
        "         1: \"C\",\r\n",
        "         2: \"G\",\r\n",
        "         3: \"T\"}\r\n",
        "\r\n",
        "  # lista irá receber os nucleotídeos\r\n",
        "  nt_list = []  \r\n",
        "  count = 1\r\n",
        "  \r\n",
        "  while count <= k:    # a divisão será feita k vezes\r\n",
        "    nt = index % 4    # o número que corresponde ao nt é igual ao resto da divisão\r\n",
        "    index = index // 4    # o novo índice é o quociente da divisão \r\n",
        "    nt_list.append(dic[nt])  # já adiciona o nt à lista\r\n",
        "    count += 1   \r\n",
        "\r\n",
        "  pattern = \"\".join(reversed(nt_list))    # fazer o reversed porque a lista começa pelo último nt\r\n",
        "\r\n",
        "  return pattern"
      ],
      "execution_count": 24,
      "outputs": []
    },
    {
      "cell_type": "code",
      "metadata": {
        "colab": {
          "base_uri": "https://localhost:8080/",
          "height": 35
        },
        "id": "gWmJh7A9RDfA",
        "outputId": "ff45c05d-8fd9-4ae8-c725-a3361c811de7"
      },
      "source": [
        "index = 5437\r\n",
        "k= 7\r\n",
        "\r\n",
        "NumberToPattern(index, k)"
      ],
      "execution_count": 25,
      "outputs": [
        {
          "output_type": "execute_result",
          "data": {
            "application/vnd.google.colaboratory.intrinsic+json": {
              "type": "string"
            },
            "text/plain": [
              "'CCCATTC'"
            ]
          },
          "metadata": {
            "tags": []
          },
          "execution_count": 25
        }
      ]
    },
    {
      "cell_type": "code",
      "metadata": {
        "colab": {
          "base_uri": "https://localhost:8080/",
          "height": 35
        },
        "id": "PhlIkM3fTdnI",
        "outputId": "d6e2b156-c43c-42cb-fd50-8fcaae943025"
      },
      "source": [
        "index = 5437\r\n",
        "k= 8\r\n",
        "\r\n",
        "NumberToPattern(index, k)"
      ],
      "execution_count": 26,
      "outputs": [
        {
          "output_type": "execute_result",
          "data": {
            "application/vnd.google.colaboratory.intrinsic+json": {
              "type": "string"
            },
            "text/plain": [
              "'ACCCATTC'"
            ]
          },
          "metadata": {
            "tags": []
          },
          "execution_count": 26
        }
      ]
    },
    {
      "cell_type": "markdown",
      "metadata": {
        "id": "CfR8skGDUfqa"
      },
      "source": [
        "###**ComputingFrequencies(Text, k)**"
      ]
    },
    {
      "cell_type": "code",
      "metadata": {
        "id": "8R3IpB6tVN8F"
      },
      "source": [
        "# retorna a frequencia de cada kmer dispostos em ordem alfabética\r\n",
        "def ComputingFrequencies(Text, k):\r\n",
        "  text_len = len(Text)\r\n",
        "  n = 4**k   \r\n",
        "\r\n",
        "  # iniciar uma lista com 4^k zeros\r\n",
        "  frequency_array = [0] * n\r\n",
        "\r\n",
        "  # vai calcular a frequência de cada kmer (em ordem alfabética)\r\n",
        "  for pos in range(text_len - k + 1):\r\n",
        "    pattern = Text[pos:pos+k]\r\n",
        "    index = PatternToNumber(pattern)\r\n",
        "    frequency_array[index] += 1   \r\n",
        "\r\n",
        "  return frequency_array\r\n",
        "\r\n"
      ],
      "execution_count": 27,
      "outputs": []
    },
    {
      "cell_type": "code",
      "metadata": {
        "colab": {
          "base_uri": "https://localhost:8080/"
        },
        "id": "T3M3eAcsW9PY",
        "outputId": "55d22191-d6d1-4226-eaf1-9969a20a031b"
      },
      "source": [
        "Text = \"ACGCGGCTCTGAAA\"\r\n",
        "k = 2\r\n",
        "\r\n",
        "ComputingFrequencies(Text, k)\r\n"
      ],
      "execution_count": 28,
      "outputs": [
        {
          "output_type": "execute_result",
          "data": {
            "text/plain": [
              "[2, 1, 0, 0, 0, 0, 2, 2, 1, 2, 1, 0, 0, 1, 1, 0]"
            ]
          },
          "metadata": {
            "tags": []
          },
          "execution_count": 28
        }
      ]
    },
    {
      "cell_type": "code",
      "metadata": {
        "colab": {
          "base_uri": "https://localhost:8080/"
        },
        "id": "3Zd0DnG9X5nD",
        "outputId": "73db6cd6-5f52-4405-e9a7-880ab277ba9a"
      },
      "source": [
        "Text = \"TTACGAATCATTAGGCCCTTTTTTGCGCCCGACTATTCTGGCGTATCCTTTTGCATGGGTAAGCTCATCTCACGAGGCGCGAAATCCCGACCCCATTTGACGAGAGATGTTCATCGAAGGCGGAACAACGGCGTACCGGAAATCTTTCAGGTGCTATCTAACTTGACCCCTGGACCTCCCTGTACCTAGGTATACTGTTGCTATGTTTCAGTCGTATACTATAGGGGCCGTTTGACGGTCACGCGACGACGAGAAAATAGGCCACGGTGCCAGCTGTTCCCGGTGATTAGGATCCTGTTATCATCCAGACGCTACACATCGCACAACACCCGGGGGCGCGGACGCAGTCTAATTTCCCTGTTCCCTCTTCAGGCCCAGGAGGGTTCGTCTAGTCAGGTAGTCATCTGTTAGGAGCGTTCGTATCCGTCGGCGCGTCTTGCCCCCTGGTCTCGATCTACTAGGAGATCTGGAGGAACTGGGAATAGTTTGGCCTGCCGTGGCTTCACGGAAAAGCTACACGACCCGCTCGGCGATAAGGTAAATCTATAACGTGAGGCTGGCCCCAATACGTATAGAATTTTACGATTCTTGGAGGGCCCGTCACCGCTCATATACAAGTCATAGCGTTCTCTTACATGTAGGCCCACGGGTTCTCGTAGAACGCTCTAAGCGTGGCCTGGACCCACATGGTTGTTTTGATAACTTGATGGCCGTTTCTCCTCACCTAGATCCTCTGAGAACTAAGACGCCTTGCCTATGAC\"\r\n",
        "k  = 6\r\n",
        "\r\n",
        "lista = ComputingFrequencies(Text, k) \r\n",
        "\r\n",
        "for item in lista:\r\n",
        "  print(item, end=\" \")"
      ],
      "execution_count": 29,
      "outputs": [
        {
          "output_type": "stream",
          "text": [
            "0 0 0 0 0 0 0 0 0 1 0 0 1 0 0 0 0 0 0 0 0 0 0 0 0 0 0 0 0 0 0 0 0 0 0 0 0 0 0 1 0 0 0 0 0 0 0 0 0 0 1 0 0 1 0 2 0 0 0 0 0 0 0 0 0 1 0 0 0 1 0 0 0 0 0 0 0 0 0 0 0 0 0 0 0 0 0 0 0 0 0 0 0 0 0 0 0 0 0 0 0 0 0 1 0 1 0 0 0 0 1 0 1 0 0 0 0 0 0 0 0 0 1 0 0 0 2 0 0 0 0 0 0 0 1 0 0 0 0 0 0 0 0 0 0 0 0 0 0 0 0 0 0 0 0 1 1 1 0 0 0 0 0 0 0 0 1 0 0 0 0 0 1 0 0 0 0 0 0 0 1 0 0 0 0 0 0 0 0 0 0 0 0 0 0 0 0 0 1 0 0 0 1 1 0 0 0 0 0 0 0 1 0 1 0 0 0 0 0 0 1 0 0 1 0 0 0 0 0 0 0 0 0 0 0 0 0 0 0 0 0 0 0 0 0 0 0 0 0 0 0 0 0 1 0 1 0 0 0 0 1 0 1 0 0 0 0 1 0 0 0 0 0 0 0 1 0 1 0 0 1 0 0 0 0 0 0 0 0 0 0 0 0 0 0 0 0 0 0 0 0 0 0 0 0 0 0 0 0 0 1 0 0 0 1 1 0 0 0 0 0 0 0 0 0 0 0 0 0 0 0 0 0 0 0 0 0 1 0 0 1 0 0 1 0 1 1 0 0 0 0 0 0 0 0 0 0 0 0 1 1 0 0 0 0 0 0 0 0 0 2 0 0 1 0 0 0 0 0 0 0 0 0 0 0 0 0 1 0 1 1 0 2 0 1 0 0 0 0 1 0 0 1 0 0 0 0 1 1 0 0 0 1 1 0 0 1 0 0 0 0 0 1 0 0 0 0 1 0 1 1 0 0 0 0 1 0 0 0 0 1 0 0 0 0 0 0 0 0 0 1 0 0 0 0 0 0 0 1 0 1 0 0 1 0 0 0 0 0 0 0 0 0 0 0 0 0 0 0 0 0 0 0 0 0 0 0 0 0 0 1 0 0 0 0 1 0 0 0 0 0 0 0 0 2 0 0 0 0 0 0 0 1 0 0 0 0 0 1 1 0 0 0 0 0 0 0 1 0 0 0 0 0 0 0 0 0 2 0 0 0 0 0 0 0 0 0 1 0 0 0 0 0 0 0 0 0 0 0 0 0 0 0 0 0 1 0 1 0 0 0 1 0 0 0 0 0 0 0 0 0 0 0 0 0 0 0 0 0 0 0 0 0 0 0 0 0 0 0 0 0 0 0 0 0 0 0 0 0 0 0 0 0 0 0 0 0 0 0 0 0 0 1 2 0 1 0 0 1 0 0 0 0 0 0 1 0 0 0 0 0 1 0 0 0 0 0 0 1 1 1 0 0 1 0 0 0 0 0 0 1 3 0 0 0 1 1 0 0 0 1 0 0 0 0 0 0 1 0 0 0 1 0 0 0 0 0 1 1 0 1 1 0 0 0 0 0 1 0 0 0 0 0 0 0 0 0 0 0 0 0 0 0 0 0 0 0 0 0 0 0 0 1 2 0 0 0 0 0 0 0 1 1 0 0 0 0 0 0 0 0 0 0 0 0 0 0 0 0 0 0 0 0 0 0 0 0 0 0 0 0 0 0 0 0 0 1 0 0 0 0 0 0 0 1 1 0 0 1 0 0 0 0 0 1 0 0 0 0 0 0 0 0 0 0 1 1 0 1 0 1 0 0 0 0 0 1 0 0 1 1 0 0 0 0 1 0 1 0 0 0 0 0 0 0 0 0 0 0 0 0 0 0 0 0 0 0 0 0 0 0 0 0 0 0 1 0 1 0 0 1 0 0 0 1 0 0 0 0 1 0 1 1 1 1 0 0 0 1 0 0 0 0 0 0 0 0 0 0 0 1 1 0 1 1 0 0 0 0 0 1 1 0 0 0 1 0 0 0 0 0 0 0 0 0 0 0 0 0 0 0 0 0 0 0 0 0 0 0 0 0 0 0 0 0 0 0 0 0 0 0 0 0 1 0 0 0 0 0 1 0 0 0 1 0 0 1 0 0 0 0 0 0 0 0 0 0 1 0 1 0 0 0 0 0 0 0 0 0 0 2 0 0 0 0 0 0 0 0 0 0 0 0 0 0 0 0 0 0 0 1 1 0 0 0 0 0 0 0 0 0 0 0 0 0 0 0 0 0 0 0 0 0 1 0 0 1 0 0 0 1 0 0 0 0 0 0 0 0 0 0 0 0 0 0 0 0 0 0 0 0 1 0 0 0 0 0 0 0 0 1 0 0 0 0 0 0 0 0 0 0 0 0 0 0 0 0 0 0 1 0 0 0 1 0 0 0 0 0 0 0 0 0 0 0 0 0 0 0 1 0 0 0 0 0 0 0 0 0 0 0 1 1 0 0 0 0 0 0 0 1 0 0 1 0 0 1 0 0 0 0 1 1 0 0 0 1 0 1 0 1 1 0 0 0 0 0 0 0 0 0 0 0 0 0 0 0 0 0 0 0 0 0 0 0 0 0 0 1 0 0 0 0 0 0 0 0 0 0 0 0 0 0 0 0 0 0 0 0 0 0 0 1 0 0 0 1 0 0 1 0 0 0 0 0 0 1 0 1 0 0 0 0 0 0 0 1 1 0 0 0 0 0 0 0 0 0 0 0 0 0 0 0 0 0 1 0 0 1 0 0 0 0 0 0 0 1 0 0 0 1 1 0 0 0 1 1 0 0 0 0 0 0 0 0 0 0 0 1 1 1 0 0 0 0 0 1 0 0 0 0 0 0 0 0 0 0 0 1 0 0 0 0 0 0 0 0 0 0 0 0 0 1 0 0 0 0 0 0 1 0 0 0 0 0 0 2 0 0 0 0 0 0 1 0 0 0 0 0 1 1 0 0 0 0 0 0 0 0 0 0 0 0 0 0 0 0 0 0 0 0 0 0 1 0 0 0 1 1 0 1 0 0 0 1 0 0 0 0 1 1 0 0 1 0 0 0 1 0 0 0 0 0 0 2 0 0 2 0 0 0 0 0 1 0 0 1 1 0 1 0 0 0 0 0 0 0 0 0 1 0 0 2 2 0 0 0 1 0 0 0 0 0 1 0 1 0 0 0 0 0 0 0 0 0 0 0 0 0 0 0 0 0 0 0 0 0 2 0 0 1 0 0 0 0 0 0 0 0 0 1 0 0 0 1 0 0 0 0 0 1 0 1 0 0 0 1 0 0 0 0 2 0 0 0 0 0 0 0 0 1 0 1 0 0 0 1 0 0 1 0 0 0 1 0 0 0 0 0 0 0 0 1 1 0 0 0 0 0 1 0 0 2 0 0 1 1 0 0 2 0 0 0 0 0 0 0 0 0 1 0 0 0 0 0 2 0 0 0 1 0 0 0 0 0 0 1 0 0 1 0 0 0 0 0 0 0 2 0 0 2 0 0 0 1 0 0 0 1 0 1 0 0 0 0 0 0 1 0 0 0 0 0 0 1 0 0 0 0 0 0 1 0 0 0 0 0 1 0 0 0 0 0 0 1 0 0 0 0 0 0 1 0 0 0 0 0 0 0 0 0 0 1 0 0 0 0 0 0 0 0 1 1 1 0 0 0 0 0 0 1 0 0 0 0 1 0 0 0 1 0 0 1 0 1 1 0 0 0 0 0 0 0 0 2 1 0 0 0 0 1 0 0 0 0 0 0 0 0 0 0 0 0 0 0 0 0 0 1 1 0 1 0 0 0 0 0 0 0 0 0 0 0 0 0 0 1 0 0 0 0 1 0 0 0 0 1 0 0 0 1 1 0 0 0 0 0 0 0 0 0 0 0 1 0 0 1 0 0 0 2 2 0 0 0 1 0 0 0 0 0 0 0 0 1 0 1 0 0 1 0 0 1 0 0 0 0 0 0 2 0 0 0 0 0 0 0 0 0 0 0 0 1 1 0 0 0 0 0 1 1 0 0 0 0 0 0 0 0 1 1 1 0 0 0 0 0 1 0 2 0 0 0 0 0 0 0 0 0 0 1 0 0 0 0 0 0 1 0 0 0 0 1 0 0 1 0 1 0 0 1 0 1 0 0 0 0 1 1 0 0 1 0 1 0 0 0 0 0 0 0 1 1 0 0 0 0 0 1 1 0 0 0 0 0 0 0 0 0 1 0 0 0 0 0 1 0 0 0 0 0 1 0 0 0 0 0 1 0 0 1 0 0 0 1 0 0 0 0 0 0 0 1 0 0 0 1 1 0 0 0 0 0 0 0 0 0 0 1 0 0 0 0 0 0 0 0 0 0 0 0 0 1 0 0 0 0 0 0 0 0 0 0 2 1 0 0 1 1 0 1 0 0 0 0 1 0 0 0 1 0 0 0 0 0 0 0 0 0 0 2 2 1 0 0 0 0 0 1 0 0 0 0 0 0 0 0 0 0 0 0 1 1 0 0 0 0 0 0 0 0 0 0 0 0 0 0 1 0 1 0 2 0 0 1 0 0 0 0 0 0 0 0 0 0 0 1 0 0 0 0 0 0 0 0 0 1 1 0 0 1 1 0 0 0 0 0 0 0 0 0 2 0 0 1 0 0 0 0 0 0 0 0 1 0 0 1 0 1 0 0 0 0 0 0 0 0 0 0 1 0 0 0 0 0 0 0 0 1 0 1 0 0 0 0 0 0 0 0 0 0 1 0 0 0 0 0 0 0 0 0 0 0 0 0 0 0 0 0 0 0 0 1 2 1 0 0 0 0 0 0 1 0 0 0 1 2 0 1 1 0 1 0 0 0 1 0 0 0 0 0 0 0 1 0 0 0 0 0 0 0 0 0 0 0 0 1 1 0 0 0 0 0 0 1 0 0 0 0 1 1 0 0 0 0 0 0 0 0 0 0 0 0 1 0 0 0 0 1 0 0 0 0 0 1 1 0 1 0 1 0 0 0 0 0 0 0 0 0 0 0 0 0 0 0 0 0 0 0 0 0 1 1 0 0 0 0 0 0 0 0 0 0 0 0 0 0 0 0 0 0 0 0 2 0 0 0 0 1 0 1 0 0 0 0 0 0 0 0 0 0 1 0 0 0 0 0 1 0 0 1 0 0 0 0 1 0 0 0 0 0 0 0 0 0 0 0 0 0 0 0 0 0 0 0 0 0 0 0 0 1 0 0 0 0 0 0 0 0 0 0 0 0 0 0 0 0 0 0 0 0 0 0 0 0 0 0 0 0 1 0 0 0 0 0 0 0 0 0 0 0 0 1 0 0 0 0 0 0 0 0 0 0 0 1 0 0 1 0 0 0 0 0 0 0 1 1 0 1 1 0 0 1 0 0 1 0 0 0 1 0 0 0 0 0 0 0 0 0 0 0 0 0 0 1 2 0 0 0 1 0 0 0 0 0 1 1 0 0 0 1 0 1 0 0 0 0 0 1 0 0 0 0 0 1 0 0 0 0 0 0 0 0 1 0 0 1 0 1 1 0 0 0 0 1 1 0 0 0 0 0 0 0 0 0 0 0 0 0 0 0 1 0 1 0 0 0 1 0 0 1 0 0 2 0 0 0 0 0 0 2 0 0 0 0 0 0 0 0 1 1 0 0 0 0 2 0 0 0 0 0 0 1 0 1 0 0 0 0 0 0 0 0 0 0 0 0 1 0 0 0 0 0 1 0 0 0 0 1 0 0 0 0 0 0 0 0 0 0 0 1 0 0 1 1 0 0 1 0 0 0 0 1 0 0 0 0 0 0 0 0 1 0 1 0 1 0 0 0 0 0 0 0 0 0 1 0 0 1 0 1 0 2 0 0 0 0 0 0 0 0 0 0 1 0 0 0 0 0 0 0 0 0 0 0 0 0 0 0 0 0 0 0 0 0 0 0 0 0 0 0 1 0 0 2 1 1 1 0 0 0 2 0 0 2 0 0 0 0 1 0 0 3 0 1 0 0 0 2 0 0 0 0 0 0 0 0 0 0 0 0 0 1 0 0 1 0 0 0 0 0 1 0 0 0 0 0 0 0 0 0 0 0 0 0 0 0 0 0 1 1 0 0 1 0 0 0 0 0 0 0 0 0 0 0 1 1 0 0 1 0 0 0 0 0 0 1 0 0 0 0 0 0 0 0 0 0 0 0 2 0 0 1 0 1 0 0 0 0 0 0 0 0 1 1 0 0 0 0 1 0 0 0 0 0 0 0 0 0 0 0 1 0 0 0 0 0 1 0 1 0 1 0 0 0 0 0 0 0 0 0 0 0 0 0 0 1 1 0 0 0 1 0 0 0 0 0 0 0 1 0 0 0 0 0 1 0 0 0 0 0 0 0 0 0 0 0 0 1 1 0 0 0 0 0 0 0 0 1 0 0 0 0 0 0 0 0 1 0 0 0 1 0 0 0 2 1 0 0 2 0 0 0 0 0 0 0 0 0 0 0 0 0 0 0 1 1 0 0 0 1 0 1 1 0 0 0 0 0 0 0 0 0 0 0 0 0 0 0 0 0 0 0 0 0 0 0 0 0 0 0 1 0 0 1 0 0 0 1 0 1 0 0 0 1 0 0 0 0 0 0 0 1 0 0 0 0 0 0 0 0 0 0 0 1 0 0 0 0 1 0 0 0 0 1 0 0 0 0 0 0 0 1 0 0 0 0 0 0 0 0 1 0 1 0 0 0 0 0 0 0 0 0 0 0 0 0 0 0 0 0 0 0 0 0 0 0 0 0 0 0 0 0 0 0 0 0 0 1 0 0 1 0 0 0 0 0 1 0 2 0 0 0 0 0 2 0 2 0 0 0 0 0 0 0 0 0 1 0 0 0 0 0 0 0 1 0 0 0 0 1 0 0 1 1 0 1 0 0 0 1 0 0 0 0 0 0 0 0 0 0 0 0 0 0 1 0 0 0 0 0 0 0 0 0 0 0 0 0 1 0 0 0 2 0 1 0 0 0 0 1 1 0 0 0 1 0 0 0 0 0 0 0 0 0 0 0 0 0 0 0 0 0 0 0 1 0 0 1 0 1 0 1 0 0 0 0 0 0 0 1 0 0 0 0 0 0 0 0 0 0 0 1 0 1 0 0 0 1 0 0 1 0 0 0 0 0 0 0 0 1 0 0 0 0 0 1 1 0 0 0 0 0 0 0 1 0 0 0 0 0 1 0 1 0 0 0 0 0 0 0 0 0 1 0 0 0 0 0 0 0 0 0 0 0 0 0 1 0 0 0 0 0 0 2 1 0 3 0 0 0 0 1 0 1 0 0 0 0 0 0 0 2 0 0 0 0 0 0 0 0 0 0 1 0 1 0 0 1 0 0 2 1 0 1 0 0 0 0 0 0 0 0 1 0 0 1 1 0 0 0 0 1 0 0 0 0 1 0 0 0 0 0 0 0 0 0 0 0 0 0 1 0 0 0 0 0 0 0 1 0 0 0 0 0 0 0 0 0 0 0 0 0 0 0 0 0 0 0 0 0 0 0 0 0 0 0 0 0 0 1 1 1 1 1 0 0 0 0 0 0 0 0 0 0 0 0 0 0 1 0 2 0 1 0 0 0 0 1 1 0 1 1 2 0 0 0 0 1 0 0 0 0 0 0 0 0 0 0 0 1 0 0 0 0 0 0 0 0 0 0 0 0 0 0 0 1 0 1 0 0 1 2 0 0 0 0 0 0 0 0 0 0 0 0 0 0 1 0 0 0 0 0 0 1 0 0 1 0 0 0 1 0 0 0 1 0 0 1 0 0 0 0 0 0 0 0 0 0 1 0 0 0 1 0 0 0 0 0 0 0 0 0 0 0 0 0 0 0 0 0 0 0 0 2 0 0 0 0 0 0 0 0 0 0 0 1 2 0 0 0 1 0 0 0 0 0 0 0 0 0 1 1 1 0 0 0 1 0 0 0 1 1 0 0 0 0 1 0 0 0 0 0 1 1 0 0 1 0 0 0 1 0 0 1 0 0 0 0 0 1 1 0 0 0 0 0 1 0 1 0 0 1 0 0 0 0 1 1 0 0 1 0 0 0 0 0 0 0 0 0 0 0 0 0 0 0 0 0 0 0 0 0 0 0 1 0 0 1 0 1 0 0 0 0 0 1 0 0 0 0 0 0 0 0 1 0 0 0 0 0 0 1 0 0 0 0 0 0 0 0 0 1 0 1 0 0 0 0 0 0 0 0 0 0 0 0 0 0 0 0 0 1 0 0 0 1 0 0 1 0 0 0 0 0 1 1 0 0 0 0 0 0 0 0 1 0 0 0 0 0 0 0 0 0 0 0 0 0 2 0 0 0 0 0 0 0 0 0 0 0 0 0 0 0 0 0 2 0 0 0 0 2 0 0 0 0 0 0 0 0 0 0 1 1 2 0 0 0 1 0 0 0 1 1 0 0 0 0 0 0 0 0 0 0 0 1 0 0 0 0 0 0 0 0 0 0 1 0 0 0 0 0 0 1 0 0 0 0 0 0 1 0 0 0 0 1 0 0 0 0 0 0 0 0 0 0 0 0 0 0 0 0 0 0 0 0 0 0 0 0 0 0 0 0 0 0 0 0 0 0 0 0 0 0 0 1 1 1 2 0 0 0 1 0 0 0 1 0 1 0 0 0 0 0 0 0 0 0 0 0 0 0 0 0 0 0 0 0 1 0 0 0 0 2 0 0 0 0 0 0 0 0 0 0 0 0 0 0 0 2 1 0 0 0 0 0 0 0 0 0 0 1 0 0 0 0 0 0 0 0 0 0 0 0 0 0 0 0 0 1 0 0 0 2 1 0 1 0 0 0 0 0 0 0 0 1 2 0 0 0 0 0 0 0 0 0 0 0 0 0 0 0 0 0 0 0 0 1 1 0 0 0 0 0 0 0 1 1 1 0 0 1 0 0 0 1 0 0 0 0 0 0 1 2 0 0 0 0 0 1 0 1 0 0 0 0 1 0 1 0 1 0 1 0 0 1 0 0 0 0 0 1 0 0 1 0 0 0 0 0 0 0 0 0 0 0 0 0 0 0 0 0 0 0 0 0 0 0 0 0 1 0 0 0 0 0 0 1 0 0 0 0 0 0 0 0 0 0 0 2 0 0 1 0 0 0 0 0 0 0 1 0 0 0 2 0 1 1 0 1 0 0 1 0 0 0 0 0 0 0 1 0 0 0 0 0 0 1 2 0 0 0 0 1 1 "
          ],
          "name": "stdout"
        }
      ]
    },
    {
      "cell_type": "markdown",
      "metadata": {
        "id": "9XwOMn7Aapuz"
      },
      "source": [
        "###**FasterFrequentWords(Text, k)**\r\n",
        "\r\n",
        "calcula o kmer mais frequente de maneira mais rápida"
      ]
    },
    {
      "cell_type": "code",
      "metadata": {
        "id": "VG3V9P13a8HQ"
      },
      "source": [
        "def FasterFrequentWords(Text, k):\r\n",
        "  n = 4**k    # possibilidades de kmers\r\n",
        "  frequent_pattern = set()\r\n",
        "  frequency_array = ComputingFrequencies(Text, k)\r\n",
        "  max_value = max(frequency_array)\r\n",
        "\r\n",
        "  for i in range(n-1):\r\n",
        "    if frequency_array[i] == max_value:\r\n",
        "      pattern = NumberToPattern(i, k)\r\n",
        "      frequent_pattern.add(pattern)\r\n",
        "\r\n",
        "  return frequent_pattern"
      ],
      "execution_count": 30,
      "outputs": []
    },
    {
      "cell_type": "markdown",
      "metadata": {
        "id": "gDBxrRqydC9N"
      },
      "source": [
        "**Teste**"
      ]
    },
    {
      "cell_type": "code",
      "metadata": {
        "id": "WUMxPG5pcLza",
        "colab": {
          "base_uri": "https://localhost:8080/"
        },
        "outputId": "f942259b-b56d-454f-c1d4-34bc8541abbd"
      },
      "source": [
        "Text = \"TGGTAGCGACGTTGGTCCCGCCGCTTGAGAATCTGGATGAACATAAGCTCCCACTTGGCTTATTCAGAGAACTGGTCAACACTTGTCTCTCCCAGCCAGGTCTGACCACCGGGCAACTTTTAGAGCACTATCGTGGTACAAATAATGCTGCCAC\"\r\n",
        "k = 3\r\n",
        "\r\n",
        "FasterFrequentWords(Text, k)"
      ],
      "execution_count": 31,
      "outputs": [
        {
          "output_type": "execute_result",
          "data": {
            "text/plain": [
              "{'TGG'}"
            ]
          },
          "metadata": {
            "tags": []
          },
          "execution_count": 31
        }
      ]
    },
    {
      "cell_type": "code",
      "metadata": {
        "id": "0zErRRw2c3mP"
      },
      "source": [
        "import timeit"
      ],
      "execution_count": 32,
      "outputs": []
    },
    {
      "cell_type": "code",
      "metadata": {
        "colab": {
          "base_uri": "https://localhost:8080/"
        },
        "id": "I7fbZsgtc5IO",
        "outputId": "d36942fd-648a-4486-d616-54db474f9ee0"
      },
      "source": [
        "# testando o tempo de FasterFrequentWords(Text, k)\r\n",
        "start = timeit.default_timer()\r\n",
        "\r\n",
        "FasterFrequentWords(Text, k)\r\n",
        "\r\n",
        "stop = timeit.default_timer()\r\n",
        "\r\n",
        "print('Time: ', stop - start)"
      ],
      "execution_count": 33,
      "outputs": [
        {
          "output_type": "stream",
          "text": [
            "Time:  0.0006070449999953098\n"
          ],
          "name": "stdout"
        }
      ]
    },
    {
      "cell_type": "code",
      "metadata": {
        "colab": {
          "base_uri": "https://localhost:8080/"
        },
        "id": "cI-g4Ofzc879",
        "outputId": "1954fb05-88be-44dd-b117-abb8bfebe7de"
      },
      "source": [
        "# testando o tempo de FrequentWords(Text, k)\r\n",
        "start = timeit.default_timer()\r\n",
        "\r\n",
        "FrequentWords(Text, k)\r\n",
        "\r\n",
        "stop = timeit.default_timer()\r\n",
        "\r\n",
        "print('Time: ', stop - start)"
      ],
      "execution_count": 34,
      "outputs": [
        {
          "output_type": "stream",
          "text": [
            "Time:  0.018210244999991687\n"
          ],
          "name": "stdout"
        }
      ]
    },
    {
      "cell_type": "markdown",
      "metadata": {
        "id": "Xb8CXEzR6W6k"
      },
      "source": [
        "###**FrequencyTable(Text, k)**\r\n",
        "\r\n",
        "retorna um dicionário onde o kmer é a chave e a sua quantidade é o valor"
      ]
    },
    {
      "cell_type": "code",
      "metadata": {
        "id": "WHDvScAa6kwD"
      },
      "source": [
        "def FrequencyTable(Text, k):\r\n",
        "  freqMap = {}\r\n",
        "  n = len(Text)\r\n",
        "\r\n",
        "  for i in range(n - k + 1):\r\n",
        "    Pattern = Text[i:i+k]   # define o padrão\r\n",
        "    if Pattern in freqMap.keys():   # checa se já existe a chave no dicionário\r\n",
        "      freqMap[Pattern] += 1 \r\n",
        "    else:\r\n",
        "      freqMap[Pattern] = 1\r\n",
        "\r\n",
        "  return freqMap"
      ],
      "execution_count": 35,
      "outputs": []
    },
    {
      "cell_type": "markdown",
      "metadata": {
        "id": "QqOFdoPm8jWf"
      },
      "source": [
        "**Teste**"
      ]
    },
    {
      "cell_type": "code",
      "metadata": {
        "colab": {
          "base_uri": "https://localhost:8080/"
        },
        "id": "S1BRpAI58qE9",
        "outputId": "a49e45fe-54e1-451f-9b94-5ad3934eea29"
      },
      "source": [
        "Text = \"ACGTTTCACGTTTTACGG\"\r\n",
        "k = 3\r\n",
        "\r\n",
        "FrequencyTable(Text, k)\r\n"
      ],
      "execution_count": 36,
      "outputs": [
        {
          "output_type": "execute_result",
          "data": {
            "text/plain": [
              "{'ACG': 3,\n",
              " 'CAC': 1,\n",
              " 'CGG': 1,\n",
              " 'CGT': 2,\n",
              " 'GTT': 2,\n",
              " 'TAC': 1,\n",
              " 'TCA': 1,\n",
              " 'TTA': 1,\n",
              " 'TTC': 1,\n",
              " 'TTT': 3}"
            ]
          },
          "metadata": {
            "tags": []
          },
          "execution_count": 36
        }
      ]
    },
    {
      "cell_type": "markdown",
      "metadata": {
        "id": "c83vuXoJo6c7"
      },
      "source": [
        "###**MaxMap(map)**\r\n",
        "\r\n",
        "Retorna o maior valor do dicionário"
      ]
    },
    {
      "cell_type": "code",
      "metadata": {
        "id": "1b4EkTVMo59u"
      },
      "source": [
        "def MaxMap(map):\r\n",
        "  return max(map.values())"
      ],
      "execution_count": 37,
      "outputs": []
    },
    {
      "cell_type": "markdown",
      "metadata": {
        "id": "tC4e3d44_lgJ"
      },
      "source": [
        "###**BetterFrequentWords(Text, k)**\r\n",
        "\r\n",
        "Otimização da função FrequentWords(Text, k). \r\n",
        "\r\n",
        "Usa o dicionário acima da função acima. \r\n",
        "\r\n",
        "Retorna o(s) kmer(s) mais frequente(s) do DNA."
      ]
    },
    {
      "cell_type": "code",
      "metadata": {
        "id": "ADeSygTt_4Iy"
      },
      "source": [
        "# retorna o maior valor do dicionário\r\n",
        "def MaxMap(map):\r\n",
        "  return max(map.values())\r\n",
        "\r\n",
        "# retorna o(s) kemr(s) mais frequente\r\n",
        "def BetterFrequentWords(Text, k):\r\n",
        "  FrequentPatterns = []\r\n",
        "  freqMap = FrequencyTable(Text, k)   # chamando a função\r\n",
        "  max = MaxMap(freqMap)               # chamando a função\r\n",
        "\r\n",
        "  for Pattern in freqMap.keys():\r\n",
        "    if freqMap[Pattern] == max:\r\n",
        "      FrequentPatterns.append(Pattern)\r\n",
        "  \r\n",
        "  return FrequentPatterns"
      ],
      "execution_count": 38,
      "outputs": []
    },
    {
      "cell_type": "markdown",
      "metadata": {
        "id": "vx0DR9rGB6Cs"
      },
      "source": [
        "**Testes**"
      ]
    },
    {
      "cell_type": "code",
      "metadata": {
        "colab": {
          "base_uri": "https://localhost:8080/"
        },
        "id": "4F-rgfPEB5cc",
        "outputId": "0623463d-e746-4b03-b5d1-cce2440077e7"
      },
      "source": [
        "Text = \"ACGTTGCATGTCGCATGATGCATGAGAGCT\"\r\n",
        "k = 4\r\n",
        "\r\n",
        "BetterFrequentWords(Text, k)"
      ],
      "execution_count": 39,
      "outputs": [
        {
          "output_type": "execute_result",
          "data": {
            "text/plain": [
              "['GCAT', 'CATG']"
            ]
          },
          "metadata": {
            "tags": []
          },
          "execution_count": 39
        }
      ]
    },
    {
      "cell_type": "code",
      "metadata": {
        "colab": {
          "base_uri": "https://localhost:8080/"
        },
        "id": "9IP-hs5sCfmG",
        "outputId": "8fc112b4-2359-40a2-b5b7-091020faa4d9"
      },
      "source": [
        "# checa se a função pega o primeiro kmer\r\n",
        "Text = \"TGGTAGCGACGTTGGTCCCGCCGCTTGAGAATCTGGATGAACATAAGCTCCCACTTGGCTTATTCAGAGAACTGGTCAACACTTGTCTCTCCCAGCCAGGTCTGACCACCGGGCAACTTTTAGAGCACTATCGTGGTACAAATAATGCTGCCAC\"\r\n",
        "k = 3\r\n",
        "\r\n",
        "BetterFrequentWords(Text, k)\r\n",
        "\r\n"
      ],
      "execution_count": 40,
      "outputs": [
        {
          "output_type": "execute_result",
          "data": {
            "text/plain": [
              "['TGG']"
            ]
          },
          "metadata": {
            "tags": []
          },
          "execution_count": 40
        }
      ]
    },
    {
      "cell_type": "code",
      "metadata": {
        "colab": {
          "base_uri": "https://localhost:8080/"
        },
        "id": "8vPKx_JNCrq0",
        "outputId": "da2c6c70-339f-4110-ba5f-3fde93f32386"
      },
      "source": [
        "# checa se a função pega o último kmer\r\n",
        "Text = \"CAGTGGCAGATGACATTTTGCTGGTCGACTGGTTACAACAACGCCTGGGGCTTTTGAGCAACGAGACTTTTCAATGTTGCACCGTTTGCTGCATGATATTGAAAACAATATCACCAAATAAATAACGCCTTAGTAAGTAGCTTTT\"\r\n",
        "k = 4\r\n",
        "\r\n",
        "BetterFrequentWords(Text, k)"
      ],
      "execution_count": 41,
      "outputs": [
        {
          "output_type": "execute_result",
          "data": {
            "text/plain": [
              "['TTTT']"
            ]
          },
          "metadata": {
            "tags": []
          },
          "execution_count": 41
        }
      ]
    },
    {
      "cell_type": "code",
      "metadata": {
        "colab": {
          "base_uri": "https://localhost:8080/"
        },
        "id": "0z4MUTuKC2V-",
        "outputId": "c0392622-f4b7-466c-eb0f-cc8ae628a65d"
      },
      "source": [
        "# checa se a função pega sobreposição de kmers\r\n",
        "Text = \"ATACAATTACAGTCTGGAACCGGATGAACTGGCCGCAGGTTAACAACAGAGTTGCCAGGCACTGCCGCTGACCAGCAACAACAACAATGACTTTGACGCGAAGGGGATGGCATGAGCGAACTGATCGTCAGCCGTCAGCAACGAGTATTGTTGCTGACCCTTAACAATCCCGCCGCACGTAATGCGCTAACTAATGCCCTGCTG\"\r\n",
        "k = 5\r\n",
        "\r\n",
        "BetterFrequentWords(Text, k)"
      ],
      "execution_count": 42,
      "outputs": [
        {
          "output_type": "execute_result",
          "data": {
            "text/plain": [
              "['AACAA']"
            ]
          },
          "metadata": {
            "tags": []
          },
          "execution_count": 42
        }
      ]
    },
    {
      "cell_type": "code",
      "metadata": {
        "colab": {
          "base_uri": "https://localhost:8080/"
        },
        "id": "F9EElAcLDDv4",
        "outputId": "6494a51e-b2e7-4ec7-c82a-385739510aff"
      },
      "source": [
        "# checa se a função pega quando há mais de um kmer mais frequente\r\n",
        "Text = \"CCAGCGGGGGTTGATGCTCTGGGGGTCACAAGATTGCATTTTTATGGGGTTGCAAAAATGTTTTTTACGGCAGATTCATTTAAAATGCCCACTGGCTGGAGACATAGCCCGGATGCGCGTCTTTTACAACGTATTGCGGGGTAAAATCGTAGATGTTTTAAAATAGGCGTAAC\"\r\n",
        "k = 5\r\n",
        "\r\n",
        "BetterFrequentWords(Text, k)"
      ],
      "execution_count": 43,
      "outputs": [
        {
          "output_type": "execute_result",
          "data": {
            "text/plain": [
              "['GGGGT', 'TTTTA', 'AAAAT']"
            ]
          },
          "metadata": {
            "tags": []
          },
          "execution_count": 43
        }
      ]
    },
    {
      "cell_type": "markdown",
      "metadata": {
        "id": "o0CQfpNVDXKr"
      },
      "source": [
        "**Teste com Vibrio cholerae**"
      ]
    },
    {
      "cell_type": "code",
      "metadata": {
        "colab": {
          "base_uri": "https://localhost:8080/"
        },
        "id": "v8NLbL0WDgLj",
        "outputId": "1e479487-d924-42a6-a317-7ea89b336138"
      },
      "source": [
        "Text = \"atcaatgatcaacgtaagcttctaagcatgatcaaggtgctcacacagtttatccacaacctgagtggatgacatcaagataggtcgttgtatctccttcctctcgtactctcatgaccacggaaagatgatcaagagaggatgatttcttggccatatcgcaatgaatacttgtgacttgtgcttccaattgacatcttcagcgccatattgcgctggccaaggtgacggagcgggattacgaaagcatgatcatggctgttgttctgtttatcttgttttgactgagacttgttaggatagacggtttttcatcactgactagccaaagccttactctgcctgacatcgaccgtaaattgataatgaatttacatgcttccgcgacgatttacctcttgatcatcgatccgattgaagatcttcaattgttaattctcttgcctcgactcatagccatgatgagctcttgatcatgtttccttaaccctctattttttacggaagaatgatcaagctgctgctcttgatcatcgtttc\"\r\n",
        "k = 3\r\n",
        "\r\n",
        "BetterFrequentWords(Text, k)"
      ],
      "execution_count": 44,
      "outputs": [
        {
          "output_type": "execute_result",
          "data": {
            "text/plain": [
              "['tga']"
            ]
          },
          "metadata": {
            "tags": []
          },
          "execution_count": 44
        }
      ]
    },
    {
      "cell_type": "code",
      "metadata": {
        "colab": {
          "base_uri": "https://localhost:8080/"
        },
        "id": "6emuRLdbDtYW",
        "outputId": "da1440b3-12b2-4704-f15f-a9db32cf7933"
      },
      "source": [
        "Text = \"atcaatgatcaacgtaagcttctaagcatgatcaaggtgctcacacagtttatccacaacctgagtggatgacatcaagataggtcgttgtatctccttcctctcgtactctcatgaccacggaaagatgatcaagagaggatgatttcttggccatatcgcaatgaatacttgtgacttgtgcttccaattgacatcttcagcgccatattgcgctggccaaggtgacggagcgggattacgaaagcatgatcatggctgttgttctgtttatcttgttttgactgagacttgttaggatagacggtttttcatcactgactagccaaagccttactctgcctgacatcgaccgtaaattgataatgaatttacatgcttccgcgacgatttacctcttgatcatcgatccgattgaagatcttcaattgttaattctcttgcctcgactcatagccatgatgagctcttgatcatgtttccttaaccctctattttttacggaagaatgatcaagctgctgctcttgatcatcgtttc\"\r\n",
        "k = 4\r\n",
        "\r\n",
        "BetterFrequentWords(Text, k)"
      ],
      "execution_count": 45,
      "outputs": [
        {
          "output_type": "execute_result",
          "data": {
            "text/plain": [
              "['atga']"
            ]
          },
          "metadata": {
            "tags": []
          },
          "execution_count": 45
        }
      ]
    },
    {
      "cell_type": "code",
      "metadata": {
        "colab": {
          "base_uri": "https://localhost:8080/"
        },
        "id": "kjgAmiHTEDxL",
        "outputId": "94745182-9e9a-4b5e-fcff-a6d032ec93f2"
      },
      "source": [
        "Text = \"atcaatgatcaacgtaagcttctaagcatgatcaaggtgctcacacagtttatccacaacctgagtggatgacatcaagataggtcgttgtatctccttcctctcgtactctcatgaccacggaaagatgatcaagagaggatgatttcttggccatatcgcaatgaatacttgtgacttgtgcttccaattgacatcttcagcgccatattgcgctggccaaggtgacggagcgggattacgaaagcatgatcatggctgttgttctgtttatcttgttttgactgagacttgttaggatagacggtttttcatcactgactagccaaagccttactctgcctgacatcgaccgtaaattgataatgaatttacatgcttccgcgacgatttacctcttgatcatcgatccgattgaagatcttcaattgttaattctcttgcctcgactcatagccatgatgagctcttgatcatgtttccttaaccctctattttttacggaagaatgatcaagctgctgctcttgatcatcgtttc\"\r\n",
        "k = 9\r\n",
        "\r\n",
        "BetterFrequentWords(Text, k)"
      ],
      "execution_count": 46,
      "outputs": [
        {
          "output_type": "execute_result",
          "data": {
            "text/plain": [
              "['atgatcaag', 'ctcttgatc', 'tcttgatca', 'cttgatcat']"
            ]
          },
          "metadata": {
            "tags": []
          },
          "execution_count": 46
        }
      ]
    },
    {
      "cell_type": "markdown",
      "metadata": {
        "id": "C_3WDUSpFCna"
      },
      "source": [
        "**Testando qual das funções é a mais rápida para achar o kmer mais frequente no DNA**"
      ]
    },
    {
      "cell_type": "code",
      "metadata": {
        "id": "xOlMW4PgFK6j"
      },
      "source": [
        "Text = \"atcaatgatcaacgtaagcttctaagcatgatcaaggtgctcacacagtttatccacaacctgagtggatgacatcaagataggtcgttgtatctccttcctctcgtactctcatgaccacggaaagatgatcaagagaggatgatttcttggccatatcgcaatgaatacttgtgacttgtgcttccaattgacatcttcagcgccatattgcgctggccaaggtgacggagcgggattacgaaagcatgatcatggctgttgttctgtttatcttgttttgactgagacttgttaggatagacggtttttcatcactgactagccaaagccttactctgcctgacatcgaccgtaaattgataatgaatttacatgcttccgcgacgatttacctcttgatcatcgatccgattgaagatcttcaattgttaattctcttgcctcgactcatagccatgatgagctcttgatcatgtttccttaaccctctattttttacggaagaatgatcaagctgctgctcttgatcatcgtttc\"\r\n",
        "k = 9"
      ],
      "execution_count": 47,
      "outputs": []
    },
    {
      "cell_type": "code",
      "metadata": {
        "colab": {
          "base_uri": "https://localhost:8080/"
        },
        "id": "Clui71JxEaZg",
        "outputId": "e2fb7b40-f9a8-4efb-fb01-67061a7b6ee2"
      },
      "source": [
        "# testando o tempo de FrequentWords(Text, k)\r\n",
        "start = timeit.default_timer()\r\n",
        "FrequentWords(Text, k)\r\n",
        "stop = timeit.default_timer()\r\n",
        "print('Time: ', stop - start)"
      ],
      "execution_count": 48,
      "outputs": [
        {
          "output_type": "stream",
          "text": [
            "Time:  0.07865430600000423\n"
          ],
          "name": "stdout"
        }
      ]
    },
    {
      "cell_type": "code",
      "metadata": {
        "colab": {
          "base_uri": "https://localhost:8080/"
        },
        "id": "Mgq06HxZENLG",
        "outputId": "db873dd2-5c91-4a88-df80-fe88f3e36634"
      },
      "source": [
        "# testando o tempo de FasterFrequentWords(Text, k)\r\n",
        "start = timeit.default_timer()\r\n",
        "FasterFrequentWords(Text, k)\r\n",
        "stop = timeit.default_timer()\r\n",
        "print('Time: ', stop - start)"
      ],
      "execution_count": 49,
      "outputs": [
        {
          "output_type": "stream",
          "text": [
            "Time:  0.02729486500001599\n"
          ],
          "name": "stdout"
        }
      ]
    },
    {
      "cell_type": "code",
      "metadata": {
        "colab": {
          "base_uri": "https://localhost:8080/"
        },
        "id": "UndhvRL4Eebl",
        "outputId": "8dde5ac7-5287-434d-b305-48c06ef7916c"
      },
      "source": [
        "# testando o tempo de BetterFrequentWords(Text, k)\r\n",
        "start = timeit.default_timer()\r\n",
        "BetterFrequentWords(Text, k)\r\n",
        "stop = timeit.default_timer()\r\n",
        "print('Time: ', stop - start)"
      ],
      "execution_count": 50,
      "outputs": [
        {
          "output_type": "stream",
          "text": [
            "Time:  0.00044501700000409983\n"
          ],
          "name": "stdout"
        }
      ]
    },
    {
      "cell_type": "markdown",
      "metadata": {
        "id": "Es_Rt2WUJgdi"
      },
      "source": [
        "###**ReverseComplement(Pattern)**\r\n",
        "\r\n",
        "Devolve a fita complementar reversa do DNA"
      ]
    },
    {
      "cell_type": "code",
      "metadata": {
        "id": "16AHlI-1Jwxw"
      },
      "source": [
        "def ReverseComplement(Pattern):\r\n",
        "\r\n",
        "  reversecomplement = ''\r\n",
        "\r\n",
        "  complement = {\"A\": \"T\",\r\n",
        "                \"T\": \"A\",\r\n",
        "                \"C\": \"G\",\r\n",
        "                \"G\": \"C\"}\r\n",
        "\r\n",
        "  for base in Pattern[::-1]:\r\n",
        "    reversecomplement += complement[base]\r\n",
        "\r\n",
        "  return reversecomplement\r\n"
      ],
      "execution_count": 51,
      "outputs": []
    },
    {
      "cell_type": "markdown",
      "metadata": {
        "id": "vgU2eF3NKjth"
      },
      "source": [
        "**Testes**"
      ]
    },
    {
      "cell_type": "code",
      "metadata": {
        "colab": {
          "base_uri": "https://localhost:8080/",
          "height": 35
        },
        "id": "x_njCWn9KBqn",
        "outputId": "082c1380-4841-417a-e1f0-2e9147eb1db1"
      },
      "source": [
        "Pattern = \"AAAACCCGGT\"\r\n",
        "\r\n",
        "ReverseComplement(Pattern)\r\n"
      ],
      "execution_count": 52,
      "outputs": [
        {
          "output_type": "execute_result",
          "data": {
            "application/vnd.google.colaboratory.intrinsic+json": {
              "type": "string"
            },
            "text/plain": [
              "'ACCGGGTTTT'"
            ]
          },
          "metadata": {
            "tags": []
          },
          "execution_count": 52
        }
      ]
    },
    {
      "cell_type": "code",
      "metadata": {
        "colab": {
          "base_uri": "https://localhost:8080/",
          "height": 35
        },
        "id": "mfQ9WHgWKrcW",
        "outputId": "3b100077-a85e-4301-dd4b-462a17cf88b6"
      },
      "source": [
        "Pattern = \"ACACAC\"\r\n",
        "\r\n",
        "ReverseComplement(Pattern)\r\n"
      ],
      "execution_count": 53,
      "outputs": [
        {
          "output_type": "execute_result",
          "data": {
            "application/vnd.google.colaboratory.intrinsic+json": {
              "type": "string"
            },
            "text/plain": [
              "'GTGTGT'"
            ]
          },
          "metadata": {
            "tags": []
          },
          "execution_count": 53
        }
      ]
    },
    {
      "cell_type": "markdown",
      "metadata": {
        "id": "YmVoVAugLHpj"
      },
      "source": [
        "###**PatternMatching(Pattern, Genome)**\r\n",
        "\r\n",
        "retorna as posições onde o padrão se encontra no genoma"
      ]
    },
    {
      "cell_type": "code",
      "metadata": {
        "id": "shGOl8MELWTW"
      },
      "source": [
        "def PatternMatching(Pattern, Genome):\r\n",
        "  t = len(Genome)\r\n",
        "  k = len(Pattern)\r\n",
        "  positions = []\r\n",
        "\r\n",
        "  for pos in range(t - k + 1):\r\n",
        "    if Genome[pos:pos+k] == Pattern:\r\n",
        "      positions.append(pos)\r\n",
        "\r\n",
        "  return positions\r\n"
      ],
      "execution_count": 54,
      "outputs": []
    },
    {
      "cell_type": "markdown",
      "metadata": {
        "id": "MY3YE7DcMQmm"
      },
      "source": [
        "**Testes**"
      ]
    },
    {
      "cell_type": "code",
      "metadata": {
        "colab": {
          "base_uri": "https://localhost:8080/"
        },
        "id": "FmcAoYemMIqE",
        "outputId": "2ea60eac-5c3a-41c3-b845-52aeef5e0f5d"
      },
      "source": [
        "Genome = \"TTTTACACTTTTTTGTGTAAAAA\"\r\n",
        "Pattern = \"ACAC\"\r\n",
        "\r\n",
        "PatternMatching(Pattern, Genome)"
      ],
      "execution_count": 55,
      "outputs": [
        {
          "output_type": "execute_result",
          "data": {
            "text/plain": [
              "[4]"
            ]
          },
          "metadata": {
            "tags": []
          },
          "execution_count": 55
        }
      ]
    },
    {
      "cell_type": "code",
      "metadata": {
        "colab": {
          "base_uri": "https://localhost:8080/"
        },
        "id": "vmatVluqMhQ4",
        "outputId": "c9dc6fb2-c2f1-4f59-ea33-2283426924ea"
      },
      "source": [
        "# checa se pega o padrão do começo\r\n",
        "Genome = \"AAAGAGTGTCTGATAGCAGCTTCTGAACTGGTTACCTGCCGTGAGTAAATTAAATTTTATTGACTTAGGTCACTAAATACTTTAACCAATATAGGCATAGCGCACAGACAGATAATAATTACAGAGTACACAACATCCAT\"\r\n",
        "Pattern = \"AAA\"\r\n",
        "\r\n",
        "PatternMatching(Pattern, Genome)\r\n",
        "\r\n"
      ],
      "execution_count": 56,
      "outputs": [
        {
          "output_type": "execute_result",
          "data": {
            "text/plain": [
              "[0, 46, 51, 74]"
            ]
          },
          "metadata": {
            "tags": []
          },
          "execution_count": 56
        }
      ]
    },
    {
      "cell_type": "code",
      "metadata": {
        "colab": {
          "base_uri": "https://localhost:8080/"
        },
        "id": "-AMjel8xMr-S",
        "outputId": "205a565e-6937-4561-eccd-8acff59c5fe7"
      },
      "source": [
        "# checa se pega o padrão do final\r\n",
        "Genome = \"AGCGTGCCGAAATATGCCGCCAGACCTGCTGCGGTGGCCTCGCCGACTTCACGGATGCCAAGTGCATAGAGGAAGCGAGCAAAGGTGGTTTCTTTCGCTTTATCCAGCGCGTTAACCACGTTCTGTGCCGACTTT\"\r\n",
        "Pattern = \"TTT\"\r\n",
        "\r\n",
        "PatternMatching(Pattern, Genome)"
      ],
      "execution_count": 57,
      "outputs": [
        {
          "output_type": "execute_result",
          "data": {
            "text/plain": [
              "[88, 92, 98, 132]"
            ]
          },
          "metadata": {
            "tags": []
          },
          "execution_count": 57
        }
      ]
    },
    {
      "cell_type": "code",
      "metadata": {
        "colab": {
          "base_uri": "https://localhost:8080/"
        },
        "id": "Y32hSsKCM7ou",
        "outputId": "3b69aef3-89f2-405f-9c8c-f7f28a23dc26"
      },
      "source": [
        "# checa se pega sobreposições de padrões\r\n",
        "Genome = \"ATATATA\"\r\n",
        "Pattern = \"ATA\"\r\n",
        "\r\n",
        "PatternMatching(Pattern, Genome)"
      ],
      "execution_count": 58,
      "outputs": [
        {
          "output_type": "execute_result",
          "data": {
            "text/plain": [
              "[0, 2, 4]"
            ]
          },
          "metadata": {
            "tags": []
          },
          "execution_count": 58
        }
      ]
    },
    {
      "cell_type": "markdown",
      "metadata": {
        "id": "gLFkELNpN9DQ"
      },
      "source": [
        "###**FindClumps(Text, k, l, t)**\r\n",
        "\r\n",
        "Retorna os padrões de tamanho k presentes t vezes em uma janela de leitura de tamanho L no genoma"
      ]
    },
    {
      "cell_type": "code",
      "metadata": {
        "id": "6a-a7kxdOSaP"
      },
      "source": [
        "def FindClump(Text, k, L, t):\r\n",
        "  Patterns = []\r\n",
        "  n = len(Text)\r\n",
        "  \r\n",
        "  for pos in range(n - L + 1):\r\n",
        "    Window = Text[pos:pos+L]\r\n",
        "    freqMap = FrequencyTable(Window, k)   # chamando a função\r\n",
        "    for key in freqMap.keys():\r\n",
        "      if freqMap[key] >= t:\r\n",
        "        Patterns.append(key)\r\n",
        "    \r\n",
        "  return set(Patterns)"
      ],
      "execution_count": 59,
      "outputs": []
    },
    {
      "cell_type": "markdown",
      "metadata": {
        "id": "j6s47uRmPt4B"
      },
      "source": [
        "**Testes**"
      ]
    },
    {
      "cell_type": "code",
      "metadata": {
        "colab": {
          "base_uri": "https://localhost:8080/"
        },
        "id": "Cbkt26MdPveF",
        "outputId": "78782e9c-e341-4f4c-fe2e-dbd7cffa8ecc"
      },
      "source": [
        "# checa se a função conta os padrões que estão completamente dentro da janela\r\n",
        "Text = \"AAAACGTCGAAAAA\"\r\n",
        "k = 2\r\n",
        "L = 4\r\n",
        "t = 2\r\n",
        "\r\n",
        "FindClump(Text, k, L, t)"
      ],
      "execution_count": 60,
      "outputs": [
        {
          "output_type": "execute_result",
          "data": {
            "text/plain": [
              "{'AA'}"
            ]
          },
          "metadata": {
            "tags": []
          },
          "execution_count": 60
        }
      ]
    },
    {
      "cell_type": "code",
      "metadata": {
        "colab": {
          "base_uri": "https://localhost:8080/"
        },
        "id": "9jrPmsyCQkKT",
        "outputId": "403385fc-2362-4c22-d225-becb248bef4f"
      },
      "source": [
        "# checa kmers de tamanho 1\r\n",
        "Text = \"ACGTACGT\"\r\n",
        "k = 1\r\n",
        "L = 5\r\n",
        "t = 2\r\n",
        "\r\n",
        "FindClump(Text, k, L, t)"
      ],
      "execution_count": 61,
      "outputs": [
        {
          "output_type": "execute_result",
          "data": {
            "text/plain": [
              "{'A', 'C', 'G', 'T'}"
            ]
          },
          "metadata": {
            "tags": []
          },
          "execution_count": 61
        }
      ]
    },
    {
      "cell_type": "code",
      "metadata": {
        "colab": {
          "base_uri": "https://localhost:8080/"
        },
        "id": "qrqENF-dUaUT",
        "outputId": "981ca166-22c9-4960-96f7-518ded4c0988"
      },
      "source": [
        "# chaca kmers sobrepostos\r\n",
        "Text = \"CCACGCGGTGTACGCTGCAAAAAGCCTTGCTGAATCAAATAAGGTTCCAGCACATCCTCAATGGTTTCACGTTCTTCGCCAATGGCTGCCGCCAGGTTATCCAGACCTACAGGTCCACCAAAGAACTTATCGATTACCGCCAGCAACAATTTGCGGTCCATATAATCGAAACCTTCAGCATCGACATTCAACATATCCAGCG\"\r\n",
        "k = 3\r\n",
        "L = 25\r\n",
        "t = 3\r\n",
        "\r\n",
        "FindClump(Text, k, L, t)"
      ],
      "execution_count": 62,
      "outputs": [
        {
          "output_type": "execute_result",
          "data": {
            "text/plain": [
              "{'AAA', 'CAG', 'CAT', 'CCA', 'GCC', 'TTC'}"
            ]
          },
          "metadata": {
            "tags": []
          },
          "execution_count": 62
        }
      ]
    },
    {
      "cell_type": "code",
      "metadata": {
        "colab": {
          "base_uri": "https://localhost:8080/"
        },
        "id": "9_OEZoxtUukV",
        "outputId": "1129380f-71ef-405c-cdb1-abbb484caee0"
      },
      "source": [
        "Text = \"CGGACTCGACAGATGTGAAGAACGACAATGTGAAGACTCGACACGACAGAGTGAAGAGAAGAGGAAACATTGTAA\"\r\n",
        "k = 5\r\n",
        "L= 50\r\n",
        "t = 4\r\n",
        "\r\n",
        "FindClump(Text, k, L, t)"
      ],
      "execution_count": 63,
      "outputs": [
        {
          "output_type": "execute_result",
          "data": {
            "text/plain": [
              "{'CGACA', 'GAAGA'}"
            ]
          },
          "metadata": {
            "tags": []
          },
          "execution_count": 63
        }
      ]
    },
    {
      "cell_type": "code",
      "metadata": {
        "colab": {
          "base_uri": "https://localhost:8080/"
        },
        "id": "YsvSRytqruLY",
        "outputId": "2ef03c4f-1da4-4344-b183-9c816e378822"
      },
      "source": [
        "Text = \"gatcagcataagggtccCTGCAATGCATGACAAGCCTGCAGTtgttttac\".upper()\r\n",
        "k = 4\r\n",
        "L = 25\r\n",
        "t = 3\r\n",
        "\r\n",
        "FindClump(Text, k, L, t)\r\n"
      ],
      "execution_count": 64,
      "outputs": [
        {
          "output_type": "execute_result",
          "data": {
            "text/plain": [
              "{'TGCA'}"
            ]
          },
          "metadata": {
            "tags": []
          },
          "execution_count": 64
        }
      ]
    },
    {
      "cell_type": "code",
      "metadata": {
        "colab": {
          "base_uri": "https://localhost:8080/"
        },
        "id": "W7Z8i2WYsCM1",
        "outputId": "64c522c6-5f07-429c-ebeb-7423f1c03243"
      },
      "source": [
        "Text = \"GCGGTTATGCACCGTTCAAATTAGCAAACCACTAAGCGACGTAGTCTGGATTGATTTCTCCCTACCAGTGACCCAAGACGCGTTAGTGAGTTAAGTTCATATCCAGTACCTGCCGCCCTCTGTACTTGGGCGTCCGATTCGCATGCTTACTCAGGTGGAGGACACGATAATCTGATTAAACTGAGCTAAACCAGGTGGAACCAGAAACCAGGTGGGGAGTCTCGCTTCAAGCCGTTCTTGCGATCAAACCAGGTGGTCCATTATGAAACCAGGTGGCTAAACCAGGTGGTCCAGATCCTCGAATGATGTCGGTGCACATCAAAACCAGGTGGGGTGGTGGAACGTAAAACCAGGTGGCATAAACCAGGTGGGCCGGTTCGTAAACCAGGTGAAACCAGGTGGGGTGGAAACCAGGTGGGTTACAAATTACGTTGAGATGGCCCAAACCAGGTGGTGGGCTTCACCCATGTCAACAAACCACCCTATGGAACTAAACCAGGTGGAACCAGGTGGTGAAGGCTTATCCTCAGGAAAAACCAGGTGGAGGTGGTGAAATAAAACCAGGTGGACCAGGTGGATAACCCTCGCCTCGCTTCTCAACCGAGACCTGGATAAACCAGGTGGGGTGGTCCACCGATTTTTGAGACACTAGAAACCAGGTGGGCGGGGAAACCAGGTGGCAAACCAGGTGGGGTGGACGGAAACCAGGTGGATATGTCATAAAACCAAACCAGGTGGTGCACCCCCATGGTGTGTCTTATCCGTGCGTATAAACCAGGTGGTCGCACGGCTTCCACTTGCTGAGAATAGGCCCGCAGGGTCAGTGCCATGCCCTCCGTCACTCGATATGTGTTGTAAGAGTGGTTACCCCTTCATTGAAGTCGCCCACAGCCCCACCTGCATTGCTAGACTATCACCCTACAGTAGGCCTTTTCGCCTTCTTCAAGCAGCAATCTCTTATCCGCGGATGGGCGCGGCGAGCGTGGCGTCCCCGAACATTTTTACCTAACGTGTTTTGTTGGCCGCAAGCCTTCCCTCTAGTCCACCTCAGCCATTCAGCCTAGTAGCTTTCAAGCCGAGCCTTCCATATCTAATGGACCGTCCAGAATTTCACACGTTTCACAGGGCTGTGTTCGACCGCCCGTAATGCTGTTTCACAGGCGATCGCCTTGCGGTTTTTTCACAGATCGCAGCCGATGGACATGCCAACTCGATTTTCACAGAGTTTTTCACAGCGGTTTCACAGCACAGCAGTGATTGTTTCACAGCAATTTTCACTTTCACAGGGGCCCTTTTCACAGCTCAGGGCTCTTTTCACTTTCACAGTTTCACAGCGCTCCTTTCACAGAGCGGGGAAATTTAAGGGAACACTCAAGGGAACAAGGGAACACACAAAGGGAACACAACACAACACATAAGGGAACACTTTCACAGAACACAAAAGTCCGAAATCATCAGCGGCGAAGGGATTTCACAGACAGACACTTTCACAGCGCATTTCACAGATACGTACTTTCACAGGCGTACTTTCACAGACTTTCACAGAGGACAAGCTCAATTTTCACAGACAGGCTGGATAAATTTCACAGCGGTAAGGGTTTCACAGCACACATAAGGGAACACGAATTTCACAGCAGGGAACACCTCTACGAGTAATCTATTACTCTACCTACTGAAGGGAACACACCGAAGACCTACTATTACCTATTACTCTTAAAGGGAACACATTACAAGGGAACACACTCTCTCGTCATATCTCACCTCTCTATTACTCTTAAGGGAACACCTTCTCGATCAACCTATTACTCTATGGAGATAGAGATATTCCAGACATATGGAGATAACATGGAGATATGGAGATAATGGAGATGGAGATAGCTCTTATATTTATCCTATGGAGATATGATACTATTAATGGAGATAATTCTAATGGAGATATAATTACTCTAAGAGGATGGGATCTCGGGCTATTACTCTAATGGAGATAAGCACTATTACTCTAGGAAATGGAGATATGTCAATGGAGATATGTAATGGAGATAGAGGGAGATGGAGTCGCCATTTCATAATCGCCATTTCATAGTTCAGGAATCGCCATTTCCGCCATTTCTAAGATGGAGTCGCCATTTCTACGTATGGAGATAGGATCGCCATTTCATACGACCCGTTGGATATCGCCATTTCCTCGCCATTTCTGGTGACATTTCTCGCCATTTCATTTCTGGAGATAGATGGATCTCGCCATTTCATAGGAATCGCCATTTCCACGTAGGGGGGGCCACAATCCGTAGGTCGGAATTCAGACTCGCCATTTCCCATCGCCATTTCTTCACCTGTATGCCGATCCCTTCGCCATTTCTCATGGAGATAACTCTCTCTCGCCATTTCTCGCCATTTCCATTTCACTCTCATTCGCCATCGCCATTTCCATTCGCCATTTCATCGCCATTTCTTCAGGATAAGATATCGCCATTTCGACTCTCATTCGCATACTGACTCTCATTCTCATCTCGCCATTTCTCATCTGACTCTCATCCTGGGGGAAACTTGCGACTCTCATCACACTTCCGTCGACTCTCATACTGGCGGATAGCATAGGAGCCATTTAAAGACTCTCATTCTCATTCGAGACTCTCATTCAAATCCTACGAGGACTCTCATATAGACTCTCATATCATTACGAGGACTCTCATATACGAGCCATGCATGTGGCGACGACTCTCATCTACGAGCCATGCAAGCAGAATCTACGAGCGACTCTCATTACGAGCCATGTGACCGTACGAGCCATGCATGCATGCCATGCTGACTCTCATCGAGTACGAGCCATGGAAGTTCTTGTTGGTTCGTAGCCCAAGAGCTGAAGTTACGAGCCTACGAGCCATGAAGTTACTTTTACGAGCCATGAAGCTTACGATACGAGCCATGCGAGCCATGCATCCGCGCTACGAGCCATGTTCCAGTACGAGCCATGTTAGTTGCTGAAGTTAAGTTTGGCGCTGAAGTTTGTACGAGCCATGTGCCCGCTGAAGTTTGTTGTACGAGCCATGCATGCTGAAGTTAATGGCTGAAGTTAGCGTTTGCGGGCAGATCCTCATTCTACGATACGAGCCATGCCATGCAGCTGAAGTTAAGTTGGGTTACGAGCCATGCGAGCCATGTGAAGTACGAGCCATGCTGGCTGAAGTTGTTTGTGCTGCTGAAGTTGCTCTTGTCTCTAGCTGAAGTTGCCAACAGGGCTGAAGCTGAAGTTTAAGCTGAAGTTGCGAGCAGGCTGAAGTTATCGGATTGGGGCTGAAGTTCAACCTCCCGTCCCCCCACACTATATTCCCGTCCCCCCCCGCGCACGCGCCGTCTCCCGTCCCCCCTATCCCGTGCGCACGCGACGCGATCCCGTCCCCCCAGAGTGCGCGCACGCGTCCCCCTTCCCGTCCCCCTCTCCCGGGCGCACGCGTCGCTCAACATTTCCGCGCACGCGTCGCGCACGCGGGCGCACGCGGGTCCCGTCCCCCCCCCTCTTCGGCGCACGCGGAATTCCCGTCGCGCACGCGTCCCGTCCCGCGCACGCGTCGCGCACGCGACTGCCCTAACCAACAGTGCGCACGCGCCGGTAACCCGGTAACCCGGTAACCGCGCACGCGGGCGCACGCGCGTAACCCGCGCACGCGCCGCGCACGCGGCCCGGTTCCCGTCCCCCCCGGTAACCCGGTAACTCCCGTCCCCCGTAACCCGGTGCGCACGCGCCCGGCGCACGCGGAGCGCACGCGCCCCCCCCGGTAATAGCGCACGCGCCCGGGCGCACGCGCCCGGTAACCCGGTAACCCGGGCGCGCGCACGCGGCGGCGCACGCGGCGCACGCGGCGCACGCG\"\r\n",
        "k = 11\r\n",
        "L = 566\r\n",
        "t = 18\r\n",
        "\r\n",
        "FindClump(Text, k, L, t)"
      ],
      "execution_count": 65,
      "outputs": [
        {
          "output_type": "execute_result",
          "data": {
            "text/plain": [
              "{'AAACCAGGTGG'}"
            ]
          },
          "metadata": {
            "tags": []
          },
          "execution_count": 65
        }
      ]
    },
    {
      "cell_type": "markdown",
      "metadata": {
        "id": "g_XgrOel4SH_"
      },
      "source": [
        "##**Week 2**"
      ]
    },
    {
      "cell_type": "markdown",
      "metadata": {
        "id": "XjM-28P_BQB1"
      },
      "source": [
        "A **fita contínua** (ou reverse, 3'-5') possui **maior quantidade de citosina**, visto que sua fita-filha será sintetizada continuamente (todo tempo como uma fita dupla, evita deaminação das citosinas, por isso tem maior quantidade de C).\r\n",
        "\r\n",
        "A **fita descontínua** (ou forward, 5'-3') possui **menor quantidade de citosina**, visto que sua fita-filha será sintetizada descontinuamente (maior parte do tempo permanece como fita simples, maior probabilidade de deaminação de suas citosinas, por isso possui menos C).\r\n",
        "\r\n",
        "Se estivermos lendo o DNA no sentido 5'-3', numa região com alta quantidade de citosinas (baixo #G - #C) e de repente a quantidade de citosinas diminuir (alto #G - #C), significa que estamos/passamos a Origem de replicação (Ori)."
      ]
    },
    {
      "cell_type": "markdown",
      "metadata": {
        "id": "SxaK1fvuDsC_"
      },
      "source": [
        "###**Skew(Genome)**\r\n",
        "\r\n",
        "retorna a diferença entre C e G nos primeiros i nucleotídeos do genoma"
      ]
    },
    {
      "cell_type": "code",
      "metadata": {
        "id": "RSwltfgC4cF9"
      },
      "source": [
        "def Skew(Genome):\r\n",
        "  sk = [0]    # lista inicia com zero\r\n",
        "  t = len(Genome)\r\n",
        "\r\n",
        "  for pos in range(t):\r\n",
        "    if Genome[pos] == \"G\":\r\n",
        "      sk.append(sk[pos]+1)    # 'pos' retorna o valor anterior da lista\r\n",
        "    elif Genome[pos] == \"C\":\r\n",
        "      sk.append(sk[pos]-1)\r\n",
        "    else:\r\n",
        "      sk.append(sk[pos])    # mantem o mesmo valor anterior \r\n",
        "\r\n",
        "  return sk"
      ],
      "execution_count": 66,
      "outputs": []
    },
    {
      "cell_type": "markdown",
      "metadata": {
        "id": "mrcQht9VIdeB"
      },
      "source": [
        "**Testes**"
      ]
    },
    {
      "cell_type": "code",
      "metadata": {
        "colab": {
          "base_uri": "https://localhost:8080/"
        },
        "id": "x8lSQtszIaY7",
        "outputId": "73f2148c-4651-4ff8-d372-2fe68913b6bf"
      },
      "source": [
        "Genome = \"CATGGGCATCGGCCATACGCC\"\r\n",
        "\r\n",
        "Skew(Genome)"
      ],
      "execution_count": 67,
      "outputs": [
        {
          "output_type": "execute_result",
          "data": {
            "text/plain": [
              "[0, -1, -1, -1, 0, 1, 2, 1, 1, 1, 0, 1, 2, 1, 0, 0, 0, 0, -1, 0, -1, -2]"
            ]
          },
          "metadata": {
            "tags": []
          },
          "execution_count": 67
        }
      ]
    },
    {
      "cell_type": "code",
      "metadata": {
        "colab": {
          "base_uri": "https://localhost:8080/"
        },
        "id": "y8_S7RvpIhSF",
        "outputId": "d201c4f1-e707-4b36-a12a-db87a2afc39e"
      },
      "source": [
        "Genome = \"GAGCCACCGCGATA\"\r\n",
        "\r\n",
        "Skew(Genome)"
      ],
      "execution_count": 68,
      "outputs": [
        {
          "output_type": "execute_result",
          "data": {
            "text/plain": [
              "[0, 1, 1, 2, 1, 0, 0, -1, -2, -1, -2, -1, -1, -1, -1]"
            ]
          },
          "metadata": {
            "tags": []
          },
          "execution_count": 68
        }
      ]
    },
    {
      "cell_type": "markdown",
      "metadata": {
        "id": "FY9EoTjwMWfs"
      },
      "source": [
        "### **MinimumSkew(genome)**\r\n",
        "\r\n",
        "retorna a posição no DNA em que o skew atinge o menor valor"
      ]
    },
    {
      "cell_type": "code",
      "metadata": {
        "id": "o4__yoqhIwLh"
      },
      "source": [
        "def MinimumSkew(Genome):\r\n",
        "  index = {0: 0}    # dicionário com a posição o seu valor de skew\r\n",
        "  t = len(Genome)\r\n",
        "\r\n",
        "  for pos in range(t):\r\n",
        "    if Genome[pos] == \"G\":\r\n",
        "      index[pos+1] = index[pos]+1\r\n",
        "      \r\n",
        "    elif Genome[pos] == \"C\":\r\n",
        "      index[pos+1] = index[pos]-1\r\n",
        "\r\n",
        "    else:\r\n",
        "      index[pos+1] = index[pos]\r\n",
        "\r\n",
        "  minimun = min(index.values())   # menor skew\r\n",
        "  min_index = []\r\n",
        "\r\n",
        "  for key in index.keys():\r\n",
        "    if index[key] == minimun:   # pega a chave que tem o menor skew\r\n",
        "      min_index.append(key)\r\n",
        "\r\n",
        "  return min_index"
      ],
      "execution_count": 69,
      "outputs": []
    },
    {
      "cell_type": "markdown",
      "metadata": {
        "id": "ePdaSPm9NiLX"
      },
      "source": [
        "**Testes**"
      ]
    },
    {
      "cell_type": "code",
      "metadata": {
        "colab": {
          "base_uri": "https://localhost:8080/"
        },
        "id": "_4-otUruNjx8",
        "outputId": "8605eb8f-d1f2-49fe-b071-66e397adb190"
      },
      "source": [
        "Genome = \"TAAAGACTGCCGAGAGGCCAACACGAGTGCTAGAACGAGGGGCGTAAACGCGGGTCCGAT\"\r\n",
        "\r\n",
        "MinimumSkew(Genome)"
      ],
      "execution_count": 70,
      "outputs": [
        {
          "output_type": "execute_result",
          "data": {
            "text/plain": [
              "[11, 24]"
            ]
          },
          "metadata": {
            "tags": []
          },
          "execution_count": 70
        }
      ]
    },
    {
      "cell_type": "code",
      "metadata": {
        "colab": {
          "base_uri": "https://localhost:8080/"
        },
        "id": "QLa4T3G-NlyP",
        "outputId": "556081f5-0600-4bd8-f1b4-612bc68691de"
      },
      "source": [
        "Genome = \"ACCG\"\r\n",
        "\r\n",
        "MinimumSkew(Genome)"
      ],
      "execution_count": 71,
      "outputs": [
        {
          "output_type": "execute_result",
          "data": {
            "text/plain": [
              "[3]"
            ]
          },
          "metadata": {
            "tags": []
          },
          "execution_count": 71
        }
      ]
    },
    {
      "cell_type": "code",
      "metadata": {
        "colab": {
          "base_uri": "https://localhost:8080/"
        },
        "id": "yyehN3YyPFg4",
        "outputId": "d1ce3655-4036-4a18-b8ec-33846836da6d"
      },
      "source": [
        "Genome = \"ACCC\"\r\n",
        "\r\n",
        "MinimumSkew(Genome)"
      ],
      "execution_count": 72,
      "outputs": [
        {
          "output_type": "execute_result",
          "data": {
            "text/plain": [
              "[4]"
            ]
          },
          "metadata": {
            "tags": []
          },
          "execution_count": 72
        }
      ]
    },
    {
      "cell_type": "code",
      "metadata": {
        "colab": {
          "base_uri": "https://localhost:8080/"
        },
        "id": "6ZWPrR-2PI1E",
        "outputId": "78046d26-a192-49c8-8d02-ae78af37a900"
      },
      "source": [
        "Genome = \"CCGGGT\"\r\n",
        "\r\n",
        "MinimumSkew(Genome)"
      ],
      "execution_count": 73,
      "outputs": [
        {
          "output_type": "execute_result",
          "data": {
            "text/plain": [
              "[2]"
            ]
          },
          "metadata": {
            "tags": []
          },
          "execution_count": 73
        }
      ]
    },
    {
      "cell_type": "code",
      "metadata": {
        "colab": {
          "base_uri": "https://localhost:8080/"
        },
        "id": "4YwMPKw1PQsw",
        "outputId": "8da6c19e-e542-483f-ed55-fadd64023f68"
      },
      "source": [
        "Genome = \"CCGGCCGG\"\r\n",
        "\r\n",
        "MinimumSkew(Genome)"
      ],
      "execution_count": 74,
      "outputs": [
        {
          "output_type": "execute_result",
          "data": {
            "text/plain": [
              "[2, 6]"
            ]
          },
          "metadata": {
            "tags": []
          },
          "execution_count": 74
        }
      ]
    },
    {
      "cell_type": "code",
      "metadata": {
        "id": "DH2ZVmstQ3u7"
      },
      "source": [
        "# arquivo = open(\"/content/dataset_7_6 (1).txt\")\r\n",
        "# Genome = arquivo.read()\r\n",
        "\r\n",
        "# MinimumSkew(Genome)"
      ],
      "execution_count": 75,
      "outputs": []
    },
    {
      "cell_type": "markdown",
      "metadata": {
        "id": "iHN8FsxjZe70"
      },
      "source": [
        "### **HammingDistance(seq1, seq2)**\r\n",
        "\r\n",
        "calcula a quantidade de mismatches entre 2 sequências"
      ]
    },
    {
      "cell_type": "code",
      "metadata": {
        "id": "VhGkl9BRZpQc"
      },
      "source": [
        "def HammingDistance(seq1, seq2):\r\n",
        "  count = 0\r\n",
        "\r\n",
        "  for nt1, nt2 in zip(seq1, seq2):\r\n",
        "    if nt1 != nt2:\r\n",
        "      count += 1\r\n",
        "\r\n",
        "  return count"
      ],
      "execution_count": 76,
      "outputs": []
    },
    {
      "cell_type": "markdown",
      "metadata": {
        "id": "dOHf6X8HaWw0"
      },
      "source": [
        "**Testes**"
      ]
    },
    {
      "cell_type": "code",
      "metadata": {
        "colab": {
          "base_uri": "https://localhost:8080/"
        },
        "id": "RW4e2hbyaTpr",
        "outputId": "6b7fd1e6-1f71-4e25-c72e-8cdc96194276"
      },
      "source": [
        "seq1 = \"GGGCCGTTGGT\"\r\n",
        "seq2 = \"GGACCGTTGAC\"\r\n",
        "\r\n",
        "HammingDistance(seq1, seq2)"
      ],
      "execution_count": 77,
      "outputs": [
        {
          "output_type": "execute_result",
          "data": {
            "text/plain": [
              "3"
            ]
          },
          "metadata": {
            "tags": []
          },
          "execution_count": 77
        }
      ]
    },
    {
      "cell_type": "code",
      "metadata": {
        "colab": {
          "base_uri": "https://localhost:8080/"
        },
        "id": "ems_t8Chab0q",
        "outputId": "8f297cd7-d594-449c-c03a-08d4c2acf4ef"
      },
      "source": [
        "seq1 = \"AAAA\"\r\n",
        "seq2 = \"TTTT\"\r\n",
        "\r\n",
        "HammingDistance(seq1, seq2)"
      ],
      "execution_count": 78,
      "outputs": [
        {
          "output_type": "execute_result",
          "data": {
            "text/plain": [
              "4"
            ]
          },
          "metadata": {
            "tags": []
          },
          "execution_count": 78
        }
      ]
    },
    {
      "cell_type": "code",
      "metadata": {
        "colab": {
          "base_uri": "https://localhost:8080/"
        },
        "id": "GS0yEi_vakif",
        "outputId": "d7fdc4f0-40bf-4d6b-f908-ee5143fd4a86"
      },
      "source": [
        "seq1 = \"ACGTACGT\"\r\n",
        "seq2 = \"TACGTACG\"\r\n",
        "\r\n",
        "HammingDistance(seq1, seq2)"
      ],
      "execution_count": 79,
      "outputs": [
        {
          "output_type": "execute_result",
          "data": {
            "text/plain": [
              "8"
            ]
          },
          "metadata": {
            "tags": []
          },
          "execution_count": 79
        }
      ]
    },
    {
      "cell_type": "code",
      "metadata": {
        "colab": {
          "base_uri": "https://localhost:8080/"
        },
        "id": "PsFqo3JMap_f",
        "outputId": "32417844-a0c2-4035-8b2f-a682a486ef3e"
      },
      "source": [
        "seq1 = \"ACGTACGT\"\r\n",
        "seq2 = \"CCCCCCCC\"\r\n",
        "\r\n",
        "HammingDistance(seq1, seq2)"
      ],
      "execution_count": 80,
      "outputs": [
        {
          "output_type": "execute_result",
          "data": {
            "text/plain": [
              "6"
            ]
          },
          "metadata": {
            "tags": []
          },
          "execution_count": 80
        }
      ]
    },
    {
      "cell_type": "code",
      "metadata": {
        "colab": {
          "base_uri": "https://localhost:8080/"
        },
        "id": "kMae_-DhavVz",
        "outputId": "d7acfc45-014f-4232-e7be-d448f69bb78e"
      },
      "source": [
        "seq1 = \"ACGTACGT\"\r\n",
        "seq2 = \"TGCATGCA\"\r\n",
        "\r\n",
        "HammingDistance(seq1, seq2)"
      ],
      "execution_count": 81,
      "outputs": [
        {
          "output_type": "execute_result",
          "data": {
            "text/plain": [
              "8"
            ]
          },
          "metadata": {
            "tags": []
          },
          "execution_count": 81
        }
      ]
    },
    {
      "cell_type": "code",
      "metadata": {
        "colab": {
          "base_uri": "https://localhost:8080/"
        },
        "id": "zZkeCOsSa1Rk",
        "outputId": "10e049d0-5023-4c27-e61f-3651aa587843"
      },
      "source": [
        "seq1 = \"GATAGCAGCTTCTGAACTGGTTACCTGCCGTGAGTAAATTAAAATTTTATTGACTTAGGTCACTAAATACT\"\r\n",
        "seq2 = \"AATAGCAGCTTCTCAACTGGTTACCTCGTATGAGTAAATTAGGTCATTATTGACTCAGGTCACTAACGTCT\"\r\n",
        "\r\n",
        "HammingDistance(seq1, seq2)"
      ],
      "execution_count": 82,
      "outputs": [
        {
          "output_type": "execute_result",
          "data": {
            "text/plain": [
              "15"
            ]
          },
          "metadata": {
            "tags": []
          },
          "execution_count": 82
        }
      ]
    },
    {
      "cell_type": "code",
      "metadata": {
        "colab": {
          "base_uri": "https://localhost:8080/"
        },
        "id": "c75cS6jKa9KL",
        "outputId": "9bec5a85-2032-4df4-880c-ed28bffa4bbc"
      },
      "source": [
        "seq1 = \"AGAAACAGACCGCTATGTTCAACGATTTGTTTTATCTCGTCACCGGGATATTGCGGCCACTCATCGGTCAGTTGATTACGCAGGGCGTAAATCGCCAGAATCAGGCTG\"\r\n",
        "seq2 = \"AGAAACCCACCGCTAAAAACAACGATTTGCGTAGTCAGGTCACCGGGATATTGCGGCCACTAAGGCCTTGGATGATTACGCAGAACGTATTGACCCAGAATCAGGCTC\"\r\n",
        "\r\n",
        "HammingDistance(seq1, seq2)"
      ],
      "execution_count": 83,
      "outputs": [
        {
          "output_type": "execute_result",
          "data": {
            "text/plain": [
              "28"
            ]
          },
          "metadata": {
            "tags": []
          },
          "execution_count": 83
        }
      ]
    },
    {
      "cell_type": "code",
      "metadata": {
        "colab": {
          "base_uri": "https://localhost:8080/"
        },
        "id": "CBK-3_fXbHFj",
        "outputId": "324bf3a2-83d4-42dd-effb-70bc88e3ec01"
      },
      "source": [
        "seq1 = \"TATGGTGCCATTCTGCGTAACACATTACTCGATTTCGATGTTATCTGCTCTCGGAACATTTTGCAGCAACTCGTTTTCCACTGAAAATCTTGAGTTTCCGTGGGCCGCAGCTGGCCGTATCGGGATTTACCTATTATGTTATTTACATCGAACACTGGAAAGGATGCACGCGCTGGAACACCCCGATTCTGGCTAGTTTCATGAGCGCGGGAACTTGAGTAACCCTCTGTTAGAAGCAAACCTCCTGCGTGTGTTGGAAAAGATTTTGTTCGTATTAGCCCATGTGCAGAAAGAGGTCGATCCCTCATATGACCCCCCATGGCGAAGGAGATAGGATCAATAATGAGGACATCCCGCCTTTAAATGACCACACGAAGGCGGATAGGCTTTTGGTGTTGAGAGCTATCCCAGTCTGCGTCGTAAGAATGATCATACTATAAAGCGTCCCCTATATACATAAGACCCAGCGGCGTTAGGTGAGAGTAGATGAACGACGTCGGCATCCAACCGCCCACGCTACGTAAAGCTTACACCGCGCCCCTTTCGGGGACCAATCCCGAAAAGACACGGAGGAGTACTAGTCCCATCGCAGTCCATTGTGCTAGTAATCGATCCCGCCCATTCACTGCCTTGCGTTATTGCAGTGAGTCCAACGCCAGAACAGATCTCCGAGTCTCCGAGTACGCAAACTAGAAGATTGTTTTGGATGGCACCAACTCACAGATTGGCGCGTTTTTTAGGGACTGACCGGTTACAAAGGAAACGCTGGGTTTCGATCGTTTTGCCCGGTAACCCTCGCTCGGCCAATCTTTATCCATGGTTGAACAACCGGCTCGCTGGAGCTTAACTACAATTGATCGAGGATAAAATAACACGTGTAGATCTAGTAACCGTCTTTCAGTAGATTGTGGAGGTCCTATGGAACCGCGTAATTCCCGACCCCCTGGCAAGGGGCCTTACGATGACTTTGTAGGTGCTTTTATCCGAATGGATTACTGGAGCC\"\r\n",
        "seq2 = \"GGGCGATGCCGTGAGCCAGATTACTGCACGATGACGTACGAGCTGACGGGCATTCTCCGCCGATCACTCTACTATTATCTGGTAGACAGCTCCAGAACCAGGTTGGCGATGGCTGCGTAAATTTTGGCTGTGGGCTAAATGTGCGAAAATTCTTGGTACGTTATTAATAATGGCCAGCATCCTGAATCCACTGAACAGCCTTAACCGTAAATTTGAACGCAGCGTCGGGTAGTGTTCGTCCCGGATGATTATCCTAGCAAGTGGGCTTAGACGGGCAGTATTAACGCAGCCTGTGGCTTATCAAAAGTCCGGGCCCATTTAGATGAAGCGCGCACCTGGCAGCGAACAACTATATTAATTAATACAGCCCTGGAAGTAGCAATCGCTATCGCGCATAATGCTCTAAAGGGCTTGCAATGGTCCTGCGCATAGGCTTTTATGAAAGTCGGTCAAGTATGGCCTGTATCGCGATGGCCTTGCGTTCTACGGTCTTACCACATTGTGTAAACTTTGTTGATATACTATTCAAAAAGAGTCCAATTTCACTGCGTGGTGGTAACCGCGTTACGTAAAGTATGAAAGTTGGATAACCCACGGTCTATTTGTAAGGATAACGCTTAAGGAGGCTCAGTGTTGGTTGCTTATACATTGCATTATGGTGACTTAAAGCCAAATCAGCTAGGTGCCCGCTGCTGCGTCTTACTCGGACCGGATGCGTAGCTCAGGGAGTCATACGTTATAACGTCTACACTAACATGTTGTATTATACCTGTTGGCTGGACTAAAGAAAACCGTTTAAAGACCGTCCCAACAGCCCTTTAAGCGGATTATTCGTCGGTTGGCCGCAGGATGGCGATTCCTGTGTCCTAATGATCAGAGTCGAGGGGACGTGTCTCCATTTCGCCAAATGGACAGAAGGGTGTGTATAGGTCATGTGGTTTTTATACGGAAGACAAGTGATGTGACTATAAGATGCCATTTGGAAGTTGGCTAAATAGCTGTG\"\r\n",
        "\r\n",
        "HammingDistance(seq1, seq2)"
      ],
      "execution_count": 84,
      "outputs": [
        {
          "output_type": "execute_result",
          "data": {
            "text/plain": [
              "758"
            ]
          },
          "metadata": {
            "tags": []
          },
          "execution_count": 84
        }
      ]
    },
    {
      "cell_type": "markdown",
      "metadata": {
        "id": "x79rZKbOcBgk"
      },
      "source": [
        " ### **ApproximatePatternMatching(Pattern, Genome, d)**\r\n",
        "\r\n",
        " retorna as posições dos padrões no genoma, com no máximo d mismatches"
      ]
    },
    {
      "cell_type": "code",
      "metadata": {
        "id": "2Fl-Hdc7bMfR"
      },
      "source": [
        "def ApproximatePatternMatching(Pattern, Genome, d):\r\n",
        "  k = len(Genome)\r\n",
        "  j = len(Pattern)\r\n",
        "  index = []\r\n",
        "\r\n",
        "  for pos in range(k-j+1):\r\n",
        "    seq = Genome[pos:pos+j]\r\n",
        "    mismatch = HammingDistance(seq, Pattern)   # chama a função para contar os mismatches\r\n",
        "    if mismatch <= d:\r\n",
        "      index.append(pos)\r\n",
        "\r\n",
        "  return index\r\n"
      ],
      "execution_count": 85,
      "outputs": []
    },
    {
      "cell_type": "markdown",
      "metadata": {
        "id": "rTCHtWMsdB9z"
      },
      "source": [
        "**Testes**"
      ]
    },
    {
      "cell_type": "code",
      "metadata": {
        "colab": {
          "base_uri": "https://localhost:8080/"
        },
        "id": "l-GrWRgzc4R8",
        "outputId": "319e4c29-6bd4-422f-ca32-ae23ee00f520"
      },
      "source": [
        "Genome = \"CGCCCGAATCCAGAACGCATTCCCATATTTCGGGACCACTGGCCTCCACGGTACGGACGTCAATCAAAT\"\r\n",
        "Pattern = \"ATTCTGGA\"\r\n",
        "d = 3\r\n",
        "\r\n",
        "ApproximatePatternMatching(Pattern, Genome, d)\r\n",
        "\r\n"
      ],
      "execution_count": 86,
      "outputs": [
        {
          "output_type": "execute_result",
          "data": {
            "text/plain": [
              "[6, 7, 26, 27]"
            ]
          },
          "metadata": {
            "tags": []
          },
          "execution_count": 86
        }
      ]
    },
    {
      "cell_type": "code",
      "metadata": {
        "colab": {
          "base_uri": "https://localhost:8080/"
        },
        "id": "Zj7u4xCRc_jh",
        "outputId": "d850d362-3fa6-43d1-fa7e-2dfbe625a048"
      },
      "source": [
        "Genome = \"TTTTTTAAATTTTAAATTTTTT\"\r\n",
        "Pattern = \"AAA\"\r\n",
        "d = 2\r\n",
        "\r\n",
        "ApproximatePatternMatching(Pattern, Genome, d)"
      ],
      "execution_count": 87,
      "outputs": [
        {
          "output_type": "execute_result",
          "data": {
            "text/plain": [
              "[4, 5, 6, 7, 8, 11, 12, 13, 14, 15]"
            ]
          },
          "metadata": {
            "tags": []
          },
          "execution_count": 87
        }
      ]
    },
    {
      "cell_type": "code",
      "metadata": {
        "colab": {
          "base_uri": "https://localhost:8080/"
        },
        "id": "Zszk5KpZdPKw",
        "outputId": "7902c713-23fc-4ae5-b2e6-bf14e20f09ff"
      },
      "source": [
        "Genome = \"GAGCGCTGGGTTAACTCGCTACTTCCCGACGAGCGCTGTGGCGCAAATTGGCGATGAAACTGCAGAGAGAACTGGTCATCCAACTGAATTCTCCCCGCTATCGCATTTTGATGCGCGCCGCGTCGATT\"\r\n",
        "Pattern = \"GAGCGCTGG\"\r\n",
        "d = 2\r\n",
        "\r\n",
        "ApproximatePatternMatching(Pattern, Genome, d)"
      ],
      "execution_count": 88,
      "outputs": [
        {
          "output_type": "execute_result",
          "data": {
            "text/plain": [
              "[0, 30, 66]"
            ]
          },
          "metadata": {
            "tags": []
          },
          "execution_count": 88
        }
      ]
    },
    {
      "cell_type": "code",
      "metadata": {
        "colab": {
          "base_uri": "https://localhost:8080/"
        },
        "id": "hIh9cDN3dVa9",
        "outputId": "5f9d3afa-1a17-4697-ff37-e29b27608de8"
      },
      "source": [
        "Genome = \"CCAAATCCCCTCATGGCATGCATTCCCGCAGTATTTAATCCTTTCATTCTGCATATAAGTAGTGAAGGTATAGAAACCCGTTCAAGCCCGCAGCGGTAAAACCGAGAACCATGATGAATGCACGGCGATTGCGCCATAATCCAAACA\"\r\n",
        "Pattern = \"AATCCTTTCA\"\r\n",
        "d = 3\r\n",
        "\r\n",
        "ApproximatePatternMatching(Pattern, Genome, d)"
      ],
      "execution_count": 89,
      "outputs": [
        {
          "output_type": "execute_result",
          "data": {
            "text/plain": [
              "[3, 36, 74, 137]"
            ]
          },
          "metadata": {
            "tags": []
          },
          "execution_count": 89
        }
      ]
    },
    {
      "cell_type": "code",
      "metadata": {
        "colab": {
          "base_uri": "https://localhost:8080/"
        },
        "id": "pUhQ3rP_dc7E",
        "outputId": "a73be158-1e07-4663-e397-324ac159b92f"
      },
      "source": [
        "Genome = \"CCGTCATCCGTCATCCTCGCCACGTTGGCATGCATTCCGTCATCCCGTCAGGCATACTTCTGCATATAAGTACAAACATCCGTCATGTCAAAGGGAGCCCGCAGCGGTAAAACCGAGAACCATGATGAATGCACGGCGATTGC\"\r\n",
        "Pattern = \"CCGTCATCC\"\r\n",
        "d = 3\r\n",
        "\r\n",
        "ApproximatePatternMatching(Pattern, Genome, d)"
      ],
      "execution_count": 90,
      "outputs": [
        {
          "output_type": "execute_result",
          "data": {
            "text/plain": [
              "[0, 7, 36, 44, 48, 72, 79, 112]"
            ]
          },
          "metadata": {
            "tags": []
          },
          "execution_count": 90
        }
      ]
    },
    {
      "cell_type": "code",
      "metadata": {
        "colab": {
          "base_uri": "https://localhost:8080/"
        },
        "id": "5NYTrAegdZs8",
        "outputId": "a872e39f-a653-4b24-a1d6-cd2c073d9b79"
      },
      "source": [
        "Genome = \"AAAAAA\"\r\n",
        "Pattern = \"TTT\"\r\n",
        "d = 3\r\n",
        "\r\n",
        "ApproximatePatternMatching(Pattern, Genome, d)"
      ],
      "execution_count": 91,
      "outputs": [
        {
          "output_type": "execute_result",
          "data": {
            "text/plain": [
              "[0, 1, 2, 3]"
            ]
          },
          "metadata": {
            "tags": []
          },
          "execution_count": 91
        }
      ]
    },
    {
      "cell_type": "code",
      "metadata": {
        "id": "3aIekolPdrRS"
      },
      "source": [
        "Genome = \"ACTGGCATCAGGAGTGGCCCACCGTGTCCGTAACTATCGAGTCGATCCATGCTCAGCCCTATCAGTCCGATGTTAATGCCGCACTGACTTGACTATTGCTTCATATTCAACGTCCTGGTGCAACCATAATAAATATCACGCACCAAGCTTTCATTTTGTAACACTCCCGCCCACTGATCGTCGAACAGATCGATCTTCGGTCGCAACACCGTCTAGGGGCTGAAAAGATAGGCCCGACGACTGGCACCCACACTGGGCCAGATCCACCGCAAATCAGAGTTCATTAGACCCCACGCCAGTTCAGAAGGGTTACTCAGGTCCAAATGATTGATTGGAATGAGCAATTTACGCCACACGCTCATTCTCCAACCTAGAGCCCAATGTCTAAAGACCTGCCGGGGCCACGCGCGCGCGCCAAGCGTCGGAAGTGAGAGAGCATTGTTTTAGCTTTCGAGCATGCGCCGATGAGCCACGCACGCATTCATTTCGACAACCACTGATCCGCCTCGGCCTAACGAATCGCTGCCCCATCATTCGTGGTCCGATCTCAGTTATCTTCTTTTTGGAGTGCGGCCACGACAAGATTCAGGATAGGGCCAAAGAGGATCGATGTGCTCCGTGTAAACTCAAGACTTGGGAACAGTTTTTGTAAGCAATTGTAAGACTCCGTACGGTCCTCCTAGGCAACGTAAAATTATAACCTGATCTACGGGCGTCCTAGACAATGTAGCAACTGGAAGGTGACTTGAGGTTCCTGCGTCAGACACCAAGTGCCGTTACGAGGTAGTCCCTTTCACATGGCTCAGTCCCAGCATGAACGATAAGAAACCACGGTCTAGTTAGGTCAATCGGGTAGGTCATCGGAGTGTGAGTGATGCTCGAATTACGCGCACGCTGCTATTAGAGAGTTGCGTACCTTGCTGCCCAACGAAAGATCCCTAGGCGCCCGTTATTATGATGAGGGTGCTCTGACAGAGAGATGCTGGGACATAGAATATTGGTACTATCGACGACCCAGTGCTTTGCGCCTAGTGAGTCCCCCTAGGATGCCCGTTCATACCCACAGGCGATTTCCTGGTTGCCTCATGGCGGATTCCTTGAACTCTTCCCCACTGTAAGACATGGGTCCCAACACCGGCAATCTGAGAGAACTAAGGCGAATCCCGGCGACCTAGATTAAATAAGGACGACGCGCGCTCTGTCCGACTACCACGTTCCCGTCACAGACGATGCATCATCGTTAACCACACTTCGAAGACTCATTCAGGACCCTCAGAGTAACTGTGATAATATGAAACTAGGCCTATCGTGTATGGAAAGTTACGTAGACCGAAACGAGAGAGCAAGCATTGTCTTTAAATCTTGGACAGTGTTGGTCCACTCCCCAGCCTGCTATTTTGTGTCACCAATTTTTGTCAGAGACGCATCAGTATTTCAGATAAAGGTTTGCTGATTAGCTTTCGCCAGGTACTCAGTTAGAACGCCCGAGCGAAAAACTGATTTAGATCCTCACAGCTAATCCGAGTGCGCAGCGGGAGGTCTGAAGCCCCAATGAGAATCTGAGGTAGGTACGGTGGAACTGACTTATCTCAGATAACAAATAACAGAGTGCATCGTATATCGCCGTCCCATCACAAAAATAGTTCAGGAGTGCAAATAGGTATCACTTACATGGTTGTAACCTCATTTAAACATGTCTTACGCGCCTCTTCTCAAAATCAGCACCGTCCTATTGCTCGGCGATTTTACTTAAGTTGGACGGTTTTTGCAATCTTAGATACATGTACCCAGATCACCGGCATTAAGAAGGGTACAAGAAGTGATACTAGGTCCTCGTCTCCTTCTCGATGATGATGAGATTGTATACCTGTTGTTGCTTGATTAGTCTTCACTGTCTAGGACATAGATGTAGATCGGCCCGGGTAAGGTGTCATTGATGTCAGGGGTAAGGACGCGTGCGTGGCCCCCGAACGGCCGGGGCATCGCAACGAGATCGTGGGGCACGGTTAGTTCTGTGCTTTAGCGACTCGACCGGATGTGGGCCTTTCGGCTGAAAGCTCTAACAGTAATACGCCATGTAGAACAAAGAGATCCATCGAAAATATTCCACAGAAGGAACCCGCTCATGTCGCTTAGCCACCTGCGAGAAGCGAGGGCCATCTTGTGACCATCCAACCCCTAATGATGAAGGGACGCCATCCACTTATCCAGATCCGTCGTATAGGAGGAATTTCGTAAGATACACTGGCTTCCAAAGTAGCCCGCGTTGAAGACTTTTGATCCTATATACCGGAGCGGGGATTCCCGACCCTGAACTGGCACGAAGAACATGCAAGGGTATATGCCTTGAACTGGCCTCCCCAGGAACATACTACGATTAGCGGAGCCATAGCCTCTATGAGGCATACGCCCGGGGCGCTCTCCAATCCCTCCTGCGTTGGCCATTATATCTCAATGGTAGAACCGCGTCGAGGCGGTGAGACACTATGGCCTATATTACAGTAAAATAATTATTATAGCTGCCGACTTCCCTAGCTCGCAATATGGCTTCAGGCCTGCAAATTTGACGTAGACTAGGAGCGTGTATTTCGGGTTACACTTCCACAGAGCCTTAAAGTGTATCGGGATGGGACCTCAGAGGAGTCGCTCAGTGCACCGATTCTCACCTCAAAAACGCCAAACTATCAGTAGCCCTCCTTATCGACACGTGGAGGGGCCCATGCCCGGTGGTTTTAAACCTTCACGTAAGCGTAATACCCACGAGGTGGCATTCTTTGGCGAATTAGAAGCACGAATCGATGGCCAGTTTCAAAAATAGAAAGATCAGCTAATAAGCTTGTAGTCTCCGTGCCGCGTTGTACCGAGAACCCATTATGAGCGATGTATTCATCCAGTAGGCCTGGCACCTCGGATCCTCTGGCCGCGCTGAGTAACTCCGAATATATAGACAATTCGAGTGATCTATTCACCTCAAGCCCTCGATACAACAAGTTAGTGTGCCATGGTGGGAAGACAGGCTGCAACATTAAATAGAATTCGGATAATCCATGCTGAACAAGCGGAATAATGCGGTGGACATTGAACCCAACGGAGATTTACACCTACCTTAAGGGCACGCGCTATCTGGCATGACGTGTCTGCACGGAACCTCTCAATCCAAAGGTTCTGACCGGCGTCGCGATCTTGGGTTGCTCCGCACAGGTAGCCGGTACATTAAAGATTTAGAGACTCTAGGCGAGGTGAATTAGGCCAACATATCGATCGCGTGACGATAGGTTTTAGTTTATCCATGACTCTCCCCACGGCGGGAGTGGACCTTCGAAAAAGAGTACCTTCATACATAGCACTGCTTTGCTAAGGGTGGCTTTTTCTCAACCCGCAACGCAGTGGGCGATCAGACAGCCTCCCCGCCGCCTGTCCCAATCGTCGAGCCCGCCGTACAGATAATGATATTTAAGACGAAGCAGCGGTGTGAGCCTTTGTCATGTACTCGCCGCAGCTTGGACTAATCACCACTAACGAGTAAATTTTAACCCGAGTCACAGGCATCGCGCGTTCTCACAGGAATGTATCTCGGTGAGAACGAAGTTGGGCGAACTCTGCGCACACGCAGCAGTAGCAGTACTCAGTTAGCGTGCGTCGGACGCTAATAGGGGCACGACAAATATTACCAACTCCTTATTGAACAACTCCTTGCGCGGAAATGCTAACATTCCACCCGCTGGCCCCTGTAGCATCGACACGTGAAGCCAATTATCATCCTTTGGCAGAGATCCCGGACCCCGTACTTCATGAGAGCGGTACATGCAGTCCGTGGCGTAACGTTACGTGATGCAGGATGTTATAGGACAAGGGCGGCGACAACGAGACCTGATCATTGAAGTAATATGCTCACGATTACGCAGCGATCTTGCATCGGTCTCCTCTAATACCGATCACAGGCACTGATAGTGTAGATCTCGTGATTGGGCTTTGGGAGACGCGGATGGGAACCGCGTTTCCCCTACAGCTATAGTCCAACGGAAACAGAGCTGTCCTATTCCGCGGACTAGAATCCAAGTCATGTTCACCAATCCTCGACTATTTAATTTCTCGTAATTGATGGAACAGACCAAAACTCTGCGGTATGTACATACTGGAACCCCGATAGCGAGAGCTTTTTACACAATCTCTGAACTACTTCTTAAAGGCGACCTCCAGGCCCCTCTCCCGAGTACTCCAGAACGTTGCCGCCAGCGCATCGGGGACCCCGTCCAAAACATGCGCAAATACGGAGTGGGGCTTTGAATGTGAACGAGGCACAGGGAGGTGACTGTCCATCGCTCCTTGGGTGAGGTTCTCGGGGGGAGATGCTACTCCGTTCGGCCGTAAATATATTAAATCTGCAGGAAGTGATGAGAACCAGGTACGCGGGGCAATATTAGTCCCCGCATACTGCGGTTCCGGTGATTGCTCCACGAAAAGCGTAAATTTTGTGGTCAGCCACATCCGCACCCAACTCATCACGTTATTCCGCAAGATCAGACAAACGCCGGTTTTGACATGCCCCAGTGAGTTCCAGACTCGGGCCCAAAGAAATCGGGTCTAGCTAGCTGCTAGAGGGGCCCGGGATCATAATCCCTTCAATACAGCTTGCACTTTGTGAGAGACATCCGACGCAGACACTCGCGCAGTCTCCTCAAACAGTTGAGAATAGTAGCATAGACAGCCGAACACCCTGGTCGTCTATCGTAATTCACATGGGCTATGGGCACAAAGGGAATTCCGTCACTAGATAACGTGGGACTGCCTCTTATCACGTAAACGTGATGCACGTTGTAATTTAGGGTCGAGTAGTGTGGGATACCTGACAAGTGAAATATCAACACCCGACCTAGAGGATCTCTAGGCATCACACCGACCCCGGTTGCTTCTTATCACCACGGTTAGTCCATCGGTCTTTATATTGTACATCATGACATTAGCCCCTAAACATCTCCCACCAGAATTAAGGTATCTATCCGGGGTAGTATTAGCGAGACCCTTCATTCAGTTAACTCCCACTCGTGAGCTACCCCCCTGCGTACAGGTCGACGCCCATTGCGTAAAGATTCTCTTTGGCCATCCATAGTAGGTACGCTCAGCTGACGAGCGTAGGAACTCTCCCACGGTAAGTCTCCTGGGTCAGTAACGCTCATAGCTAGATCTTGGCCCGTTGGACCTAAGAACCCTTGTACTTCCTGGACGGTGGTTCAATGCGCTTGCAATGTATAATTGTAGCAATTGAGACTAGCGACATTCACCGTTTCCGGGAGCAGTCCCGGTGTTGTTACTAACGATGAACAGGCGAGCCAGGTGAAGACACCGCATGGGTTTGGACTCGATCGAAGGTTTGTCGTGGATCGAGCAAAGGTTCATGTGCTGAAATACATCCCCACCTGGAGTACTCTACGTTTACTGCGGACGATCGGCGGTTGCCTTAATAAGATATTCTCTGACGGACAAAGGGAAGGCCATGTCAACCCACGCCGGTGGACTTTCCTATCAAGGGCGTCCCACTATCTAGTTCATGTTGTGAGATTCGGCGACGAGTGGCAGTCGGGGAGAAGTTGCTCCGGATTATCCGCCTCCTCCGTGAAAGCCACTCAATGAAGCCCCAGCAGACGTGCGTATACCAGAGGAGACCATAGCTTGCCGTCCTCATTTAGCAATAGACCTCATAAGAACAGGAATCGGTTGTATCCAGTTGATTCTCGTTCCCACCAAATTATGTAGGTTCGAATCCGCTTTGCCTTACATTCCGTAAATCACGCTGGATAGTCATCTTCTGTGCTGTTCAGGGCTGAGTCACCTATAGGTAGGAAAGTACCCGATGATATATAAATTAAGTTAAGTAGTTGTAGGCTGGCGAGTGAGGGAGTCCTCACCCCAGAATTTGACTATCGTCTCCGCTAATCGAGGTGTCGCAAGATGGCTACGACAAAGTGAGCTGTTACGGGGCTTTGGATTTCCAGGTCTATATGCAATCCGAGTGGATTGACCAGTTTTTTCTCCAGGGGGGCATTTGTCTCTCTAAATGCCTCGTCTTGCGTACCCTTGGTCCTTGGCGCCTAGATGTCCGATTATTTAGGCCAGCTGTGGTAGATTTGGCGACAAGTGCAATGACTGCGAAGTAGTCCAAGCATCCGGAGCCACAGGTGCGGGGTTATGCGTCCCTTCTTAATTTACTACAGTGGGTTGTGGCTCTTTAAGGCAGGTTGTTATTTAATCCCAAGCTAATCTGAACTGTCGGGAGACGTGGTCACCCGGGAATGTTAAATGTCCCGCCAGGGGAGACCGCATTAAATCATGTCCAATCCAATTGCGTGGTCGAGTCTTCGTGCCGTCGCGATCGAACGAGCGGGGATTATGGAAGTTGTACCGCATCGACGTTTGCTCTTCCCTGGCGCACATAGAACGCATCCAATTCTCATGCACATATAGGCCAGTTGGTAGGGGTACTCTCAGTAGGCCAGGGGGAAGTCAAGTGGTCAAACGCTCAGTAGTAATTATAAACGAATTTAAGTTGACGTCATGTATGTGAACCACACCGGCTCACGTAGTCGCTGGGCCGTACACAGCAACGGATTAATCTCGAGACTTTAGAGACACGTGACTACCCTATCCCTGAGAGGGCATGTGGTTTCACCGAACGATCGCTACCCGCCGTGGGCACATCGGTAGTAGGTAAATCAGTGCTAGCATCGCTGGTTGCAGCTGTGCGCTTCTGGCTCTACTAGATCTACTGAAGAAAGGCACGTCTTTCGTTGCGGCCCTGCCGGTCCCACGCAAGCCTTGACGGCCACTAATTTGAAAGCAACTTAACCGAACGTAAACACCCCAAAACTTTCCTGACTTTTAATATTAAGCGTGGCCGATCGACGCCTGTTTAGGCGTAGGTGCTGGCCGCCCTGCTGGGGGTATACACTCAGTTAAGTGTGTCGGTTGTCATGCTACTCATTGCACACGTACTTATGCGAACAGAAGTTCTCAGAGTGGTGGAAGTCAGCACACCTAATAGTTGGTAATCCAAAGTTTGTTTACAACAGATGCCTCATGTCCGAATGATCGATCAACGGTGGCTGAAGTCACTAACCTCTATGACGCTTGCTCCTATCCAGAACATCGGTCTTGCGCGGAGAACGCTATATCAGCCAGAACGGCTCACTTCCCAGGCGACGAAAGCCATACAGTGGTGATTGGATTCAGCAATTCGATTGTGTGTGCCTGCGGGAACGATATACGATGCTCAGCCCGCGAACAGTCTACGAGGCATTTATAAGTTAAAAATACCAGGGCATATCCAGGGAGCACTTAGGTTTTACGGGTGTCCCTCCTCCGTGAGTGGAAGGGTCTTCAACGGCGTTGGGGCGAGACAATGAGGGGGATCATAGCCCTAAACTACGCGAGCTGTAAAGACTTTTAATCCAATAGATACATTGCCTTCCGCTTGAAGGGCGCCGGTTACCGGCTCTATGCATTCGAAGCAATCACAAGCGCGGGCGCGGCCCCAGAGCCTGCCGGGCGGTTACGTTGGTCTTCATCGGGTTTACCGTTCATATAAAGGAGAGGTATTGTGGAGGCTCGGCCGAATAGGTCTGGCAATTCGACGGTTGTTTGGATGAGTGAGATATAAACATACCAAGTGGTGGTTATGACTGCAGTACTCTGGATTGGTAGATAAATGAGTCTGCAGTGCGCCGGACGGCTCGGGGACCTGAGATAGCGGTCGCTCCACCTTTCTTCGTGTCCTTGTACCAACTACGCGTTGGGAAAAAGTGATTAGAAGCCGTAGGTCTGCAGCTCAAGCACAGCGCCCGCTAGCTACCACGCATTTAGACTTTAAGAAGACTCAAACAGGTTATCGTACCTGAGACGACATATAGAGAGCCTTTTCTTTACGAGCTGGCGAAGGCCCCGCCCTGGGAAACCCTGCAGTCAACTGTAGGCGATTTATGCTTCCCAGCTACACTGAAAGGACTCTAGAGCCTGGTCGGTGCCTTGTCAAGGTGTTGCCGTAAGCCCAAGTTTTAGCAGGCACGTTGGATCACAACGTGAGCCTGAACAAGGTAGAATCGGAAATAACTCATCCAAATTCTTTAGCATCAAAATCACCGAACTAGGGCCGTGGATTACAAGCTGGATAATTGGCGCACGTTTTCCCAACAGTCAGATCCCTGTTAGAGCCTTAGCCGCTGTTCTCCAATTATGCCAATCAATTTGCGCCAGTTTCTCGGGGTGTCATAGGATCGAGATGGTTAGAGCGAGGACGTCTCATTGACTAGACACGCGCCAGTTTGAACTGATCTGGGAAGTTCTACTGAACGTCAGAGTTTGTGCGCCTATGTTACTAACGAACGCATATTTTGCAGGGGTAGGCTGTGCTTAACGTTGCACCAGACCTCTCGTAAGCGTCTCGTTTCTGTTTTTTTGTGATTACCTTAGAGCGGCTACACGAAAACTCTCCATCAAGGAGACAACATCTATTAAGAGTTATATACTTGATGCGCTAATGATAACTTGAAGCAGGTAGGATGTCACTATAGTTTGGATCGAAACGGGGGGCGCGCTATTGAGAAGCAGGCCCAGACTGCTGCCCCGTGCAGTACTGTTGACGCAACTCTGATTAACGTCAGTACATCTCATCAATACCACAAATATTGTGCTGCGCAGACTATATTTACGACTGTCCCGGTGTTTTTAATGATGCCAACTAAATAGAATTCCTCTAAGTCATACGCTCGATACTCGTATAGACATGTTCGATCGTAGTAGTAGGTAGGCGACAATGCCGGAGCAGTATGCAGCGGATCCAACTTTGGGTGCCCAGATTGGCAGTAGCCCTACTGCCAAAGTCTACTCCAAAGACGTGGAGTGCTTAGCATGCTTTCCTCCTGACCGTTAGTCGTAGAATTGTGCAAATTCTACGGCAAATCCGCTAGGCGTTAATTGCGTGTAAACGTATTAGTCACTTAGGCTCCCATTTTGGCCTTCTTTCAAGTTATCGGGGTACTAAGTTCGCCTATAAGAGTACGCGAACCCCGCCCAGAATCGAGAGAGCCGTCCCGTTCAAATATGGGGAATCGGCAAAAACGACCTATCCCAACCACCAGTCGAAGCGCGCGGTCACAGAAACTAAGTACAGTTCGGGTAGAGAGCAATTGGTTAGAGTTCGCAGGCCCGAAGAATTGGACTGATTACCGTGTCCCACGGTGAGCAAGGTTGATCTACTACCGGGCTGCTAGCACGCGGTGAGAACTGCTGGACAGGCCGACCTTCGAGAAAGGTAACTCGTTAGGAGCACGGTAGTTTTCAGGCGGAGTAAAACTCCGTCACTGGCACTACAGGCATCCAGCTTACCTTCCGCCATATCCATTTCGGGTGGGAGTGGAAATGCGAACCGCGTCACTATGTCTACCTACTCGGTGATGAATGTACACTAATATGACCCCACAATTTGAATATCGGCGCGAAAGTAACTAATCTAGCGATGAACTTAGTATCCTCCTATTTCCTCTCAGGGCGTGGCTAGTTCGTAACATCCATAAGCCCGAATGTGTCCGAGTTTCGAACGCGGTGCACTCGCGAGGCAGTCAATGGCTTTGGCACGAACCTTGGGTGGAGACAATTTAAGGTCGATTCGGCTGTCTTTGTGCCGCGCTGATATCCAGAAAGTAGTGAACCCGATAAGATGATGGAACTGCCCACGGTACATTGCCATGCTGATACACCGGAGTAAAGTGTATTAAATGCCTACATGTCATCAGTCATGATTTGAAACAAGCCCTGGAGTACGTGTCGCAACATTTAGGTATCACGCCTTCTGCACTGCTACGGCTCGATGGGAGATCGGGTTTAGTAACTGGTATCTATGATCTAAACGTAGCGATAAACCGCTTGTCTTGGGAGGGTTCAGTAGGTTATTGATTTGCGACGTAACGTTCCTCAACTCTTCCTTAATGGCAATAATCGTAAACTGGTACGCCGTGTACAGCCTTGGTGTATGCTGGCTGTATCATTGTTTATAGCTTCTTTAAGCCTGGTTTGTCTAGTGAGGCGTTCTGCGTAACTAGGACAATTAGGGATAGGGCATTCATATATTACCATGCGTATATGTACCTTTGCCCACATATCACAACTTCGGGAGGAGCATTACATGCAGACGGTCGATGGGCTAGCGAGTCAGCTACGTTCCGTCAGGAGCCAATCCTGAACCGGGATACAGTCGATGAATCCTCCAATTGGAGTACGACTACTGGTCTCGTACGTGCCTAACGCGTCGCAAATCCGCACCCCCAGACTGCGAATAGGTCTCCCTGGTACTCATCGATGAGCAGCAGTATTTTTAACCCACCGGGCGGCTCCCCAAGAAAGTACGATATAGAACACATCAGATTATCGACGTCCTAACGTCTGAGACTGCCGCATCTTGGTATTGGGCTCAAGTCCTTTGACCCCAAGCAATGCTCCCATAGAGCTCCCGGGGTATCTAGGTGTTGCTTTCATCGGTCTAAGTAATCCATCTCATTTACCTGAGACGCGCAAGTCTGTCGGCTTATCAAATCACAATGTCGGTCCTGCGCAGCGCCAGAAGGTAGGGGGGAGTGTACTGCAGGGCTCTTGGATGCACTTGCGTAGCTAAATTCTCTCGCTTCTAGCACCATTTCCACGCGGTGTGTATCATGCACAGATCACATCGTCAGAAGTGACACTTGGAACCATCATCCGCTATTCCAGCCCTACGCGAAAGACTTGTCTCCATGCTTCCGGAAATCTTCTGTTTCCGATTGAGGTAGCCCCCCGTAGAGCTGAACCTGCAGTTTAACGAGAGCCGCTTGCACGGGAAGAAAGCCGGGGCTTTGCTTTCTGCTGACTTGCAGGGAGGGTTTCTACCCTAGGAGGGTCGGAGTGCCTTGCGGCCAGAAGGTCCTAAATCGCCGATTGAGGCGGCATGATGTAATACCAACCGGACAAGGTTTTCGAGACCCTGGCTACTTGCTGTCCAAAAGCGGTTACGTGACTACGATCTTTGCCCGGCCAATTTATCCCGTCGCAGACACGACCTCATGCGTACGCTGCGGCAATTAGTGAGCAGTCTTACATAGGTTGACTTAACAAAAGGTACAGATACGGTACCCAAGTCTGATAATTGGACTAAAGACATATCTCGCTAACCCAAAGATGATAGTGCTGAGATACCTTACAGTTTCCGCATACATGCTAACATTCGTACATGGTTTCGCGTAATCACCTGCTTTACCTCGGTCACCCTACTAAGGCAGAGACGTGTCATGTCAATCGAGCACCGATGACCAGGATTTGGTAGGAGTCGCAAGGTAAGGTGCGTATATGGCACATGCTTAGAAATCTAGTCCTGTCACTAAATGTTGGCACAAGAAGGTGCCAAGTAACAGTCGGCAGGGCTTTGTGGTGGACGTCTGGTTCGGATGTTGACCCACAGCCCCGGGCATCAAACCGCTCGACGATAACTAGTCGAGAGGCCAACCCGAGCTTTAGGCCCAAGGATATGTAGCTTCTCTGTTCGTTCCGAGGGGGGATGGATGGGGGGCCCTGGAGTGCCATGGAGTCCGTCAAACGGTGCTTATAGTAAGCGGGTCAGTAGACACCGCGTGGCTGGACGATGCCGGCTAGGCGTGATTAGTTCGTAGGCCCCACTAACGAGTTTAGACAAGTACGGTTCTCAGATTATATACTGCAAATCCTTGCGTAGGGGAGATAAGTAGACGCATATTACGATCCGCTAGCTAAGGGTACGGGTTCCAAGTGCGAGCGAGACCTTGCCTACGCTCAGCAATGTGCCTTCAAAGCGGCACTCGCGAGGTAACCGTAGACGAAATCGTGGCTGTGGACAGCCATCCTCCCCCAATTTAAATACGGCTCCTCGTACAGTTTCGATACCGAACGAACATTCAAGTACGATACCTAAGATTGGCTCAACGTATCCAACGTTGTGCCCACCGGAAACTGACTTGTCACCTCCTGAATGGCGTATGCTAACAATCCACAACAAATCGGGTGATTAACTTCTTTGCTTGGACAATCGCACTACCCGGCTCGTTCCCGGAATCTCGTAATGGGGCATAGTGCGCATCACGCACGGATTCTATTCCAGTAGACGTTTAGGGTCTGCGCCATCCTTGGGCACGAGTGGGGTAATAAGGAAAAATTTAGAAATTCGGTGAACTTCAACTGGTGAAGCGTCGAATGCATTCAATCCGATTATTGAAGTCGCATGGGTGGAAAAGTTAGGCCCTTTTTTGGGCATGTAAGTCACGTCCATCCTCTCCCCCCGAGTTTACCGCGGTTTTACCTGCGCACGAATGAGACATTCAGCGCGTCCGCGAGACTTCTTAACGGAATACCCATCAAATTGGATAAGCCTACCGAAGGCCTGCGACTACTTAATCCATTGCGGGTCCACCGTCGGCGGCGTGAGTATAGGACAGGAGGACAGTTCTAGCAATACGGCCTGCACAAGAGTGCGGCCGACAGGGTACAGTGAGGGCTTCCCCGCGTTTTATCTCGACTGACTAGGTAGTGGCTAAAACGGTCGCTCTCCTTTCAAGTCACCAATTGCAGTCTGCTCGCTGATACCAACGAAGATGCTTCCGGTACTACGTCGAATACTTGGCCTAATTGCGACCAGTCACCTATCCATGTAGTGAAAGATGATTGGCGTTCCAACCCAGATATCGGAAATTATGTCTGCATGGAATGCCCTAACTATATCAAGCCTGTTCTGTTTAAAATACTAAGTAACCACAAGACTCCCAGCGCAGATAGTTGTTTACTTGCCACGAAACACCTTTATATCGTGTCCGTAAGTATTTCTGTAGGGGAGCTGTATCTATCGTATAGGAACGCGTCTTACCGGTGGAATATGAATTATCTAGATGAGGCGGCTTCGATTCTGGGGTCCCTCGTAGTGCGGTACGTCCGATCCAAAGATCATATTAAAGACTTTAGGCTACCATCGGATACAATTAAAGAGGCTCCACTATGAGCAAATGGGGTAGTAGGTTTTAGATCTTTGTCTCGTCGTATCACAAGACTACATCTGCCAAACGTTGTGCCATAGGCGACGCGATGGTCTTCTGTGAATTATTAAATCGTAGGCACATTCGAGCCACATCATTGTTTGAACACAATCTCCACGAGAACAACGCCTATCCGCCGTGTTTACTGTTGAGCCGATGGACTCTAGCGGGATCATCTCACTACCCTCACGCCAAAAACTATCTAGTTTATCTAAGTTTGTGGGTACCCGTGCAGGCTCTACTTGTCTCGGGGATTGTACTTACAAACGACCATTAACTAGGCTTAACGGTGAGTAATGGTACTGGTTTATCTGCACCCACATAGGTAAGAAGTGTCCAGGTCCATTGTAAACCCAATGAATGAGCGCCGGTATGCCTTAGCGGAGCAAATTCGAGGGGCGCGGGCGCTCAAAGAGATGACAGTTTGCGCAAAGTCTAGGTTCGTGAACCATGGCGCAAGGACACGAAATCGGCCCGAAGAGACCGTAAGTTAAGCCGGTTAAGATTCAGCACTTCCAATACGCCCTTTTCTACTCGGTGCGCTCTATATGTCACCAATTGCACCTCCGGAACTAGCCGCAAAGCGTTCCTTAGGAAGGTGAAACTTTTTAGAATGCTCTCCAGTTTAGTCTTCTCCGAAAGAATCTTGTTAGATATTTAGCTGCGAGGGCAGATATAACAGATTTACGGTCGGATGACCGAGGGTTTGAATAGCCTCACAGATCGCTTCTGTTCAGATATTTCCTGGCCATCCCAAGAAGAGTCCAATCTTGACATCAGCCTTAACGGTTTACTGCGCTAGATTTGGTGCCGTTACTGACAAGCCGGATGCGTTAGCACAATCGGCATCATTAATTGGCGTTCCTCTCAAGTCAGAGGAAGGAGTCAATTCGCTGTCACCGCGGTGACAAAAGAGTCTGTGAGGCACGTATAACTCCCGATGCGGGACCTAAAGCGACACGTTCTAAGGTTGTTATCTGACTGCTTATAAGACGTGGTGGGTCTGTACGGTGGGCCGTATTACCTCCTTTTTTTAAGCGCGAACGCTCTTCGCAGCTGGCCGCCACACTGAATAGAGGGCGTCGATTTGGTAGCGATATTTACGGCCCGGGTGACTACGCTGAGCTACGTTGCCAGGGCATTATACTCTCCGCTTCGACTGGGCCAGTGTTGGGAGCTGAACTGCCGCCTAGTCCTGGTGCGCATACAACCCGGATCAACAGCCGATGGACGTTATCAGTCCACTTGCGTGCTTGCTCTCCTCGCTTGAACACTGCTTGAATCAACTTACGCGGCACAAGCTGTTCATGTAGAAAACAGCCGTTCAAGTCGTATTCAACGGTCCTACGACCCGGTTGCCGCGGATATAAGTTCTTGATCCAAAAGGACCGATAACACGGTTGGACTCAATAACTCTGGTCTAGGAAGGGGATGATTCAATGCCACTTTGCGTTTAACGTTTAGACACAGGGGGAATCACGTAAGAGGACCTCACATCTGCATGAACAGCCGTCTGGACCAGTCACCCCTTAAAAGCAGTACAAGAAACCCAAGTGGGAGCCGTTGCTTACGACGCCCGATCTCCTGCATGCACGGCTCCCACTCGAGGACCTCAGGAAGAAAGCACTATTATGCACACACGCGTCATCGGATTGCAAGCAGGTAGGAAACCTTATGCTTTCTTTTTAGACTAAGTTAGACCTCAGAACCCGTTCTATTTACACTGCGGACCGTCTGAGTTCGTACACGCTAGGGTAAACAAAACGCGCGGCTAGAATATTTCGTCTTCGACACCGCCGGCTTCAGGTGGTGAGAGAGCCGTTAGCGTGATCGTCAGGCGTTTTTGTGTCTGAGTTCTAGTAGTGTACGAGGAGGCGTTTACTCACCCTGCCTCCGTAGAGATCGTATGGGTAACGTAAAGCCAAGCCATAGATCCCGAGAATATGAGACAAGAAACCTCCCGAGTGCGCGCAGGGGGCAAGGTTATATTAGTTGACGACACCATATTGAGGTGTAGTGTCTCGGTCTATCTCCCTGGGGGATGGCATAAAGGAGACCATTTACAATCACCTCAGTTGAGGCCATGGCAATGGGCACGCCTCGGTTGCTACCGAAGCGAACATTTGATTGGCTCTATAATAATTTAATAAATGCAGCAATGTCTTATGATGGCCCCCTGTTAGGATGAGAACCAGAATAGTCGGATTTTTTGTACCAAGTTTTGACGGTATTGCGGCAGGGGGTGGTAGCGGTCGCGGCCCTGTGATTATTACGCGATACAGATCGCGCCATATTAGTCTCCTTTGGTCAATTGACATATACTCTTGGTGGAGCACGGGTAAACCTAGCGCACACACTTGTTGTCTAACCAACTTATCGAGAAAACCCGTTACACATCTGTCCTCCATCGTGCTTTACGTATCGGAGATGAACGATTGGTTTTGCAAGAAGCATTGTAACGTAATTGCCATAGAAAGATACAGTCAGAAAGCGATGAGGTTGTCTTAAGTCATTGTTCCTGAGTGGGCGGTTTGAGGGTTAGTCTGTAAGGAAACTTCAACAATACTTGATTCGTTTCAATTAGTTGTACATTGAATCCAAGGTTCGGTGACGCGCTTAAGGTTCAGTCTGGTGCCGTGGACATGCAGGACTAATAACTTGCATTGTATCAGTGACTTGGCGTTTTCGTCGAAAACAGGTGGCTGCAGGGGGGGGGCGCACAGTTAGACAACCCACAGATTAGGGCTCCGACCGGGTAGCATCATCAACTCAGGTTGTTTCCCGCCCTCGCGAGTGGTTGAGTATTGTTTTGGTAATATTGGGGGGGGTGTGCCTATCGGGGAATTTATCAGAGCAGGGCGCCAAGACTTATTGCTAGAGGCGACGAGTCTGTTAGCCAACGACACCCAGCGAGCGTCGCCGAAAACGTTGTCCTTCGAAATTATGTGGCGGCTCAACGGGATCATTCGTGGATGGAGCATGGCTACGAGCGAGGCGATCAGAGCATACAATCCACGATCATCGGAGTTGGGAAACGTAGAGAACCAACGTCCGCCTATTCTGCATGTTTCGCCGATTCCTACATGCCCCCAAAGCCACTCATATTTGGTATTTATATTTTTACTCGCGCACTATCACGGCTACCGGTTGCAACATAGCCAGACACTGGTCTGTGAGAGTACTTGATAAAAAAAGCTACCCACAAGGCTGCTCCCGAGTCCGCCGCGATCATCGCATGCTGGAGCCGCCACGTGACCAAGAAAGTCACGACAGCTGACGACTTGTACATCTAAGGGGGGTCTTCATGCATCCCCCGACTGTGCAGCGAATCCGCTACCCGACGTTGCCCCTCTGAGTGGCATAACCTAAGCTGCGCCTCCCTCGCCTACGTGTGCACTGAGGTCTTGTGTTCTTGATAGACGTCCTCACAATAGCATAATTTCTCAACCACTTCAGAGGGTACAGGAATGGAAGGAAACACGTTCCCACTTATGCTGTGAGGGACTGAGTGCAAGATACGGTGTCCGACACGTCGAACTGCGACACATATCTTTAGACGGTTATGCGCTAGCTGGACTTTGTTCCCCCGGGTTGGCGGTACGGGACCGAGATTGTTTCAGTAGGCGGCACTTCTATAGATTTGACATATGAAGCAGCTTCCCTTGGTGTAAGTGGATCAGAAATGGGGGATCATACGGCACGCGTTCACGAGCTCAGCCGTCCTGACTGTGTAACAAAATTCCCCTCCATAGGGAAGACATTCCCAGGCCTTCATGGTGATAAGCAAGCTGCTCCGACCAGACCACTGTTACAGCCCGCAATCGCTATATAAGGAACTCATGAGCCTAGGCCTAAGAAATTTCGTAGAAAGGGTCCTAGGTACAGGAGCTGAAAGCGGTCAAAAATCGAGCTGTATAGTATCTCGACTTCTGGGATAATTTATGAGGTGCCCCGACCACACCTATACCAAACTCGTGCAGGCCAGGGAAATCGCTCCTTGGACACCGACGTGAGAGTAAATGATAACACATCCCGCGTTGCTCGCTGGATTCACTTAGTACATCTAACTGAGTAAATCGATATCAAACCTTGGCTCCGCTGTACGAATCTTGACACCTGTCATGCCTGGACGCGGATCGGCAAATCTCCACTGAAGAGCGAAAGCAATGGAAAGAGGCACGTCGTTACTCGGGTAGATAAAAACATGCTGGGATGCGCAGTGACCACTTCGGGTACAGGGGGAGATGATTGTTTGTTGGATGCAGAAGGCTATCAACGGACAAGGGACGAATGCGAAACATGTTTGGTGTTCGCATTCCAGCGTACGTTAACGCTATCCATCAGGGAGGTCTCTGCAGGAAGCTACCCAGCCTTACGCCGAGGGTGACCTGTGGAGTGTGGGAATTCCTGGTTACCCCAGGTGCGTGATTCCTCCACACGTTGCGGTCGATCATGTTACCTGAGGTATCGAAAGATGATGCACCGGGTTCTTGTTGGGCTAATGCATGCTCTGATATAGAGCACTCGGTATTAAAGAGGTATTGCACGTGAACGCTTGAGTGTTTCCCGACTCCGGATGCAGATCGCAAGCTATACGGGTTGACTCGAGGTCAGCTACTTCTCCTCTCACTAATCTGTTGGCAGCAGGCGGAGATATAGTCGAAAAAATCTGCGCCGATGACCCGTATAGTGCGTTTATTCAACCGTGCGGGACACCTGCACGCCGAGCCAATGTCGACGCGGTTAGAGGCCTGCCGCGAATACTCACGGCCTAAGTAAGTCTAGCTAGATACCTTCCTGGCTGCATTAAGAGGGACCTACCTGCGAAGTTAGTCTAAACTCCGGCCACGAGATGTAGCCCTCACTCCGGGGGGTTGTCTAGTGTCGTCCAGCGCAGTCCCTTTAGTTAATACTGAGGGGCTTGTTATCGCAGGCTTATCGATCGACACGATTCTACGAGTGTTCCGCCCGATCATTGACTATGTCAGCAACGGCAAAGTATCCTTCACCCTCACGTGACTATTCATGTGTTCCGCCCTCTACTACCTCAGGAGCCACTCGACCGCCCGGGAGAACAAAGTTTGTGATAATGTTGATCTGGGGTATAGGCACACGGGCCTACATTGCCATGGACGCATTTGAACTTAGGAAGAAGGCGAGATCTCGTGGCGAATAAAAGCGAATGCGACATTTTATACTTCAAAGTGATTAAACTCCGGCATGCTTAGCTTGTTCGAATCCCCCTAATAATCTACATGTCCGTTTGGCTGCCCGCTTCGGCCACTTGGTTAAAAACGAATGTCTGATAGATAAGAAACCTTTGACCGTGAGATACACGCAATACAACTGCCCTTAGAGCTCACAAGACAATTATACTCCTAACCGATAGGTCCGGCAGAATGGATTGCGAAACGATCGCTGGCCCTGTTCCCCGAGCCCACGATCCACTCGCGGCGCTAAACGGACGGTACCGTATAGATTGAAAACCACGCTGCAACATAATATTAGCGGCACCTGAAATGCCGCACCCACTATAGAGTAACTTGGCGTGTAATGGTTACGAAGACGAGCGTATTGATGATCTCTGATTATCCTTCTTTGAGGACGAAGACTGCCGCGCGACACGTAGGGCAAATGGGTCCCACAAACAAATATGAGATTGCGTTTTAGCACACACGGTGATGACAATCATCGGTCTGGTTCAATGACGAATTTGCTAATTTGTAGATACAGCTTATCGTCACACGCGTAACTACATGCGGCGGTCTTGACATCACTCGTTCGGATCGTTGTTTAAAATATTGAACCAATCACCACACGCGTCATAGTTTATATAACGGGCGAATTAAATAGGGATTTCGAGGACTGTGTGTCAAGACACACATTACTATCATCTGAAAGTCCTGAAACTCAGGTTACGCAGACCTACGAATTCGGAGCCATGAAGGCAGGATATTCGCTTGATGAGTCAACGCCTGTTCTAAGTGAGGTGTTGGAAGAGATGCGTTAGGGCCTGCTCCTCTCCTCACTACTATTAAATCCGGACACCGTTTTTCGTCAAGCTACCGGGATGCTTCCCTGTAGTCTCGGTGCCAATAATAACCTAGTAGGTAGAGATGTCCTCCCCCTATGATGACCTTCGCCCGGAGTCAGGTTTCCGTAAGTTCTAAATGCGGTTCTTGCCTTTTATATGTGACACAAACGGATCTGGAGACGATAAGAACCCATTACAAGTTCCGGGATTGTAAGCTGCTCAAGTTTTTATTAAGAGGTCATAAGGCGTGCCACGCGCGCGGGCTGGTAAACGGCTATTCCGTAAGACCAGAGCGGCACGCAGGGTCGGGCTCCACGGCTAATCGCACCATACTCGATGTCCACCGCACAACTCTCTTCCCCACGTCCGTACATGACGCCAGATGGTATTGAGACAATTGTCGTGGCGCTTTTTAGCCTTGCGTTAGTAATTGTCAAACGTTGCTATCGAGTGCCAAGATTCAATACAAGCAGACTCCGCATCCCCCGGCTAATTCCCCATACTCTACGGGGGGCTGTGGTTTCGGTAGAGGGCTTCGCATCAGGTGACGCATTGCGGTAGTGCTTTGATACTTGTCGATTCACTTCTAGCCCAGAGCGTGACTGGCCCATCCTGCGGACTGTTGGG\"\r\n",
        "Pattern = \"CGGACTGTTGGG\"\r\n",
        "d = 4\r\n",
        "\r\n",
        "mis = ApproximatePatternMatching(Pattern, Genome, d)"
      ],
      "execution_count": 92,
      "outputs": []
    },
    {
      "cell_type": "code",
      "metadata": {
        "colab": {
          "base_uri": "https://localhost:8080/"
        },
        "id": "GUjeunm4d3mo",
        "outputId": "8ddfc9f0-4ba0-4b69-b69e-b1bf364faf09"
      },
      "source": [
        "for item in mis:\r\n",
        "  print(item, end=\" \")"
      ],
      "execution_count": 93,
      "outputs": [
        {
          "output_type": "stream",
          "text": [
            "861 1967 3059 3176 4679 5187 5439 6068 6260 6460 6925 6985 7009 7539 7719 7994 8583 8604 8622 8912 9156 9252 9272 9852 10089 10606 10623 10631 11398 11572 11921 13217 13233 14075 14239 14802 15248 15277 15792 15887 16389 16998 17467 18353 18537 18858 18937 19408 19725 "
          ],
          "name": "stdout"
        }
      ]
    },
    {
      "cell_type": "markdown",
      "metadata": {
        "id": "EVg1LPxwebuZ"
      },
      "source": [
        " ### **ApproximatePatternCount(Text, Pattern, d)**\r\n",
        "\r\n",
        " retorna a quantidade de padrões presentes no genoma com  no máximo d mismatches"
      ]
    },
    {
      "cell_type": "code",
      "metadata": {
        "id": "3loFnV-edwXa"
      },
      "source": [
        "def ApproximatePatternCount(Text, Pattern, d):\r\n",
        "  k = len(Genome)\r\n",
        "  j = len(Pattern)\r\n",
        "  count = 0\r\n",
        "\r\n",
        "  for pos in range(k-j+1):\r\n",
        "    seq = Genome[pos:pos+j]\r\n",
        "    mismatch = HammingDistance(seq, Pattern)   # chama a função para contar os mismatches\r\n",
        "    if mismatch <= d:\r\n",
        "      count += 1\r\n",
        "\r\n",
        "  return count\r\n"
      ],
      "execution_count": 94,
      "outputs": []
    },
    {
      "cell_type": "markdown",
      "metadata": {
        "id": "GogEeetZe-ML"
      },
      "source": [
        "**Testes**"
      ]
    },
    {
      "cell_type": "code",
      "metadata": {
        "colab": {
          "base_uri": "https://localhost:8080/"
        },
        "id": "YF301O4ae1IX",
        "outputId": "6304569d-89bc-40d6-daea-0c6481c4f71e"
      },
      "source": [
        "Genome = \"AACAAGCTGATAAACATTTAAAGAG\"\r\n",
        "Pattern = \"AAAAA\"\r\n",
        "d = 2\r\n",
        "\r\n",
        "ApproximatePatternCount(Genome, Pattern, d)"
      ],
      "execution_count": 95,
      "outputs": [
        {
          "output_type": "execute_result",
          "data": {
            "text/plain": [
              "11"
            ]
          },
          "metadata": {
            "tags": []
          },
          "execution_count": 95
        }
      ]
    },
    {
      "cell_type": "code",
      "metadata": {
        "colab": {
          "base_uri": "https://localhost:8080/"
        },
        "id": "h5A-YKy8fPfw",
        "outputId": "6745f413-b38e-44df-ea6c-eb299fa848ea"
      },
      "source": [
        "Genome = \"TTTAGAGCCTTCAGAGG\"\r\n",
        "Pattern = \"GAGG\"\r\n",
        "d = 2\r\n",
        "\r\n",
        "ApproximatePatternCount(Genome, Pattern, d)"
      ],
      "execution_count": 96,
      "outputs": [
        {
          "output_type": "execute_result",
          "data": {
            "text/plain": [
              "4"
            ]
          },
          "metadata": {
            "tags": []
          },
          "execution_count": 96
        }
      ]
    },
    {
      "cell_type": "code",
      "metadata": {
        "colab": {
          "base_uri": "https://localhost:8080/"
        },
        "id": "GpLygU8afTRF",
        "outputId": "74ce351f-85a2-4a6d-adf6-289a38b1c3e5"
      },
      "source": [
        "Genome = \"AAA\"\r\n",
        "Pattern = \"AA\"\r\n",
        "d = 0\r\n",
        "\r\n",
        "ApproximatePatternCount(Genome, Pattern, d)"
      ],
      "execution_count": 97,
      "outputs": [
        {
          "output_type": "execute_result",
          "data": {
            "text/plain": [
              "2"
            ]
          },
          "metadata": {
            "tags": []
          },
          "execution_count": 97
        }
      ]
    },
    {
      "cell_type": "code",
      "metadata": {
        "colab": {
          "base_uri": "https://localhost:8080/"
        },
        "id": "W9p25WuXfa8k",
        "outputId": "f20b10a4-9714-4a18-ab0c-a1cc27c8eb87"
      },
      "source": [
        "Genome = \"ATA\"\r\n",
        "Pattern = \"ATA\"\r\n",
        "d = 1\r\n",
        "\r\n",
        "ApproximatePatternCount(Genome, Pattern, d)"
      ],
      "execution_count": 98,
      "outputs": [
        {
          "output_type": "execute_result",
          "data": {
            "text/plain": [
              "1"
            ]
          },
          "metadata": {
            "tags": []
          },
          "execution_count": 98
        }
      ]
    },
    {
      "cell_type": "code",
      "metadata": {
        "colab": {
          "base_uri": "https://localhost:8080/"
        },
        "id": "ATri97BhfdT9",
        "outputId": "29db23b7-a657-4c74-d0b3-860b14390960"
      },
      "source": [
        "Genome = \"GAACGGATAGATAAGTCTGATATTTCTTGACCGGCTGGTCATTCCGGTCTATGCAAGGCTCGAAGTGAAGTGTATGTCGCACATCAACGCTTCCAAGGCCGTGAGGTTCGCATTTACGGGGATTGCTCCCCTTCCGCACCTCAACTCCACTTCGTAAGTAAACGCGACGTTGAGCCGTGTGCACGTGTGGTAGCGGGCGCTTGTGACAATCACTTACCTCCCTTGTTGTTTGTTTTTCTGTATGGACTTACGGAAACCATTATCCCACTGTTAGACTGATGATCACCACCCAGTGGTCGGGGACTTAACCAAAATAATTCTGTGTTGACTCTCCGGAGAAAGAGTCAGACTGTTCCTACCTGGTATGTTGA\"\r\n",
        "Pattern = \"CTTGAC\"\r\n",
        "d = 2\r\n",
        "\r\n",
        "ApproximatePatternCount(Genome, Pattern, d)"
      ],
      "execution_count": 99,
      "outputs": [
        {
          "output_type": "execute_result",
          "data": {
            "text/plain": [
              "17"
            ]
          },
          "metadata": {
            "tags": []
          },
          "execution_count": 99
        }
      ]
    },
    {
      "cell_type": "markdown",
      "metadata": {
        "id": "lRO7HwJVExJv"
      },
      "source": [
        "### **ImmediateNeighbors(Pattern)**\r\n",
        "\r\n",
        "retorna todos os k-mers dos quais o Hamming Distance do padrão é igual a 1"
      ]
    },
    {
      "cell_type": "code",
      "metadata": {
        "id": "173X9Az5FGEv"
      },
      "source": [
        "def ImmediateNeighbors(Pattern):\r\n",
        "  Neighborhood = set()\r\n",
        "  tamanho_do_padrao = len(Pattern)\r\n",
        "\r\n",
        "  for i in range(tamanho_do_padrao):\r\n",
        "    symbol = Pattern[i]\r\n",
        "    for nt in \"ACGT\":\r\n",
        "      if nt != symbol:\r\n",
        "        Neighbor = list(Pattern) \r\n",
        "        Neighbor[i] = nt        # substitui o nucleotídeo da posição i por nt, gerando 1 mismatch\r\n",
        "        Neighborhood.add(\"\".join(Neighbor))\r\n",
        "\r\n",
        "  return Neighborhood"
      ],
      "execution_count": 100,
      "outputs": []
    },
    {
      "cell_type": "code",
      "metadata": {
        "colab": {
          "base_uri": "https://localhost:8080/"
        },
        "id": "YDQmR_zDJNo4",
        "outputId": "ee8802fd-d5bf-4bd0-d7c8-5b6e68d1ff38"
      },
      "source": [
        "ImmediateNeighbors(\"AAA\")"
      ],
      "execution_count": 101,
      "outputs": [
        {
          "output_type": "execute_result",
          "data": {
            "text/plain": [
              "{'AAC', 'AAG', 'AAT', 'ACA', 'AGA', 'ATA', 'CAA', 'GAA', 'TAA'}"
            ]
          },
          "metadata": {
            "tags": []
          },
          "execution_count": 101
        }
      ]
    },
    {
      "cell_type": "markdown",
      "metadata": {
        "id": "UeX7KK3ZmInf"
      },
      "source": [
        "### **FirstSymbol(Pattern)**\r\n",
        "\r\n",
        "retorna o primeiro símbolo do padrão\r\n",
        "\r\n",
        "padrão = ATT\r\n",
        "\r\n",
        "símbolo = A"
      ]
    },
    {
      "cell_type": "code",
      "metadata": {
        "id": "6DnxWZRtml3t"
      },
      "source": [
        "def FirstSymbol(Pattern):\r\n",
        "  return Pattern[0]"
      ],
      "execution_count": 102,
      "outputs": []
    },
    {
      "cell_type": "code",
      "metadata": {
        "colab": {
          "base_uri": "https://localhost:8080/",
          "height": 35
        },
        "id": "4Ct8LVjHmvPh",
        "outputId": "4098d485-a2d0-4f27-af0e-2a85a90da3fc"
      },
      "source": [
        "Pattern = \"ACGT\"\r\n",
        "FirstSymbol(Pattern)"
      ],
      "execution_count": 103,
      "outputs": [
        {
          "output_type": "execute_result",
          "data": {
            "application/vnd.google.colaboratory.intrinsic+json": {
              "type": "string"
            },
            "text/plain": [
              "'A'"
            ]
          },
          "metadata": {
            "tags": []
          },
          "execution_count": 103
        }
      ]
    },
    {
      "cell_type": "markdown",
      "metadata": {
        "id": "uZV8WVOEmPJu"
      },
      "source": [
        "### **Suffix(Pattern)**\r\n",
        "retorna o padrão (= sufixo) sem o primeiro símbolo\r\n",
        "\r\n",
        "padrão = ATT\r\n",
        "\r\n",
        "sufixo = TT\r\n"
      ]
    },
    {
      "cell_type": "code",
      "metadata": {
        "id": "NqQyfieymrhJ"
      },
      "source": [
        "def Suffix(Pattern):\r\n",
        "  return Pattern[1:]"
      ],
      "execution_count": 104,
      "outputs": []
    },
    {
      "cell_type": "code",
      "metadata": {
        "colab": {
          "base_uri": "https://localhost:8080/",
          "height": 35
        },
        "id": "bFKSdnzImz0p",
        "outputId": "098329a3-039d-43ec-80de-3e9922f89a83"
      },
      "source": [
        "Pattern = \"ACGT\"\r\n",
        "Suffix(Pattern)"
      ],
      "execution_count": 105,
      "outputs": [
        {
          "output_type": "execute_result",
          "data": {
            "application/vnd.google.colaboratory.intrinsic+json": {
              "type": "string"
            },
            "text/plain": [
              "'CGT'"
            ]
          },
          "metadata": {
            "tags": []
          },
          "execution_count": 105
        }
      ]
    },
    {
      "cell_type": "markdown",
      "metadata": {
        "id": "fiT4VCynjnd9"
      },
      "source": [
        "### **Neighbors(Pattern, d)**\r\n",
        "\r\n",
        "retorna todos os (k-1)-mers dos quais o Hamming Distance do padrão é menor que d e depois adiciona um sufixo aos (k-1)mers formados"
      ]
    },
    {
      "cell_type": "code",
      "metadata": {
        "id": "LgXg2CiqkIy9"
      },
      "source": [
        "def Neighbors(Pattern, d):\r\n",
        "  if d == 0:\r\n",
        "    return {Pattern}\r\n",
        "  \r\n",
        "  if len(Pattern) == 1:\r\n",
        "    return {\"A\", \"C\", \"G\", \"T\"}\r\n",
        "\r\n",
        "  Neighborhood = set()\r\n",
        "\r\n",
        "  SuffixNeighbors = Neighbors(Suffix(Pattern), d)\r\n",
        "  \r\n",
        "  for suffix in SuffixNeighbors:\r\n",
        "    if HammingDistance(Suffix(Pattern), suffix) < d:\r\n",
        "      for nt in \"ACGT\":\r\n",
        "        kmer = nt + suffix\r\n",
        "        Neighborhood.add(kmer)\r\n",
        "    else:\r\n",
        "      kmer = FirstSymbol(Pattern) + suffix\r\n",
        "      Neighborhood.add(kmer)\r\n",
        "\r\n",
        "  return Neighborhood"
      ],
      "execution_count": 106,
      "outputs": []
    },
    {
      "cell_type": "code",
      "metadata": {
        "colab": {
          "base_uri": "https://localhost:8080/"
        },
        "id": "jnyRmE59oIkd",
        "outputId": "07d7fac3-a028-42ea-e42b-242a325712fd"
      },
      "source": [
        "Neighbors(\"ACG\", 1)"
      ],
      "execution_count": 107,
      "outputs": [
        {
          "output_type": "execute_result",
          "data": {
            "text/plain": [
              "{'AAG', 'ACA', 'ACC', 'ACG', 'ACT', 'AGG', 'ATG', 'CCG', 'GCG', 'TCG'}"
            ]
          },
          "metadata": {
            "tags": []
          },
          "execution_count": 107
        }
      ]
    },
    {
      "cell_type": "code",
      "metadata": {
        "colab": {
          "base_uri": "https://localhost:8080/"
        },
        "id": "UuSHNzZUtJAY",
        "outputId": "b487211f-5482-4814-fbe8-bb5ebfb211a9"
      },
      "source": [
        "uma_string_por_linha(Neighbors(\"ACG\", 1))"
      ],
      "execution_count": 108,
      "outputs": [
        {
          "output_type": "stream",
          "text": [
            "ATG\n",
            "ACA\n",
            "GCG\n",
            "TCG\n",
            "CCG\n",
            "ACT\n",
            "ACG\n",
            "AGG\n",
            "ACC\n",
            "AAG\n"
          ],
          "name": "stdout"
        }
      ]
    },
    {
      "cell_type": "markdown",
      "metadata": {
        "id": "OHMvLjBvml33"
      },
      "source": [
        "###**FrequentWordsWithMismatches(Text, k, d)**\r\n",
        "\r\n",
        "retorna todos os k-mers mais frequentes no texto com no máximo d mismatches"
      ]
    },
    {
      "cell_type": "code",
      "metadata": {
        "id": "rT3ZAt8ZnBs2"
      },
      "source": [
        "def FrequentWordsWithMismatches(Text, k, d):\r\n",
        "  Patterns = []\r\n",
        "  freqMap = {}\r\n",
        "  n = len(Text)\r\n",
        "\r\n",
        "  for i in range(n-k+1):\r\n",
        "    Pattern = Text[i:i+k]\r\n",
        "    neighborhood = list(Neighbors(Pattern, d))\r\n",
        "\r\n",
        "    for j in range(len(neighborhood)):\r\n",
        "      neighbor = neighborhood[j]\r\n",
        "      if neighbor not in freqMap:\r\n",
        "        freqMap[neighbor] = 1\r\n",
        "      else:\r\n",
        "        freqMap[neighbor] += 1\r\n",
        "  \r\n",
        "  m = MaxMap(freqMap)\r\n",
        "\r\n",
        "  for pattern, value in freqMap.items():\r\n",
        "    if freqMap[pattern] == m:\r\n",
        "      Patterns.append(pattern)\r\n",
        "\r\n",
        "  return Patterns"
      ],
      "execution_count": 109,
      "outputs": []
    },
    {
      "cell_type": "markdown",
      "metadata": {
        "id": "BkJBdrzYzMpC"
      },
      "source": [
        "**Testes**"
      ]
    },
    {
      "cell_type": "code",
      "metadata": {
        "colab": {
          "base_uri": "https://localhost:8080/"
        },
        "id": "d74CMAjOpr11",
        "outputId": "24072c39-b1b3-4f18-ad10-32abef79b868"
      },
      "source": [
        "Text = \"ATA\"\r\n",
        "k = 3\r\n",
        "d = 1\r\n",
        "\r\n",
        "string_lado_a_lado(FrequentWordsWithMismatches(Text, k, d))"
      ],
      "execution_count": 110,
      "outputs": [
        {
          "output_type": "stream",
          "text": [
            "ATC ATG ACA AAA AGA GTA TTA CTA ATT ATA "
          ],
          "name": "stdout"
        }
      ]
    },
    {
      "cell_type": "code",
      "metadata": {
        "colab": {
          "base_uri": "https://localhost:8080/"
        },
        "id": "54ANXhdrzG4s",
        "outputId": "2d17016e-1228-4801-bfd2-2b6d929f9846"
      },
      "source": [
        "Text = \"AAT\"\r\n",
        "k = 3\r\n",
        "d = 0\r\n",
        "\r\n",
        "string_lado_a_lado(FrequentWordsWithMismatches(Text, k, d))"
      ],
      "execution_count": 111,
      "outputs": [
        {
          "output_type": "stream",
          "text": [
            "AAT "
          ],
          "name": "stdout"
        }
      ]
    },
    {
      "cell_type": "code",
      "metadata": {
        "colab": {
          "base_uri": "https://localhost:8080/"
        },
        "id": "hyHIlUQS0kVX",
        "outputId": "818ff44c-9e1f-4805-af96-93029fdbf6ee"
      },
      "source": [
        "Text = \"TAGCG\"\r\n",
        "k = 2\r\n",
        "d = 1\r\n",
        "\r\n",
        "string_lado_a_lado(FrequentWordsWithMismatches(Text, k, d))"
      ],
      "execution_count": 112,
      "outputs": [
        {
          "output_type": "stream",
          "text": [
            "TG GG "
          ],
          "name": "stdout"
        }
      ]
    },
    {
      "cell_type": "code",
      "metadata": {
        "colab": {
          "base_uri": "https://localhost:8080/"
        },
        "id": "M9aBq5VD0uWY",
        "outputId": "c8813ee8-32bb-4c39-fbf4-e4e29f10a7d7"
      },
      "source": [
        "Text = \"AATTAATTGGTAGGTAGGTA\"\r\n",
        "k = 4\r\n",
        "d = 0\r\n",
        "\r\n",
        "string_lado_a_lado(FrequentWordsWithMismatches(Text, k, d))"
      ],
      "execution_count": 113,
      "outputs": [
        {
          "output_type": "stream",
          "text": [
            "GGTA "
          ],
          "name": "stdout"
        }
      ]
    },
    {
      "cell_type": "code",
      "metadata": {
        "colab": {
          "base_uri": "https://localhost:8080/"
        },
        "id": "x3wcM5Yw0p-y",
        "outputId": "dc14407e-ba22-44e7-b12a-0243ed20661e"
      },
      "source": [
        "Text = \"AAAAAAAAAA\"\r\n",
        "k = 2\r\n",
        "d = 1\r\n",
        "\r\n",
        "string_lado_a_lado(FrequentWordsWithMismatches(Text, k, d))"
      ],
      "execution_count": 114,
      "outputs": [
        {
          "output_type": "stream",
          "text": [
            "AG AA AT AC TA GA CA "
          ],
          "name": "stdout"
        }
      ]
    },
    {
      "cell_type": "code",
      "metadata": {
        "colab": {
          "base_uri": "https://localhost:8080/"
        },
        "id": "Mbe-ed4b1Iny",
        "outputId": "152f1b7a-4abc-46e5-acce-6c9c37be7793"
      },
      "source": [
        "Text = \"ACGTTGCATGTCGCATGATGCATGAGAGCT\"\r\n",
        "k = 4\r\n",
        "d = 1\r\n",
        "\r\n",
        "string_lado_a_lado(FrequentWordsWithMismatches(Text, k, d))"
      ],
      "execution_count": 115,
      "outputs": [
        {
          "output_type": "stream",
          "text": [
            "ATGT GATG ATGC "
          ],
          "name": "stdout"
        }
      ]
    },
    {
      "cell_type": "code",
      "metadata": {
        "colab": {
          "base_uri": "https://localhost:8080/"
        },
        "id": "vw8R2BRA1TDW",
        "outputId": "1dad9a0f-35c9-4493-f8f8-0addbec0abd3"
      },
      "source": [
        "Text = \"ATGGCGCCATGGCATAGGTACATACGCCATGGAGTTATGGATGGCGCCCATAATGGGGTACGCCGGTACATAGGTAATGGATGGGGTAGGTACGCCGGTAATGGAGTTCGCCAGTTATGGAGTTGGTACATAATGGCGCCCGCCAGTTATGGAGTTAGTTAGTTCGCCAGTTCATACGCCCATAGGTACGCCGGTACGCCCATACATAATGGGGTAATGGAGTTCATACATAATGGCGCCAGTTCATACGCCGGTAGGTACGCCGGTAATGGCGCCATGGCATAATGGGGTAGGTACGCCAGTTCGCCCGCCGGTACATACGCCCATACATACGCCCGCCATGG\"\r\n",
        "k = 5\r\n",
        "d = 2\r\n",
        "\r\n",
        "string_lado_a_lado(FrequentWordsWithMismatches(Text, k, d))"
      ],
      "execution_count": 116,
      "outputs": [
        {
          "output_type": "stream",
          "text": [
            "GGTGG "
          ],
          "name": "stdout"
        }
      ]
    },
    {
      "cell_type": "markdown",
      "metadata": {
        "id": "cWznZ2YcDsCx"
      },
      "source": [
        "##**WEEK 3**"
      ]
    },
    {
      "cell_type": "markdown",
      "metadata": {
        "id": "sucl62y6hKHa"
      },
      "source": [
        "###**AllKmers(string, k)**\r\n",
        "\r\n",
        "retorna todos os possíveis kmers da string"
      ]
    },
    {
      "cell_type": "code",
      "metadata": {
        "id": "JAf70wYxhBX-"
      },
      "source": [
        "def AllKmers(string, k):\r\n",
        "  tamanho_string = len(string)\r\n",
        "  all_kmers = []\r\n",
        "\r\n",
        "  for i in range(tamanho_string-k+1):\r\n",
        "    kmer = string[i:i+k]\r\n",
        "    all_kmers.append(kmer)\r\n",
        "\r\n",
        "  return all_kmers\r\n",
        "\r\n"
      ],
      "execution_count": 117,
      "outputs": []
    },
    {
      "cell_type": "code",
      "metadata": {
        "colab": {
          "base_uri": "https://localhost:8080/"
        },
        "id": "Es0p-9UaheXA",
        "outputId": "b8284732-70f0-4708-990a-e317a6914225"
      },
      "source": [
        "string = \"AATTGGCC\"\r\n",
        "k=4\r\n",
        "\r\n",
        "AllKmers(string, k)"
      ],
      "execution_count": 118,
      "outputs": [
        {
          "output_type": "execute_result",
          "data": {
            "text/plain": [
              "['AATT', 'ATTG', 'TTGG', 'TGGC', 'GGCC']"
            ]
          },
          "metadata": {
            "tags": []
          },
          "execution_count": 118
        }
      ]
    },
    {
      "cell_type": "markdown",
      "metadata": {
        "id": "PzqqxjeKelDq"
      },
      "source": [
        "###**MotifEnumeration(Dna, k, d)**\r\n",
        "\r\n",
        "retorna o motif que aparece em todas as string com no máximo d mismatches\r\n",
        "\r\n",
        "1. verifica todos os possíveis kmers de cada string\r\n",
        "\r\n",
        "2. verifica todos os possíveis kmers com no máximo d mismatches de cada string\r\n",
        "\r\n",
        "3. pega o kmer comum a todas as strings"
      ]
    },
    {
      "cell_type": "code",
      "metadata": {
        "id": "EBiDnTpTewN2"
      },
      "source": [
        "def MotifEnumeration(Dna, k, d):\r\n",
        "  lista_sets = []\r\n",
        "  all_kmers_per_string = set()\r\n",
        "\r\n",
        "  for string in Dna:\r\n",
        "    all_possible_kmers = AllKmers(string, k)\r\n",
        "    for kmer in all_possible_kmers:\r\n",
        "      all_kmers_per_string.update(Neighbors(kmer, d))\r\n",
        "    lista_sets.append(all_kmers_per_string)\r\n",
        "    all_kmers_per_string = set()\r\n",
        "   \r\n",
        "  final_set = lista_sets[0]\r\n",
        "\r\n",
        "  for i in range(1, len(lista_sets)):\r\n",
        "    final_set = final_set.intersection(lista_sets[i])\r\n",
        "\r\n",
        "  print(final_set)  \r\n"
      ],
      "execution_count": 119,
      "outputs": []
    },
    {
      "cell_type": "markdown",
      "metadata": {
        "id": "JPNGmHgTjwIK"
      },
      "source": [
        "**Testes**"
      ]
    },
    {
      "cell_type": "code",
      "metadata": {
        "colab": {
          "base_uri": "https://localhost:8080/"
        },
        "id": "Dj_bGo3djudI",
        "outputId": "17b50814-d828-42c5-a84b-312ab04e3196"
      },
      "source": [
        "Dna = [\"ATTTGGC\", \"TGCCTTA\", \"CGGTATC\", \"GAAAATT\"]\r\n",
        "k = 3\r\n",
        "d = 1\r\n",
        "\r\n",
        "MotifEnumeration(Dna, k, d)\r\n"
      ],
      "execution_count": 120,
      "outputs": [
        {
          "output_type": "stream",
          "text": [
            "{'GTT', 'TTT', 'ATA', 'ATT'}\n"
          ],
          "name": "stdout"
        }
      ]
    },
    {
      "cell_type": "code",
      "metadata": {
        "colab": {
          "base_uri": "https://localhost:8080/"
        },
        "id": "QTPgL3gZemw3",
        "outputId": "eb988384-0fab-4ea0-9075-76b1a5736a15"
      },
      "source": [
        "Dna = [\"ACGT\", \"ACGT\", \"ACGT\"]\r\n",
        "k = 3\r\n",
        "d = 0\r\n",
        "\r\n",
        "MotifEnumeration(Dna, k, d)"
      ],
      "execution_count": 121,
      "outputs": [
        {
          "output_type": "stream",
          "text": [
            "{'ACG', 'CGT'}\n"
          ],
          "name": "stdout"
        }
      ]
    },
    {
      "cell_type": "code",
      "metadata": {
        "colab": {
          "base_uri": "https://localhost:8080/"
        },
        "id": "QI2UWATTj--4",
        "outputId": "dd57761b-2356-4950-a97f-4efcc3e11a04"
      },
      "source": [
        "Dna = [\"AAAAA\", \"AAAAA\", \"AAAAA\"]\r\n",
        "k = 3\r\n",
        "d = 1\r\n",
        "\r\n",
        "MotifEnumeration(Dna, k, d)"
      ],
      "execution_count": 122,
      "outputs": [
        {
          "output_type": "stream",
          "text": [
            "{'TAA', 'ACA', 'AAA', 'AGA', 'GAA', 'CAA', 'AAT', 'AAC', 'AAG', 'ATA'}\n"
          ],
          "name": "stdout"
        }
      ]
    },
    {
      "cell_type": "code",
      "metadata": {
        "colab": {
          "base_uri": "https://localhost:8080/"
        },
        "id": "u0z0vVxakNv0",
        "outputId": "be574ecb-3f3a-49c3-84cd-8d3a6cf622ce"
      },
      "source": [
        "Dna = [\"AAAAA\", \"AAAAA\", \"AACAA\"]\r\n",
        "k = 3\r\n",
        "d = 0\r\n",
        "\r\n",
        "MotifEnumeration(Dna, k, d)"
      ],
      "execution_count": 123,
      "outputs": [
        {
          "output_type": "stream",
          "text": [
            "set()\n"
          ],
          "name": "stdout"
        }
      ]
    },
    {
      "cell_type": "code",
      "metadata": {
        "colab": {
          "base_uri": "https://localhost:8080/"
        },
        "id": "YevgC_F6kQoJ",
        "outputId": "d35ddb19-3f65-42ec-886e-700f2e89d173"
      },
      "source": [
        "Dna = [\"CTAGACACCAACTCTGTACACATGT\", \"ACTGTCACTTGGGGCAGTCACTCCA\", \"TAGACTGGAACGCTTAGTGAACTCT\", \"GCGTGTTACGATACGCCTTAACTGT\", \"TGTGCCATTCTCACAACTTTTCGGC\", \"CAGATCGGCTACTCTCCGGTGGTGT\"]\r\n",
        "\r\n",
        "k = 5\r\n",
        "d = 1\r\n",
        "\r\n",
        "MotifEnumeration(Dna, k, d)"
      ],
      "execution_count": 124,
      "outputs": [
        {
          "output_type": "stream",
          "text": [
            "{'TACTC', 'AACTC', 'ACTTT', 'ACTGT', 'ACTAT', 'ACTCT'}\n"
          ],
          "name": "stdout"
        }
      ]
    },
    {
      "cell_type": "code",
      "metadata": {
        "id": "GuLCmeCkkmnJ"
      },
      "source": [
        "import math"
      ],
      "execution_count": 125,
      "outputs": []
    },
    {
      "cell_type": "code",
      "metadata": {
        "colab": {
          "base_uri": "https://localhost:8080/"
        },
        "id": "F-r7Usfrob9H",
        "outputId": "9fc91378-d270-4a74-f4b9-706b5424b8d7"
      },
      "source": [
        "(0.25*math.log2(0.25))*4"
      ],
      "execution_count": 126,
      "outputs": [
        {
          "output_type": "execute_result",
          "data": {
            "text/plain": [
              "-2.0"
            ]
          },
          "metadata": {
            "tags": []
          },
          "execution_count": 126
        }
      ]
    },
    {
      "cell_type": "markdown",
      "metadata": {
        "id": "_5MHVFXKr5Rd"
      },
      "source": [
        "###**Count(motifs)**\r\n",
        "\r\n",
        "retorna uma matriz com a quantidade de cada nucleotídeo em dada posição"
      ]
    },
    {
      "cell_type": "code",
      "metadata": {
        "id": "CUni2kqssiJ5"
      },
      "source": [
        "def Count(motifs):\r\n",
        "  matriz = {}\r\n",
        "  colunas = len(motifs[0]) # quantidade de colunas da matriz\r\n",
        "  quantidade_motifs = len(motifs) # quantidade de motifs da lista\r\n",
        "\r\n",
        "  for nt in \"ACGT\":\r\n",
        "    matriz[nt] = [0]*colunas  # cria um dicionário 4 x colunas, preenchido por zeros\r\n",
        "    \r\n",
        "  for i in range(quantidade_motifs):\r\n",
        "    for j in range(colunas):\r\n",
        "      nt = motifs[i][j]\r\n",
        "      matriz[nt][j] += 1 \r\n",
        "\r\n",
        "  return matriz"
      ],
      "execution_count": 127,
      "outputs": []
    },
    {
      "cell_type": "markdown",
      "metadata": {
        "id": "tNWqyh0stFcM"
      },
      "source": [
        "###**Consensus(motifs)**\r\n",
        "\r\n",
        "retorna a fita consenso dos motifs"
      ]
    },
    {
      "cell_type": "code",
      "metadata": {
        "id": "8jUEEaYvtPqN"
      },
      "source": [
        "def Consensus(motifs):\r\n",
        "  colunas = len(motifs[0])  # retorna a quantidade de nt da sequência\r\n",
        "  matriz = Count(motifs)\r\n",
        "  fita_consenso = \"\"\r\n",
        "\r\n",
        "  valor = 0\r\n",
        "  for pos in range(colunas):\r\n",
        "    for nt in \"ACGT\":\r\n",
        "      if matriz[nt][pos] > valor:\r\n",
        "        nt_consenso = nt\r\n",
        "        valor = matriz[nt][pos]\r\n",
        "    fita_consenso += nt_consenso\r\n",
        "    valor = 0\r\n",
        "\r\n",
        "  return fita_consenso"
      ],
      "execution_count": 128,
      "outputs": []
    },
    {
      "cell_type": "markdown",
      "metadata": {
        "id": "NG-xKgtstnq-"
      },
      "source": [
        "###**Score(motifs)**\r\n",
        "\r\n",
        "retorna o score dos motifs (quantidade de nucleotídeos diferentes da fita consenso)"
      ]
    },
    {
      "cell_type": "code",
      "metadata": {
        "id": "u0c3YEZqtwJc"
      },
      "source": [
        "def Score(motifs):\r\n",
        "  fita_consenso = Consensus(motifs)\r\n",
        "  colunas = len(motifs[0]) # quantidade de nt dos motifs\r\n",
        "  score = 0\r\n",
        "\r\n",
        "  for motif in motifs:\r\n",
        "    for pos in range(colunas):\r\n",
        "      if motif[pos] != fita_consenso[pos]:\r\n",
        "        score += 1\r\n",
        "\r\n",
        "  return score"
      ],
      "execution_count": 129,
      "outputs": []
    },
    {
      "cell_type": "markdown",
      "metadata": {
        "id": "DMNamJFIuUPI"
      },
      "source": [
        "###**Profile(motifs)**\r\n",
        "\r\n",
        "retorna uma matriz com a probabilidade de cada base em dada posição"
      ]
    },
    {
      "cell_type": "code",
      "metadata": {
        "id": "Khjl5I1Kua5n"
      },
      "source": [
        "def Profile(motifs):\r\n",
        "  t = len(motifs) # quantidade de motifs da lista\r\n",
        "  matriz = Count(motifs)\r\n",
        "  profile = {}  # irá receber as frequências\r\n",
        "\r\n",
        "  for chave in matriz.keys():\r\n",
        "    profile[chave] = [valor/t for valor in matriz[chave]]\r\n",
        "\r\n",
        "  return profile"
      ],
      "execution_count": 130,
      "outputs": []
    },
    {
      "cell_type": "markdown",
      "metadata": {
        "id": "cgUaU0ARrEoo"
      },
      "source": [
        "###**Entropy(motifs)**\r\n",
        "\r\n",
        "retorna a soma das entropias de cada coluna dado um Profile"
      ]
    },
    {
      "cell_type": "code",
      "metadata": {
        "id": "0qt7bv88ogmb"
      },
      "source": [
        "def Entropy(motifs):\r\n",
        "  profile = Profile(motifs)\r\n",
        "  colunas = len(profile[\"A\"])\r\n",
        "  entropia = 0\r\n",
        "\r\n",
        "  for nt in \"ACGT\":\r\n",
        "    for pos in range(colunas):\r\n",
        "      valor = profile[nt][pos]\r\n",
        "      if valor != 0:\r\n",
        "        entropia += (valor*math.log2(valor))\r\n",
        "      else:\r\n",
        "        continue\r\n",
        "\r\n",
        "  return -entropia"
      ],
      "execution_count": 131,
      "outputs": []
    },
    {
      "cell_type": "code",
      "metadata": {
        "colab": {
          "base_uri": "https://localhost:8080/"
        },
        "id": "POl07RuPuu_E",
        "outputId": "d26fb523-c3d2-48bf-f53a-921679728c1f"
      },
      "source": [
        "motifs = [\"TCGGGGGTTTTT\",\r\n",
        "          \"CCGGTGACTTAC\",\r\n",
        "          \"ACGGGGATTTTC\",\r\n",
        "          \"TTGGGGACTTTT\",\r\n",
        "          \"AAGGGGACTTCC\",\r\n",
        "          \"TTGGGGACTTCC\",\r\n",
        "          \"TCGGGGATTCAT\",\r\n",
        "          \"TCGGGGATTCCT\",\r\n",
        "          \"TAGGGGAACTAC\",\r\n",
        "          \"TCGGGTATAACC\"]\r\n",
        "\r\n",
        "Entropy(motifs)"
      ],
      "execution_count": 132,
      "outputs": [
        {
          "output_type": "execute_result",
          "data": {
            "text/plain": [
              "9.916290005356972"
            ]
          },
          "metadata": {
            "tags": []
          },
          "execution_count": 132
        }
      ]
    },
    {
      "cell_type": "markdown",
      "metadata": {
        "id": "GiOpXHF-yHHQ"
      },
      "source": [
        "###**DistanceBetweenPatternAndStrings(Pattern, Dna)**\r\n",
        "\r\n",
        "retorna a soma total do Hamming Distance entre cada string e o padrão"
      ]
    },
    {
      "cell_type": "code",
      "metadata": {
        "id": "AqiqEhEDyQUI"
      },
      "source": [
        "def DistanceBetweenPatternAndStrings(Pattern, Dna):\r\n",
        "  k = len(Pattern)\r\n",
        "  t = len(Dna[0])\r\n",
        "  distance = 0\r\n",
        "\r\n",
        "  for string in Dna:\r\n",
        "    menor_hamming_distance = 1000\r\n",
        "    for pos in range(t-k+1):\r\n",
        "      kmer = string[pos:pos+k]\r\n",
        "      hamming_distance = HammingDistance(Pattern, kmer)\r\n",
        "      if menor_hamming_distance > hamming_distance:\r\n",
        "        menor_hamming_distance = hamming_distance\r\n",
        "\r\n",
        "    distance += menor_hamming_distance\r\n",
        "\r\n",
        "  return distance"
      ],
      "execution_count": 133,
      "outputs": []
    },
    {
      "cell_type": "markdown",
      "metadata": {
        "id": "eyIPEjNJ0JKj"
      },
      "source": [
        "**Testes**"
      ]
    },
    {
      "cell_type": "code",
      "metadata": {
        "colab": {
          "base_uri": "https://localhost:8080/"
        },
        "id": "TJGTp_fXxuvO",
        "outputId": "74db316b-75b3-4b5b-f477-f2f83341b3ec"
      },
      "source": [
        "Dna = [\"TTACCTTAAC\", \"GATATCTGTC\", \"ACGGCGTTCG\", \"CCCTAAAGAG\", \"CGTCAGAGGT\"]\r\n",
        "Pattern = \"AAA\"\r\n",
        "\r\n",
        "DistanceBetweenPatternAndStrings(Pattern, Dna)"
      ],
      "execution_count": 134,
      "outputs": [
        {
          "output_type": "execute_result",
          "data": {
            "text/plain": [
              "5"
            ]
          },
          "metadata": {
            "tags": []
          },
          "execution_count": 134
        }
      ]
    },
    {
      "cell_type": "code",
      "metadata": {
        "colab": {
          "base_uri": "https://localhost:8080/"
        },
        "id": "dpCR9Oem0K-C",
        "outputId": "23b0a264-6c9d-4ff0-e983-cd906010369a"
      },
      "source": [
        "Dna = [\"TTTATTT\", \"CCTACAC\", \"GGTAGAG\"]\r\n",
        "Pattern = \"TAA\"\r\n",
        "\r\n",
        "DistanceBetweenPatternAndStrings(Pattern, Dna)"
      ],
      "execution_count": 135,
      "outputs": [
        {
          "output_type": "execute_result",
          "data": {
            "text/plain": [
              "3"
            ]
          },
          "metadata": {
            "tags": []
          },
          "execution_count": 135
        }
      ]
    },
    {
      "cell_type": "code",
      "metadata": {
        "colab": {
          "base_uri": "https://localhost:8080/"
        },
        "id": "ke5fk8BY0T6x",
        "outputId": "4d870565-0609-406f-a706-74e09937a2c4"
      },
      "source": [
        "Dna = [\"AAACT\", \"AAAC\", \"AAAG\"]\r\n",
        "Pattern = \"AAA\"\r\n",
        "\r\n",
        "DistanceBetweenPatternAndStrings(Pattern, Dna)"
      ],
      "execution_count": 136,
      "outputs": [
        {
          "output_type": "execute_result",
          "data": {
            "text/plain": [
              "0"
            ]
          },
          "metadata": {
            "tags": []
          },
          "execution_count": 136
        }
      ]
    },
    {
      "cell_type": "markdown",
      "metadata": {
        "id": "7D6r6rW_3cfo"
      },
      "source": [
        "###**AllStrings(k)**\r\n",
        "\r\n",
        "retorna todas os kmers possívels (4**k) de tamanho k "
      ]
    },
    {
      "cell_type": "code",
      "metadata": {
        "id": "YjJx6F6O3jrg"
      },
      "source": [
        "import itertools\r\n",
        "\r\n",
        "def AllStrings(k):\r\n",
        "  bases=[\"A\", \"T\", \"G\", \"C\"]\r\n",
        "\r\n",
        "  all_strings = [''.join(b) for b in itertools.product(bases, repeat=k)]\r\n",
        "\r\n",
        "  return all_strings   "
      ],
      "execution_count": 137,
      "outputs": []
    },
    {
      "cell_type": "markdown",
      "metadata": {
        "id": "pWeHOFWDx7ZP"
      },
      "source": [
        "###**MedianString(Dna, k)**\r\n",
        "\r\n",
        "retorna o kmer com a menor distancia entre as strings"
      ]
    },
    {
      "cell_type": "code",
      "metadata": {
        "id": "GRbfF5RJ2Bvp"
      },
      "source": [
        "def MedianString(Dna, k):\r\n",
        "  menor_distancia = 1000\r\n",
        "\r\n",
        "  kmers = AllStrings(k)\r\n",
        "\r\n",
        "  for kmer in kmers:\r\n",
        "    distancia = DistanceBetweenPatternAndStrings(kmer, Dna)\r\n",
        "    if menor_distancia > distancia:\r\n",
        "      menor_distancia = distancia\r\n",
        "      median_string = kmer\r\n",
        "\r\n",
        "  return median_string"
      ],
      "execution_count": 138,
      "outputs": []
    },
    {
      "cell_type": "markdown",
      "metadata": {
        "id": "jB-L03Q_6J4z"
      },
      "source": [
        "**Testes**"
      ]
    },
    {
      "cell_type": "code",
      "metadata": {
        "colab": {
          "base_uri": "https://localhost:8080/",
          "height": 35
        },
        "id": "0K4rOLbv6K-o",
        "outputId": "92933f6b-a6bb-419a-c46c-03599bb84fba"
      },
      "source": [
        "Dna = [\"AAATTGACGCAT\", \r\n",
        "       \"GACGACCACGTT\",\r\n",
        "       \"CGTCAGCGCCTG\",\r\n",
        "       \"GCTGAGCACCGG\",\r\n",
        "       \"AGTTCGGGACAG\"]\r\n",
        "k = 3\r\n",
        "\r\n",
        "MedianString(Dna, k)"
      ],
      "execution_count": 139,
      "outputs": [
        {
          "output_type": "execute_result",
          "data": {
            "application/vnd.google.colaboratory.intrinsic+json": {
              "type": "string"
            },
            "text/plain": [
              "'GAC'"
            ]
          },
          "metadata": {
            "tags": []
          },
          "execution_count": 139
        }
      ]
    },
    {
      "cell_type": "code",
      "metadata": {
        "colab": {
          "base_uri": "https://localhost:8080/",
          "height": 35
        },
        "id": "KZzAkX5_6ZYW",
        "outputId": "a9ecbad4-fb40-48c6-80aa-f1602144c11c"
      },
      "source": [
        "Dna = [\"ACGT\", \r\n",
        "       \"ACGT\",\r\n",
        "       \"ACGT\"]\r\n",
        "k = 3\r\n",
        "\r\n",
        "MedianString(Dna, k)"
      ],
      "execution_count": 140,
      "outputs": [
        {
          "output_type": "execute_result",
          "data": {
            "application/vnd.google.colaboratory.intrinsic+json": {
              "type": "string"
            },
            "text/plain": [
              "'ACG'"
            ]
          },
          "metadata": {
            "tags": []
          },
          "execution_count": 140
        }
      ]
    },
    {
      "cell_type": "code",
      "metadata": {
        "colab": {
          "base_uri": "https://localhost:8080/",
          "height": 35
        },
        "id": "MCLh_bHs7jAD",
        "outputId": "b999a510-dd07-4e39-e248-f0a1c29f029d"
      },
      "source": [
        "Dna = [\"ATA\", \r\n",
        "       \"ACA\",\r\n",
        "       \"AGA\",\r\n",
        "       \"AAT\",\r\n",
        "       \"AAC\"]\r\n",
        "k = 3\r\n",
        "\r\n",
        "MedianString(Dna, k)"
      ],
      "execution_count": 141,
      "outputs": [
        {
          "output_type": "execute_result",
          "data": {
            "application/vnd.google.colaboratory.intrinsic+json": {
              "type": "string"
            },
            "text/plain": [
              "'AAA'"
            ]
          },
          "metadata": {
            "tags": []
          },
          "execution_count": 141
        }
      ]
    },
    {
      "cell_type": "code",
      "metadata": {
        "colab": {
          "base_uri": "https://localhost:8080/",
          "height": 35
        },
        "id": "oC8RoxjQ7tNR",
        "outputId": "1502ea71-08bf-498a-e333-460bfcf25a52"
      },
      "source": [
        "Dna =  [\"CTAAAATCAGGACGAGGAAAAATTGTACGCCCCCTGGTTACA\",\r\n",
        "        \"CGTACGTTCCATCATCAGTACACTTCTACTGTGCGCAAGCAA\",\r\n",
        "        \"TCTAGCGGTGGGACCCCCCCCTCTTTGATAGTCCGCTAATGG\",\r\n",
        "        \"TTTAAGTTGCAGGTACGCTGTTGCGTGTTCAGGCGAGGCAGG\",\r\n",
        "        \"CTTATGGTCTAAAAAACGGTACGCCTGAATCCGGTTAACCGA\",\r\n",
        "        \"TCGTGTGTTCGCTTCGTCGGTGATGAACGCAGAACAAAAGCA\",\r\n",
        "        \"GGTTCACGGCCATTAAGGCTCGGATGACCAGTCCGCCCAGCT\",\r\n",
        "        \"GGAACTGTACGCGACTCCACAGGTACCCACGAGGCGCATACT\",\r\n",
        "        \"GACCCTGTGCGCGTTGAGGGTCCTGCGCTTTCGGGTTTTGTA\",\r\n",
        "        \"GCCAACTTGTTCTCAGCTTGCTATGTGCGCGGCGATCTGGGC\"]\r\n",
        "k = 6\r\n",
        "\r\n",
        "MedianString(Dna, k)"
      ],
      "execution_count": 142,
      "outputs": [
        {
          "output_type": "execute_result",
          "data": {
            "application/vnd.google.colaboratory.intrinsic+json": {
              "type": "string"
            },
            "text/plain": [
              "'GTACGC'"
            ]
          },
          "metadata": {
            "tags": []
          },
          "execution_count": 142
        }
      ]
    },
    {
      "cell_type": "markdown",
      "metadata": {
        "id": "w5l5koUmAjw3"
      },
      "source": [
        "###**Pr(Text, Profile)**\r\n",
        "\r\n",
        "retorna a probabilidade de obtermos o padrão dados"
      ]
    },
    {
      "cell_type": "code",
      "metadata": {
        "id": "nBcm402cAvJI"
      },
      "source": [
        "def Pr(Text, Profile):\r\n",
        "  prob = 1\r\n",
        "  tamanho_text = len(Text)\r\n",
        "  pos = 0\r\n",
        "  \r\n",
        "  for nt in Text:\r\n",
        "    prob *= Profile[nt][pos]\r\n",
        "    pos += 1\r\n",
        "  \r\n",
        "  return prob"
      ],
      "execution_count": 143,
      "outputs": []
    },
    {
      "cell_type": "code",
      "metadata": {
        "colab": {
          "base_uri": "https://localhost:8080/"
        },
        "id": "EHaKSaZlBClL",
        "outputId": "291bfdaf-55ab-4d2d-ba0f-eedc52be2600"
      },
      "source": [
        " Profile = {\r\n",
        "    'A': [0.2, 0.2, 0.0, 0.0, 0.0, 0.0, 0.9, 0.1, 0.1, 0.1, 0.3, 0.0],\r\n",
        "    'C': [0.1, 0.6, 0.0, 0.0, 0.0, 0.0, 0.0, 0.4, 0.1, 0.2, 0.4, 0.6],\r\n",
        "    'G': [0.0, 0.0, 1.0, 1.0, 0.9, 0.9, 0.1, 0.0, 0.0, 0.0, 0.0, 0.0],\r\n",
        "    'T': [0.7, 0.2, 0.0, 0.0, 0.1, 0.1, 0.0, 0.5, 0.8, 0.7, 0.3, 0.4]}\r\n",
        "\r\n",
        " Pr(\"TCGTGGATTTCC\", Profile) "
      ],
      "execution_count": 144,
      "outputs": [
        {
          "output_type": "execute_result",
          "data": {
            "text/plain": [
              "0.0"
            ]
          },
          "metadata": {
            "tags": []
          },
          "execution_count": 144
        }
      ]
    },
    {
      "cell_type": "markdown",
      "metadata": {
        "id": "l8V5tBHlCUTA"
      },
      "source": [
        "###**ProfileMostProbableKmer(Text, k, Profile)**\r\n",
        "\r\n",
        "retorna o kmer mais provável dados um Profile (kmer com a maior probabilidade)"
      ]
    },
    {
      "cell_type": "code",
      "metadata": {
        "id": "yaCuXASWBQmd"
      },
      "source": [
        "def ProfileMostProbableKmer(Text, k, Profile):\r\n",
        "  tamanho_text = len(Text)\r\n",
        "  max_prob = 0\r\n",
        "  \r\n",
        "  for pos in range(tamanho_text-k+1):\r\n",
        "    kmer = Text[pos:pos+k]\r\n",
        "    prob_kmer = Pr(kmer, Profile)\r\n",
        "    if prob_kmer == 0 and max_prob == 0:\r\n",
        "      melhor_kmer = Text[0:k]\r\n",
        "    elif prob_kmer > max_prob:\r\n",
        "      max_prob = prob_kmer\r\n",
        "      melhor_kmer = kmer\r\n",
        "      \r\n",
        "  return melhor_kmer"
      ],
      "execution_count": 145,
      "outputs": []
    },
    {
      "cell_type": "markdown",
      "metadata": {
        "id": "UD0whw5RDEeO"
      },
      "source": [
        "**Testes**"
      ]
    },
    {
      "cell_type": "code",
      "metadata": {
        "colab": {
          "base_uri": "https://localhost:8080/",
          "height": 35
        },
        "id": "sqHPgesUDFXO",
        "outputId": "833aa0e3-75b8-4f56-cda4-6d5165e1873f"
      },
      "source": [
        "Text = \"ACCTGTTTATTGCCTAAGTTCCGAACAAACCCAATATAGCCCGAGGGCCT\"\r\n",
        "k = 5\r\n",
        "Profile =  {\"A\": [0.2, 0.2, 0.3, 0.2, 0.3],\r\n",
        "            \"C\": [0.4, 0.3, 0.1, 0.5, 0.1],\r\n",
        "            \"G\": [0.3, 0.3, 0.5, 0.2, 0.4],\r\n",
        "            \"T\": [0.1, 0.2, 0.1, 0.1, 0.2]}\r\n",
        "\r\n",
        "ProfileMostProbableKmer(Text, k, Profile)"
      ],
      "execution_count": 146,
      "outputs": [
        {
          "output_type": "execute_result",
          "data": {
            "application/vnd.google.colaboratory.intrinsic+json": {
              "type": "string"
            },
            "text/plain": [
              "'CCGAG'"
            ]
          },
          "metadata": {
            "tags": []
          },
          "execution_count": 146
        }
      ]
    },
    {
      "cell_type": "code",
      "metadata": {
        "id": "cUqsc7m4DkiA"
      },
      "source": [
        "# with open(\"/content/dataset_159_3.txt\", \"r\") as dataset:\r\n",
        "#     data = []\r\n",
        "#     for line in dataset:\r\n",
        "#         data.append(line.strip())\r\n",
        "#     Text = data[0]\r\n",
        "#     k = int(data[1])\r\n",
        "#     raw_profile = data[2:]\r\n",
        "#     bases = ['A', 'C', 'G', 'T']\r\n",
        "#     profile = [list(map(float, raw_profile[i].split())) for i in range(len(raw_profile))]\r\n",
        "#     Profile = dict(zip(bases, profile))\r\n",
        "\r\n",
        "# ProfileMostProbableKmer(Text, k, Profile)"
      ],
      "execution_count": 147,
      "outputs": []
    },
    {
      "cell_type": "code",
      "metadata": {
        "id": "ftIjGYOFEUzd",
        "colab": {
          "base_uri": "https://localhost:8080/",
          "height": 35
        },
        "outputId": "51355346-0423-4631-d042-fa83107b83ea"
      },
      "source": [
        "Text = \"TGCTCGCTACGTGCGGCCAATAAGATTTCGGTGTTCAGATGTCTATACCGAAGGGACTGCTCTCTTTCTTATCTGGATGCGACTAGCCCTGGACGAGCCAAGGTGCCGTGCGGGGCAATCAGCCATGTGTCTCCCGGACAGTGGTGGAATAGCCCCCAGCATCGTATAGTACCTATCTGACAGTTATCTGTTATGTTAGTTTCCCACATGTCACTGCGGCGTCATCTGTCGTATACGGCAATGGCCCGATAAAGATCAGCTCGAACTCCCTTATTGTTATGTCAATAACTTTGGATAATAGCTCGTCGCCGGGCCATTTAATGACGCATAATTCGGCAGAAGCCAGGATAGTATTATCGGGGGACGCGGATTGGAAATTTGGCTCGAGGTCAACTCAGAAAGTTGACAAATCCGGCCAGGAAGCATCATCACATCCAACAATAATAGCCGTGCATTCAACGAGGAACAAAGAACTTGTGACGGGAAGCGTGGCAGGTTGGATCACCTTGTCGCTATCGTGAAATAACGATGTCCTGTCGTGGTTCTTAAGGGCATGTAGAAGCCGGCCAGCCCACAGACGCTGCTTCAGATCGCCCTTCCACCTCCAAGATGCTACCTGCTATCCCAGCGCTAGCAGTGGCGTAATTCCGTCGCTCCAACTTGGACCCAGCACGCACGGCCTTAATGTCTCGTCAGTTCCTTCGTTCTATATATTTTCGCGAGCTGGGGACCTACGCCGCGTGCAACTCGCATTCTTCTGCCGAAAAACATTAGTCGAGCACATTTACGATATTTGACTAACCGAGGATCGTATACTGAAAACGGAGGCAGCACGAAGGTTAAACTCAGACAGACATTGTCTTATAGCGCCTGAAAGGCGATGCACTCCTTAATCGATAGTCATGCTATTCAATAAGAATCACTTGATAGAGATCGCAGGGCAGGGCCGCCCGACGGACAGATTTCATATCGTGCGCGACACCGCGAGTGGCGAAGCCTG\"\r\n",
        "k = 13\r\n",
        "Profile =  {\"A\": [0.158, 0.211, 0.263, 0.25,  0.263, 0.316, 0.342, 0.25,  0.289, 0.197, 0.158, 0.289, 0.276],\r\n",
        "            \"C\": [0.355, 0.224, 0.276, 0.289, 0.382, 0.276, 0.263, 0.263, 0.237, 0.25,  0.289, 0.303, 0.158],\r\n",
        "            \"G\": [0.197, 0.382, 0.184, 0.224, 0.145, 0.197, 0.263, 0.289, 0.276, 0.171, 0.342, 0.158, 0.263],\r\n",
        "            \"T\": [0.289, 0.184, 0.276, 0.237, 0.211, 0.211, 0.132, 0.197, 0.197, 0.382, 0.211, 0.25,  0.303]}\r\n",
        "\r\n",
        "ProfileMostProbableKmer(Text, k, Profile)"
      ],
      "execution_count": 148,
      "outputs": [
        {
          "output_type": "execute_result",
          "data": {
            "application/vnd.google.colaboratory.intrinsic+json": {
              "type": "string"
            },
            "text/plain": [
              "'CCTCCAAGATGCT'"
            ]
          },
          "metadata": {
            "tags": []
          },
          "execution_count": 148
        }
      ]
    },
    {
      "cell_type": "markdown",
      "metadata": {
        "id": "g_6S6DiZFq1K"
      },
      "source": [
        "###**GreedyMotifSearch(Dna, k, t)***\r\n",
        "\r\n",
        "não consegui implementar\r\n",
        "\r\n",
        "pseudocódigo abaixo"
      ]
    },
    {
      "cell_type": "code",
      "metadata": {
        "id": "ZTahKbKJFtyc"
      },
      "source": [
        "#   GreedyMotifSearch(Dna, k, t)\r\n",
        "#         BestMotifs ← motif matrix formed by first k-mers in each string from Dna\r\n",
        "#         for each k-mer Motif in the first string from Dna\r\n",
        "#             Motif1 ← Motif\r\n",
        "#             for i = 2 to t\r\n",
        "#                 form Profile from motifs Motif1, …, Motifi - 1\r\n",
        "#                 Motifi ← Profile-most probable k-mer in the i-th string in Dna\r\n",
        "#             Motifs ← (Motif1, …, Motift)\r\n",
        "#             if Score(Motifs) < Score(BestMotifs)\r\n",
        "#                 BestMotifs ← Motifs\r\n",
        "#         return BestMotifs"
      ],
      "execution_count": 149,
      "outputs": []
    },
    {
      "cell_type": "markdown",
      "metadata": {
        "id": "Vv3yuUGShR94"
      },
      "source": [
        "##**WEEK 4**"
      ]
    },
    {
      "cell_type": "markdown",
      "metadata": {
        "id": "gODR5PLxFqzu"
      },
      "source": [
        "###**RandomNumber(N)**\r\n",
        "\r\n",
        "retorna um número aleatório de 0 a N"
      ]
    },
    {
      "cell_type": "code",
      "metadata": {
        "id": "Y5Luc3OyF1MF"
      },
      "source": [
        "import random\r\n",
        "\r\n",
        "def RandomNumber(N):\r\n",
        "  return random.randrange(0, N)"
      ],
      "execution_count": 150,
      "outputs": []
    },
    {
      "cell_type": "markdown",
      "metadata": {
        "id": "BBhmanVTOwgh"
      },
      "source": [
        "###**CountWithPseudocounts(Motifs)**\r\n",
        "\r\n",
        "retorna a quantidade de nt de cada posição + 1"
      ]
    },
    {
      "cell_type": "code",
      "metadata": {
        "id": "8ucSOuGhOulj"
      },
      "source": [
        "def CountWithPseudocounts(Motifs):\r\n",
        "\r\n",
        "  count = {}\r\n",
        "  k = len(Motifs[0]) # quantidade de nt dos motifs\r\n",
        "  t = len(Motifs) # quantidade de motifs da lista\r\n",
        "\r\n",
        "  for n in \"ACGT\":\r\n",
        "    count[n] = [1]*k  # cria um dicionário 4 x k, preenchido por um (Laplace)\r\n",
        "    \r\n",
        "  for i in range(t):\r\n",
        "    for j in range(k):\r\n",
        "      nt = Motifs[i][j]\r\n",
        "      count[nt][j] += 1 \r\n",
        "  \r\n",
        "  return count"
      ],
      "execution_count": 151,
      "outputs": []
    },
    {
      "cell_type": "markdown",
      "metadata": {
        "id": "COuiltQKO7xh"
      },
      "source": [
        "###**ProfileWithPseudocounts(Motifs)**\r\n",
        "\r\n",
        "retorna as frequências de cada nt em determinada posição + 4 no divisor\r\n"
      ]
    },
    {
      "cell_type": "code",
      "metadata": {
        "id": "qsv1RMVfO9A6"
      },
      "source": [
        "def ProfileWithPseudocounts(Motifs):\r\n",
        "\r\n",
        "  t = len(Motifs) + 4   # quantidade de motifs da lista + 4 para normalização por causa dos 1 adicionados\r\n",
        "  contagem = CountWithPseudocounts(Motifs)\r\n",
        "  profile = {}  # irá receber as frequências\r\n",
        "\r\n",
        "  for chave in contagem.keys():\r\n",
        "    profile[chave] = [valor/t for valor in contagem[chave]]\r\n",
        "\r\n",
        "  return profile"
      ],
      "execution_count": 152,
      "outputs": []
    },
    {
      "cell_type": "markdown",
      "metadata": {
        "id": "705jPoGjJzXw"
      },
      "source": [
        "###**Motifs(Profile, Dna, k)**\r\n",
        "\r\n",
        "\r\n",
        "retorna os kmers mais prováveis de cada string dado um perfil de probabilidades"
      ]
    },
    {
      "cell_type": "code",
      "metadata": {
        "id": "B8CNswG7Jyrt"
      },
      "source": [
        "def Motifs(Profile, Dna, k):\r\n",
        "  motifs = []\r\n",
        "\r\n",
        "  for string in Dna:\r\n",
        "    motif = ProfileMostProbableKmer(string, k, Profile)\r\n",
        "    motifs.append(motif)\r\n",
        "  \r\n",
        "  return motifs"
      ],
      "execution_count": 153,
      "outputs": []
    },
    {
      "cell_type": "markdown",
      "metadata": {
        "id": "_nLfRz0kFbda"
      },
      "source": [
        "###**RandomizedMotifSearch(Dna, k, t)**\r\n",
        "\r\n",
        "retorna os motifs com menor score a partir de uma busca inicial aleatória"
      ]
    },
    {
      "cell_type": "code",
      "metadata": {
        "id": "Vcbqv038FgIk"
      },
      "source": [
        "def RandomizedMotifSearch(Dna, k, t):\r\n",
        "  BestMotifs = []\r\n",
        "\r\n",
        "  for string in Dna:\r\n",
        "    All_motifs = AllKmers(string, k)\r\n",
        "    random_num = RandomNumber(len(All_motifs))\r\n",
        "    BestMotifs.append(All_motifs[random_num])\r\n",
        "\r\n",
        "  while True:\r\n",
        "    Profile_matrix = ProfileWithPseudocounts(BestMotifs)\r\n",
        "    Motifs_best_prob = Motifs(Profile_matrix, Dna, k)\r\n",
        "\r\n",
        "    Score_motifs_best_prob = Score(Motifs_best_prob) \r\n",
        "    Score_bestmotifs = Score(BestMotifs)\r\n",
        "    if Score_motifs_best_prob < Score_bestmotifs:\r\n",
        "      BestMotifs = Motifs_best_prob.copy()\r\n",
        "            \r\n",
        "    else:\r\n",
        "      return BestMotifs          "
      ],
      "execution_count": 154,
      "outputs": []
    },
    {
      "cell_type": "markdown",
      "metadata": {
        "id": "6sCOPoQSQvdF"
      },
      "source": [
        "**Testes**"
      ]
    },
    {
      "cell_type": "code",
      "metadata": {
        "colab": {
          "base_uri": "https://localhost:8080/"
        },
        "id": "HDOVECdcH1qE",
        "outputId": "805cebee-3786-4b20-b090-fa7b250c01aa"
      },
      "source": [
        "k = 8\r\n",
        "t = 5\r\n",
        "Dna = [\"CGCCCCTCTCGGGGGTGTTCAGTAAACGGCCA\",\r\n",
        "       \"GGGCGAGGTATGTGTAAGTGCCAAGGTGCCAG\",\r\n",
        "       \"TAGTACCGAGACCGAAAGAAGTATACAGGCGT\",\r\n",
        "       \"TAGATCAAGTTTCAGGTGCACGTCGGTGAACC\",\r\n",
        "       \"AATCCACCAGCTCCACGTGCAATGTTGGCCTA\"]\r\n",
        "\r\n",
        "i=0\r\n",
        "\r\n",
        "lastmotifs = RandomizedMotifSearch(Dna, k, t)\r\n",
        "\r\n",
        "while (i < 1000):\r\n",
        "  bestmotifs = RandomizedMotifSearch(Dna, k, t)\r\n",
        "  if Score(bestmotifs) < Score(lastmotifs):\r\n",
        "    lastmotifs = bestmotifs.copy()\r\n",
        "  i += 1\r\n",
        "\r\n",
        "for motif in lastmotifs:\r\n",
        "  print(motif, end=\"\\n\")"
      ],
      "execution_count": 155,
      "outputs": [
        {
          "output_type": "stream",
          "text": [
            "AACGGCCA\n",
            "AAGTGCCA\n",
            "TAGTACCG\n",
            "AAGTTTCA\n",
            "ACGTGCAA\n"
          ],
          "name": "stdout"
        }
      ]
    },
    {
      "cell_type": "code",
      "metadata": {
        "colab": {
          "base_uri": "https://localhost:8080/"
        },
        "id": "FnihHiYgQ2Y0",
        "outputId": "98cda39f-64de-4b28-d617-b9e4d53be796"
      },
      "source": [
        "Dna = [\"AATTGGCACATCATTATCGATAACGATTCGCCGCATTGCC\",\r\n",
        "       \"GGTTAACATCGAATAACTGACACCTGCTCTGGCACCGCTC\",\r\n",
        "       \"AATTGGCGGCGGTATAGCCAGATAGTGCCAATAATTTCCT\",\r\n",
        "       \"GGTTAATGGTGAAGTGTGGGTTATGGGGAAAGGCAGACTG\",\r\n",
        "       \"AATTGGACGGCAACTACGGTTACAACGCAGCAAGAATATT\",\r\n",
        "       \"GGTTAACTGTTGTTGCTAACACCGTTAAGCGACGGCAACT\",\r\n",
        "       \"AATTGGCCAACGTAGGCGCGGCTTGGCATCTCGGTGTGTG\",\r\n",
        "       \"GGTTAAAAGGCGCATCTTACTCTTTTCGCTTTCAAAAAAA\"]\r\n",
        "\r\n",
        "k=6\r\n",
        "y=8\r\n",
        "\r\n",
        "i=0\r\n",
        "\r\n",
        "lastmotifs = RandomizedMotifSearch(Dna, k, t)\r\n",
        "\r\n",
        "while (i < 1000):\r\n",
        "  bestmotifs = RandomizedMotifSearch(Dna, k, t)\r\n",
        "  if Score(bestmotifs) < Score(lastmotifs):\r\n",
        "    lastmotifs = bestmotifs.copy()\r\n",
        "  i += 1\r\n",
        "\r\n",
        "for motif in lastmotifs:\r\n",
        "  print(motif, end=\"\\n\")"
      ],
      "execution_count": 156,
      "outputs": [
        {
          "output_type": "stream",
          "text": [
            "CGATAA\n",
            "GGTTAA\n",
            "GGTATA\n",
            "GGTTAA\n",
            "GGTTAC\n",
            "GGTTAA\n",
            "GGCCAA\n",
            "GGTTAA\n"
          ],
          "name": "stdout"
        }
      ]
    },
    {
      "cell_type": "code",
      "metadata": {
        "colab": {
          "base_uri": "https://localhost:8080/"
        },
        "id": "0vurlv3qYEO6",
        "outputId": "e3704230-d676-4f63-dd2e-d3572d52edea"
      },
      "source": [
        "Dna = [\"TAGAGCAACGCCGGAAGATCACTCTTCTGTATCCATCGAGAGATTCGGAGCATGGCAAACGCAGAGAGTTGTCTTGTCCTCAGTGTGTTAGCGGACTTCGTAGCCCTTATGAAATAGACATAAACCATGGATGATCGCCGACATGTAGCGAGCTAGAGCAACGCCGGA\",\r\n",
        "      \"AGATCACTCTCGCAGCGCATCATGGTCTGTATCCATCGAGAGATTCGGAGCATGGCAAACGCAGAGAGTTGTCTTGTCCTCAGTGTGTTAGCGGACTTCGTAGCCCTTATGAAATAGACATAAACCATGGATGATCGCCGACATGTAGCGAGCTAGAGCAACGCCGGA\",\r\n",
        "      \"AGAGTCTGCGCGGGCCTGATGTGACTTCTAGGGTTCACTACTTTGGTGCTTGCTATGCGCCACGATCGGGCGGACCAAACCGGACATATTTACCCAGACACAGGTGCGCCGCGCATCATGGAGGCAAAGTCTCTATCACATATTAACTGACGTCACGTTGACCGAGCC\",\r\n",
        "      \"CTGTAGGCCCGTTGATGGACTGGCGGCGTTCGGGCGAATTGGCACTTTAGATCGGCAGCGACGTGGCCCGGGTACCTCAGCATCATGTGACCGCTGGATTAAACGTAGACCACCGTACTTCGTCTACTAGGCCGAAATACCTCGGTATTTCAGCACCATACCAACCCA\",\r\n",
        "      \"CCTCAGACGCTCTTGATCATGGCGACGCGGGAATAGATGTATGTCTTCATGCCCCGTGGTGTCGATGCTACATTTTGAAGTCTTAACACCGAACGGTTATCTCAACTCCTACCGTTCGAGAAAACCGCGCACAAAAAAAACCTCGTGAAACCATAGTTCTTCAAACCC\",\r\n",
        "      \"AGACCCGTATCGCCAAAGACGGTTCCTTCGTTAAAGATGGTCAAACCACCGTAACGGACGGCTCAGCATCATCCCGGCCAACGCTGGGAACGATAACCTTATGATATTAGTGCAGGTCCCAACGGGCTGAAAGCCACGGCTGGGGTTATCTTGATATTTTTAACGAAA\",\r\n",
        "      \"GGGCAGCCTGCGCCCGGACGGTTCGACACTCCAGAGCGCGCTCAGCGATATGGGGCCGAACAAGAGCTACATTTTATTAACCCCAAGCTGAGCGGGTTGTGACAAGGGCATGTTCTCAGTAATGCAACCTCGTCCACTCATGGACGAATTAAGCAAACCTCTAAGTGA\",\r\n",
        "      \"GGCACTACATCGTGAGCGCAATGGCTGCCCGGTACCCCATTCCCGACTCTGTGCAGACTGATAGGCTACCGTCTGATGGGCTTTTGCTGGTTGTTCGCTCAAACTCATGGCGTCCTCTAGTCTAACCTTCTAGGAATTAACGTCTCCTGACATGCAAAAAAGCATATA\",\r\n",
        "      \"ACATGTCGGAGCACTTTTGCACTTATGAGCCGCTCACGGTCATGGCGGGTAGCTTAACTTCCGGGCATAGTTTTTTTATCCTGTTCATCGAAAGACCAATCGGAGAGGGCTTGAGGAAGGACTCTGCCGGGACGGCGAGCCTGGCACATCTAAGTAGGCATGGTGCGC\",\r\n",
        "      \"GTGAGGAGTCGTGACTTAGCGGTTGGCTCCCCGAACGCTTAATACGAGTACACACACTCCTTCTGTCGAGCGCGTGGCTGGGGACGCATGCTACATGGGCCCGTTCGGTGCCTTAGGGGCTGTGTCCTCACGAACTGCTGGGCGACCCCGCTCCAAATCATGGCCTAC\",\r\n",
        "      \"CTGGGGCGGAGTGTGGCTTCCGCTCTATGGAAATCCAACCCTGCAGGTTCACATGGAAATTTACGCCCTAATGACATGGCACGCTTGTCCGACCATGTCAGCGCAGGTGAATGTCAGCATCATGGATCAGCAATAGCCGCTGTACGAACGCATGGTCACGCTGGGCAA\",\r\n",
        "      \"TTCCGCCTGGCATGACGGAGTGTTATAGAACATTTGGCAACAGGCTCCGTTAGCTAGTTGTCAACGCTGGACATCATGGCTAGAGCTGGAGTGCAAGAATTACGGTGAACAGAACCAAACGGGTTATTAGAATCGGACTACGGTTTGCTTATGGGAATTCGCCGTCTG\",\r\n",
        "      \"ACGTTTGCAACTCTCCATCTGCGGCTCTCTCGTTCGATGAATCTGGACAAGACTTACTTGGTGGCATATTTTAATTCTCTCTGTGGACCCGGCTAGCATCATGGACTATAACTATAGTCGATTCGACTTGCTCTGAAGATTAACCTTAAACCGAATTTTAAGCCTACT\",\r\n",
        "      \"GCTCGTCCCAACCTTGTAGTCCTTAAGTATATAAGTTGCGGACGCTCAGCATTTGGGTTATGAAGGCGTTTTGTCTTGGTCAATATGAGAGGTGCTCACTTTGAATCGCAACCCCTTTTGACCGGGCTTGTGTCTACAACCCAGCCACAGTCTGGATGATTAACTCCG\",\r\n",
        "      \"AGCGTCGTACGTCTTCCTCCGTTCGTAAAGGTGTTGTGCAGGAGCCCCCACAGCAAATATAGAGGGCCTCTTTGCATTTATGCGGCTTGTTTCTAAAATTCTGTAAGGTCCTACGCAACGACAGTCGTGATCGCTCAGCATCGCTGGACACTGGCTTGGAATATAGAA\",\r\n",
        "      \"AGTTGCAGAAATCATCCGGGTCTGTCTCGTCTCTCGCCACCCAAGTGGCGCTGTTCCTCTTACCGGCGCTCTCGCTCAGCAATTTGGCGGACTTGTGTACAAAAGAGCTGGCATGCGAGAAGAGAATGCCGCGTATTCTACTTACGAATATATTTGAGGTAGTTTCGT\",\r\n",
        "      \"ATTCCCCGCTCAGGGGCATGGCGCCAAACGGTCTATATAACGTTCTTCTCTGCAGCTCCTGATGTTATGACCATATCTGGTGATGCTAGTCAAAACATACCTACTCGGTGCTCATTATACGACCGGCACCGACTTACCTATAATGCGGAGGCCTTGTCCAGGCCTGGG\",\r\n",
        "      \"CAGAATTAACGTCCGAAGGGCTGGCACTTGATTACCAAAGAGAAGGCTCGAATAAACACGCCGCTACTCATCATGGCCGTAGACCAGAATCACCACGTTAAGTGTTGAGGATCCCACGCTCCCACTATGATCGTGTAGTACAACATTAACACATGGGTTCACTTCAAC\",\r\n",
        "      \"TCCCACCGAAATCGTGTTACTAACAATTAGAGTTTTTATATCGATGAGACAGGTACTGGTGCCGAAGGTTAGCCGATATAGGTATCGCTGGAAGCCTGGCCTCCAGCATCATGGGATGTTTGAGCGGCATCCTCAGTGCTAGTGTGCTGGGTGCTTGTGGGGCCCTGA\",\r\n",
        "      \"TCCGCTCAGCCGGGATACTAAGTAGGTAAGACGTTAAAGTTCGTCGACTCCTTCTTAGACTCTAGGTGCGCTCAGCATCAATCGGCAAATCCGAGGCCGGATTCATACTATTGGATGAGATCGCTAACATGACGATGGAATGATATAGAACCTAGGCACCGAGATTCT\"]\r\n",
        "\r\n",
        "k=15\r\n",
        "y=20\r\n",
        "\r\n",
        "i=0\r\n",
        "\r\n",
        "lastmotifs = RandomizedMotifSearch(Dna, k, t)\r\n",
        "\r\n",
        "while (i < 1000):\r\n",
        "  bestmotifs = RandomizedMotifSearch(Dna, k, t)\r\n",
        "  if Score(bestmotifs) < Score(lastmotifs):\r\n",
        "    lastmotifs = bestmotifs.copy()\r\n",
        "  i += 1\r\n",
        "\r\n",
        "for motif in lastmotifs:\r\n",
        "  print(motif, end=\"\\n\")"
      ],
      "execution_count": 157,
      "outputs": [
        {
          "output_type": "stream",
          "text": [
            "AGATTCGGAGCATGG\n",
            "CGCAGCGCATCATGG\n",
            "CGCCGCGCATCATGG\n",
            "ACCTCAGCATCATGT\n",
            "CGCTCTTGATCATGG\n",
            "GGCTCAGCATCATCC\n",
            "CGCTCAGCGATATGG\n",
            "CGCTCAAACTCATGG\n",
            "CGCTCACGGTCATGG\n",
            "CGCTCCAAATCATGG\n",
            "ATGTCAGCATCATGG\n",
            "CGCTGGACATCATGG\n",
            "CGGCTAGCATCATGG\n",
            "CGCTCAGCATTTGGG\n",
            "CGCTCAGCATCGCTG\n",
            "CGCTCAGCAATTTGG\n",
            "CGCTCAGGGGCATGG\n",
            "CGCTACTCATCATGG\n",
            "CCTCCAGCATCATGG\n",
            "CGCTCAGCATCAATC\n"
          ],
          "name": "stdout"
        }
      ]
    },
    {
      "cell_type": "code",
      "metadata": {
        "colab": {
          "base_uri": "https://localhost:8080/"
        },
        "id": "6a3P5cWh_duQ",
        "outputId": "662053fe-2846-418d-cad6-44200b9391b7"
      },
      "source": [
        "((1/586)*10) - (1 - ((585/586)**10))  "
      ],
      "execution_count": 158,
      "outputs": [
        {
          "output_type": "execute_result",
          "data": {
            "text/plain": [
              "0.00013044948727200176"
            ]
          },
          "metadata": {
            "tags": []
          },
          "execution_count": 158
        }
      ]
    },
    {
      "cell_type": "markdown",
      "metadata": {
        "id": "hZh7PXAylCHZ"
      },
      "source": [
        "###**Normalize(Probabilities)**\r\n",
        "\r\n",
        "normaliza as probabilidades para que a soma seja igual a 1"
      ]
    },
    {
      "cell_type": "code",
      "metadata": {
        "id": "jWBFelPslCY_"
      },
      "source": [
        "def Normalize(Probabilities):\r\n",
        "  normalizado = {}\r\n",
        "  soma = sum(Probabilities.values())\r\n",
        "\r\n",
        "  for chave, valor in Probabilities.items():\r\n",
        "    normalizado[chave] = valor/soma\r\n",
        "  \r\n",
        "  return normalizado"
      ],
      "execution_count": 159,
      "outputs": []
    },
    {
      "cell_type": "markdown",
      "metadata": {
        "id": "Vk_m0uCmlWP7"
      },
      "source": [
        "###**WeightedDie(Probabilities)**\r\n",
        "\r\n",
        "gera um \"dado\" ponderado e sorteia aleatoriamente "
      ]
    },
    {
      "cell_type": "code",
      "metadata": {
        "id": "qwnLe1j6lU_-"
      },
      "source": [
        "def WeightedDie(Probabilities):\r\n",
        "  count = 0\r\n",
        "  p = random.uniform(0, 1)\r\n",
        "  \r\n",
        "  for key, value in Probabilities.items():\r\n",
        "    count += value\r\n",
        "    if p < count:\r\n",
        "      return key"
      ],
      "execution_count": 160,
      "outputs": []
    },
    {
      "cell_type": "markdown",
      "metadata": {
        "id": "4_MaGZi3lxqq"
      },
      "source": [
        "###**ProfileGeneratedString(Text, profile, k)**\r\n",
        "\r\n",
        "seleciona aleatoriamente um kmer baseado numa matriz Profile"
      ]
    },
    {
      "cell_type": "code",
      "metadata": {
        "id": "FsusxgaOlwvp"
      },
      "source": [
        "def ProfileGeneratedString(Text, profile, k):\r\n",
        "  n = len(Text)\r\n",
        "  probabilities ={}\r\n",
        "\r\n",
        "  for i in range(0, n-k+1):\r\n",
        "    kmer = Text[i:i+k]\r\n",
        "    probabilities[kmer] = Pr(kmer, profile)\r\n",
        "\r\n",
        "  probabilities = Normalize(probabilities)\r\n",
        "  kmer_escolhido = WeightedDie(probabilities)\r\n",
        "\r\n",
        "  return kmer_escolhido"
      ],
      "execution_count": 161,
      "outputs": []
    },
    {
      "cell_type": "markdown",
      "metadata": {
        "id": "fpV_nVt8plC-"
      },
      "source": [
        "###**SelectRandomMotifs(Dna, k)**\r\n",
        "\r\n",
        "seleciona 1 motif aleatório de cada string de Dna"
      ]
    },
    {
      "cell_type": "code",
      "metadata": {
        "id": "pRXYmkIpptyr"
      },
      "source": [
        "def SelectRandomMotifs(Dna, k):\r\n",
        "  random_motifs = []\r\n",
        "  for string in Dna:\r\n",
        "    All_motifs = AllKmers(string, k)\r\n",
        "    randon_num = RandomNumber(len(All_motifs)-1)\r\n",
        "    random_motifs.append(All_motifs[randon_num])\r\n",
        "  \r\n",
        "  return random_motifs"
      ],
      "execution_count": 257,
      "outputs": []
    },
    {
      "cell_type": "markdown",
      "metadata": {
        "id": "OCwv-e3zsNDp"
      },
      "source": [
        "###**Random(probs)**\r\n",
        "\r\n",
        "seleciona de maneira \"aleatória\" o kmer mais provável de acordo com as probabilidades de cada kmer (dado \"viciado\")"
      ]
    },
    {
      "cell_type": "code",
      "metadata": {
        "id": "W7w8MWN5sMlO"
      },
      "source": [
        "import numpy as np\r\n",
        "\r\n",
        "def Random(probs):\r\n",
        "  valores = list(probs.values())\r\n",
        "  chaves = list(probs.keys())\r\n",
        "\r\n",
        "  soma = sum(valores)\r\n",
        "  probabilidade_normalizada = [valor/soma for valor in valores]\r\n",
        "  \r\n",
        "  num = random.choices(range(0, len(valores)), probabilidade_normalizada)\r\n",
        "  \r\n",
        "  for n in num:\r\n",
        "    return chaves[n]"
      ],
      "execution_count": 295,
      "outputs": []
    },
    {
      "cell_type": "markdown",
      "metadata": {
        "id": "eZvS-ogWK9tc"
      },
      "source": [
        "###**ProbKmerFromDeletedString(Text, profile, k)**\r\n",
        "\r\n",
        "retorna as probabilidades de cada kmer da string removida no GibbsSampler"
      ]
    },
    {
      "cell_type": "code",
      "metadata": {
        "id": "iWVknkL9KvHh"
      },
      "source": [
        "def ProbKmersFromDeletedString(Text, profile, k):\r\n",
        "  n = len(Text)\r\n",
        "  probabilities ={}\r\n",
        "\r\n",
        "  for i in range(0, n-k+1):\r\n",
        "    kmer = Text[i:i+k]\r\n",
        "    probabilities[kmer] = Pr(kmer, profile)\r\n",
        "\r\n",
        "  return probabilities"
      ],
      "execution_count": 309,
      "outputs": []
    },
    {
      "cell_type": "markdown",
      "metadata": {
        "id": "YkhH2ISjiKcT"
      },
      "source": [
        "###**GibbsSampler(Dna, k, t, N)**"
      ]
    },
    {
      "cell_type": "code",
      "metadata": {
        "id": "loIOpM1sGtXX"
      },
      "source": [
        "def GibbsSampler(Dna, k, t, N):\r\n",
        "  random_selected_motifs = SelectRandomMotifs(Dna, k)\r\n",
        "  BestMotifs = random_selected_motifs.copy()\r\n",
        "\r\n",
        "  for j in range(N):\r\n",
        "    n = RandomNumber(t)\r\n",
        "    random_selected_motifs.remove(random_selected_motifs[n])  \r\n",
        "    profile = ProfileWithPseudocounts(random_selected_motifs)\r\n",
        "    probabilities = ProbKmersFromDeletedString(Dna[n], profile, k)\r\n",
        "    selected_motif = Random(probabilities)\r\n",
        "    random_selected_motifs.insert(n, selected_motif)\r\n",
        "    if Score(random_selected_motifs) < Score(BestMotifs):\r\n",
        "      BestMotifs = random_selected_motifs.copy()\r\n",
        "  return BestMotifs\r\n",
        "\r\n"
      ],
      "execution_count": 307,
      "outputs": []
    },
    {
      "cell_type": "code",
      "metadata": {
        "colab": {
          "base_uri": "https://localhost:8080/"
        },
        "id": "ey99f9yYmvhS",
        "outputId": "3cb6701b-c9d0-4120-f91e-551c0b4a10da"
      },
      "source": [
        "k = 8\r\n",
        "t = 5\r\n",
        "N = 100\r\n",
        "Dna = [\"CGCCCCTCTCGGGGGTGTTCAGTAACCGGCCA\",\r\n",
        "       \"GGGCGAGGTATGTGTAAGTGCCAAGGTGCCAG\",\r\n",
        "       \"TAGTACCGAGACCGAAAGAAGTATACAGGCGT\",\r\n",
        "       \"TAGATCAAGTTTCAGGTGCACGTCGGTGAACC\",\r\n",
        "       \"AATCCACCAGCTCCACGTGCAATGTTGGCCTA\"]\r\n",
        "\r\n",
        "\r\n",
        "bestScore = 100\r\n",
        "for start in range(20):\r\n",
        "    bMotifs = GibbsSampler(Dna,k,t,N)\r\n",
        "    if Score(bMotifs) < bestScore:\r\n",
        "        bestScore = Score(bMotifs)\r\n",
        "        bestMotifs = bMotifs\r\n",
        "\r\n",
        "print(bestMotifs)\r\n"
      ],
      "execution_count": 314,
      "outputs": [
        {
          "output_type": "stream",
          "text": [
            "['TCTCGGGG', 'CCAAGGTG', 'TACAGGCG', 'TTCAGGTG', 'TCCACGTG']\n"
          ],
          "name": "stdout"
        }
      ]
    },
    {
      "cell_type": "code",
      "metadata": {
        "colab": {
          "base_uri": "https://localhost:8080/"
        },
        "id": "STgzhxJF5azJ",
        "outputId": "4b389395-fd3c-45d5-eba9-e04f25dd48a8"
      },
      "source": [
        "k = 15\r\n",
        "t = 20\r\n",
        "N = 2000\r\n",
        "Dna = [\"GTGTGGGTTGTTCTGACGAAAGAAGTACCCTGAAACTGCGACGGGGCCCTCATTTTCACAAGGTTGACAGAATCCTACAGAATTGACGTTTCATGATTGTACCAAGAGTACGTCCTCTCGGGATCAGGGTCCTCGCACATTTTTATCGCTTGCGCGAACATGAGCAGCACACACTGAGGGGGTCAAACCAGATCCGGCGACCGAGGAGACCGAGTGAAGCTCACCCAGATAGTAGCTAATGCTATACACACACTTCGCGGTGAACTCGGGCGTGGGCACTGACCAGGTAATTCTACGAACAGTGTTTTAGGGCACTGTGTGGGTTGTTCTG\",\r\n",
        "      \"ACGAAAGAAGTACCCTGAAACTGCGACGGGGCCCTCATTTTCACAAGGTTGACAGAATCCTACAGAATTGACGTTTCATGATTGTACCAAGAGTCTCGTAAACTACCGTACGTCCTCTCGGGATCAGGGTCCTCGCACATTTTTATCGCTTGCGCGAACATGAGCAGCACACACTGAGGGGGTCAAACCAGATCCGGCGACCGAGGAGACCGAGTGAAGCTCACCCAGATAGTAGCTAATGCTATACACACACTTCGCGGTGAACTCGGGCGTGGGCACTGACCAGGTAATTCTACGAACAGTGTTTTAGGGCACTGTGTGGGTTGTTCTG\",\r\n",
        "      \"AACGTCTAGCGTACTTTAGACAACGAAAGACAAACCCTGATCAAATTCGCCTTTCCCAAGCAGACTGAGCGGCCACAGGGTCATTGCAAAGGTTGGCCGGGTATCCATTCACTGTTCAACCTTGCCGACTGAAATGTGGATTCGGGGAGCCTTTAATGGGTCTAGTGATACGGTGCACATGGGGTCTATCTCCTCCCTTGTATTGAAGGGACTAAACGGGTCTCGTGTAACTCGAATTCGAGCGAATTGTCGCCCTTAAGCAAACGACCGGAGCATCCTCGAATCGGGTGTGTCGATTAGGATACCGACGAACAGTGGAGTCGCATTACAC\",\r\n",
        "      \"GAACAGCCTGAACCCATGCGACTTGACGGGAAAAGTATCAATATTAGACCCCCGTGGAGCGTGGAAAAGGTACGGGATGGACACAGCTCTCTGACCGTGGTTACTGTCTCATCCCTCTGCCGTGAGTATATGGGTGTCCCGCCCGAACTCGACAATATGATAGCTACTTCACAAAGGACTCGACTCCTTAGCGAATTAAACTACCGCTCGGTTAATCAGTTTCTGGAAGCACTATGTCGTATGCTCTCACTCTTATCAATTATCAGAGAGACAATACTCAACTACTCCATCACCACGCTCTCAATGACTTGTGCCACTCTCAGGCTGCTCT\",\r\n",
        "      \"TTCCATTAACTTTGAAGTTTGTATGCCCCTGAAATGCGATTGGTCGCGTACTTGAAAAGTGTCATTGAGGTTTGGGGAAGAGTCCCCCCAAACCCAGGAAGCGGGACTATATCTAGATATCCCAGGATAAGACTTGAGACAATTGGGAGATACACACGATGTGATCCTACGAAGTTTTCCCACGGTTATCAGCACTTCGCGTTGCTATTCAAGATGCTTTCAGTGGACGTAGCCCCCCTCAAGTTAATCACGAACGAGCGTAGGTTTGGCTAGGTTCCAAATTATGTCGATGCGACTACCCTTGCGACCCGATCCAGGTCGAAATGCAGTT\",\r\n",
        "      \"CTGGTGTGACGCCTCCGGACATGGTCATTCGCTAAGGCCGACTCTCATCGGAGTATGCTGCAACCTGCCACCGAAATAGACAATGGCCTAGTTAAAATTGCGGTTTAAATGGGGTGCAGCAGGGTACTTCGTCCAGTCTCAGGGTGTTGGTAAACGAACGCGAGACATTAACGCAAACCATGGGATCCGTGGGCTCGGAGATAGTGGTAGTTTTGTGTTGCGCGCACCCTCTATCTTAGGGAACCATTTGCTACGCTATTATTCCTAAGTCGATACGACTACCAAGCAGCCGCCGGGTTGGCTTGTGGCGTACTACTAATGCGCTGACCTA\",\r\n",
        "      \"TTACTACACAAAAGCTAGTATAAAGCTCTACTTGCAGGGGCGGTTAGATATAGACACCAATCGAAAAACTCCGGACGAATCGGTAACTTAATCTCCCGGTTCTAGGTTGAACCCTAACGGCAAATCGTCTGGACAGTAATTTACGTGCTCATAGGCGTGAGCAACGTGAATTAGGATGACGGCGTTAAAGTGCGCCTATAGGTCGACCGTTATTGAATAACCGTTAGGGGTTGAATTGGTTTATGAGCCTGCCAGAATTTACTTGCCACCACAAATTGCGGTTATGGTTCGTCGATTGTCCTACCGAGAAGAGATACGCACGGTACAAGCT\",\r\n",
        "      \"AAACTTCACGTGTTACGGACGCTCAGGTTCGATTAAACTATAATAAAATTGTATGGGTGGGACGCTACCGCGCGCGTGACCCACAGAATCGACGGTTTGAGTGCACCTGGATATAGCGCCAAACCCTTCTACTCTCCCCGGGGGGCCACGAATATTCTTAGTACGGAGCGCGCCGAAAGGTCTTCACCACTCGGGACCGATCCGTCTGAAACCTAACACCGTAACTACATAAGGACCTACGTTATCACCAATTATATCTTATGAATTCCGCAATGAATGGGATAAACAAGCGCCCGAGGATATCATAAAGACTGAAGTATACATCTGAGTC\",\r\n",
        "      \"TGATGGATAAAACTAACGCCCGGCATTTAGCGTTCTGAGCATACGCGCATAGGGTGTGGATGCTCTAAAATAAAGACTCCCTAGGGCATGCCTAACAGGAAGTTAGCGGCACCCGTCCTACCTGTGTTAGCATTCCTGGAATTACGCCAGGCACCAAGGAACTTGCGCTGGTCGATTAAACATGCAACCTCGGGGAGACGACTGTGACATCAAAATGGTTACCACACAGAAAACACAAGCAGTTGGCAGCCACACTGTACTGGCTATCAGTATAGGCCCATGGGCTTCTCACATCACTCCACTTCCATTCCTGTATTGCAGGCAAAGTCGC\",\r\n",
        "      \"GGACGGAACAAATCGTCATGAAGAAGAGCTTGGGGTGTAAAGATGCTTTCTGCTCAATCTCTTAGAAACCTCGTCATACCTTCAGCGTGCTAGCCGAGGCTTGGTCGCTTGATAACTGCTCATGAAGAGCAAACGGGGTTTGTACTTGATCCACCAACGGAAAACGTTACTGTCGATTAATTCACCGCGCAACTAGTCTTTGGAGGCTAGGGCACACCGCGAAAAGGGCGAGCACTCGTCCTCTCAAGCTTCAGAATGGAACGCCAGATCGATCTGCCAGAAGGACGGGATGATAAATTAGAGCGCCCCACCCCTCACCCCACCCTGTGTC\",\r\n",
        "      \"GAGAACGGCGATGCAGGCGAAACTCAATTGGATTAACGGAGTCCACCAGGTCATCACGGAGACTATCACATAGGATTTTACTTTGCTACCCACGATTAAACTACGTATTAGTTTGACGGGAATTGGCAAGAGGACGCCGACACCGGACGTTTACTCCTCTCCGTCTGTACGCGCGACTCAAACGAAGGGGGTCCGGCATAAATAGAAGTCAGCTATCAGTTGAGCGCGTCTTACGGCGTATCTTCATCTCCGCGGCTGAAAAGTGATTTACTGGAATCATAACCATCTGTGACTGGCAAAGACTCAAGCATGTGGCATTTTTTTCGCCGGT\",\r\n",
        "      \"TATCAGCCTCATACCTACTCCTTAGACTCTGCCGTCAGCTGGAACGTGGCGACTTATGTTCGAACTAAGATGTCTTTCGCAGAGCGATTTCCTTAAGTCGATTAAACTTTAAAGGGTTGTCAAGACTATTGCCGAGGCGAGACATAGCTCCTTATAAAATCGATGTCAAAGGCGCTTGAAGTGCGCCTCAAAAGACATGACGCGTGAGCGTTCGAGGGGAGCCTGTCATTTGTTCTACTCCGCTCCAAGGGAGTCCTCACGGACGCATTTCTTGTGTCACAACAATAGCATCGATGCCATGTATATCTGATTCGCATACTTGCCCTCTCTT\",\r\n",
        "      \"GCGCCAGGAGGCGTTATCCAGGCGGATATCAGCGTAAGTGTTTGCCTTCTACCCCAAGACTACCCTTCGAAAGGATGCATAGAGGACATCTAGCGTCGTTATTAGCTCGATACTAGCCCCAAGGCTGAGGTGTTCTTCGCTAACTGACAAACCCGTGTCATAAATTATTACAAGGCTCCTCAGTTATTCATCTTGGATTTATCGAGAAGTGCATGGCTCTACAGCTGGTGGATTCCCAAGCAGACTTGAATGAGCAGCAACTACTACGACAGACGTAGCCGTTGCCTTTTGGCCGGTGGTCGCCGAAACTACCTCGGTACGAGTATACAAC\",\r\n",
        "      \"TAGTTCGCAGTAATGGGTCCCAGCCGTTGTTACCCCAAAGGCTATATGCGACACTTAGCATCCCTAATTTAGTTTACTCCGCTTGGATGCAGTATCCCTGCCCCGAGCTCTTGCTCGCAGGGACCCGCACTGGCTATAGCCTAGGGCTTCCGCTGCTCTGGCCAGGCCCGTAGTCGATTAAAACCCCGTATTCTAGCTTTAAGGACCTGCCTCCGGTATGTTCTGTTCCAGAGATCGCATTGAACGCACCGTAACATAGGCATAGCCCGTATACGGAACCAGGTCCTTTAGTTTAGCGGCAATAGTACCTAAACGGTTCATCACATGTTTC\",\r\n",
        "      \"GGTGCAGCGCAGGAATTTATGCACGGCCAGTGACAGCTATCCTAGCTATGATACCCCACCTCCCCCGGATTGCCGAGCTGTCATATAGTGAGTACACGTGTCTGTCCTCTTATTAGGCTGGGGGGCATCTGTAGGTCGAGCCGTATTGCGTTAGAGCTTATGCCACCCTATCAATCACGAGTTTGGCCAGATTCATTTCTGGTAAGGCCTTTCGGCAATGGTTTAGCGTCGGACAAACTACCCACTAACGCTCTGTCAGTTAAACCTTCAATGTATAAACAAGGTCCCTGAACTGAGTCATCACACTGTAGAATACCCCGAGAGCTCGCGC\",\r\n",
        "      \"TACCTCCTATCTATTGGGAGCGGAAGTTACACCGAGCGTCTTTCGTGTTTTAAGCCCTATGAACTGTGAGGCGTCGACAGAACTACCGAGCATGTTGCCGGATGAACTGGGCAGATCACGCCAGGGTTTCTATCGGATGCGGTAGTAGCTGCAGCAGATCGCGTGCTGAATGTATATGAGATTTATCTCCTTTATGTTATTGGATGGCCCGGAACCGCGGTCAATATGATTCAGCACGTCGGTCGTTGCGGGTTAGATCTAATTAGAGTGGGTTTCACGAGTCGGGCAGCGGTCCTTCCCAATTGCTGCAACACACCGTCACAAGCAGATA\",\r\n",
        "      \"AGAGCGAAGATCTCCCTAAAGTCACGGCATCAACGTAATCATGATCTGCTCCACTATGGGTCTTAAAGGCTGCGGCGAATCGGGCCTTACACTTGTATAGCCGTCTTTCAGGTTGCTAATTAACATCCTCTCTAATTCAAGGTTAGTGTTTTAAACTACCTTCGCAGGTTTGCGACTGATTTCAATTAGCGGTACCGCGTGACCGCTGCCCGGCTGCACTAGGAGATGAATTGCCGGTTTACGGGGATTCCGCTGCTGTGATGTGAAGTCTACCCCGACCATGGCTTTTCATTGACTATAGACTCTCCATCCATTCCAAAGTCGACAAGGT\",\r\n",
        "      \"CCATGTGCATCAGTAAAACCCACTGGTCGGCGGGCGGATCCCCCGGTCCGACGTGCCTGTACACACTTTGGTTTTTTGATTTGTACAAGTAGTGAGTCCTATCCTCGCCTGTCCGGTAAACTACCTAGACCTAGGAATGTCATGGGAATGTGGCGCATCCCATTGCCGACTAGAGTATATAGAGAACGCGCCGTACTCCTACAACGTATTTCGTTAATCTTTGGATTGTTTTGGGGGAGGTGCCTAACGTAATAGGCTAGAGTCACGTATCGGAACTTTCGGATGTCTTCGTACCCTTGACCGTCCGCCTCGAAATTTACTTGGGAATGTT\",\r\n",
        "      \"ACGGCACTTAGCTGCCAGATACTATTGGTTTCATCCAATGGGAGTAAGTCTCGCTTCGCGCGACGTGCTTGATGACGGACCTCACGCCTTAAGACGATTAGCAGTAATTTCTGCACGTAATTAATCACGATTTGCCTTAGAATAAACTATTTGATGTATATGCGTAGGGTCCCGGGCCGATTAATACCGTTCCACAGGAGAACTCACTACAGGAGGCAAGGAATACTGCATTATAGCGGGGCGCGCGAACGGGTTTTAACTTCGATGGTAGCTTTCGGCGCAAAACTTGTGATCTTGGGTACGTAGCCAAAGTGTGATTAAACTACCTTGT\",\r\n",
        "      \"CTTTTGGTCTTAAAAGGGTGCGTACCACACCCTCGTATCCACTTATGCTTAGTAAAAAGGTTTGATCCTTGGGCCAGAACGATTGCACTTAGCAAATTCAAGGGTTTCTTAACTTCGCAGGACTCTATCTCCAGCCCAGGGTCCGCAGGTCTCAACCGCACAGAAGAACGGGAATGCACTATCATCTCCAGAGTAGCGATCGTTTCCCCAATCGGCACAATTCGGCCAAAAGTTGACGACAAATTGAATACATGTCTAGAAGTTGACCAAGCTAGGTCTGTAGGCTCAATCATCCTCGTAGGTCCGTCGACGCAACTACCCCTCATTTCAG\"]\r\n",
        "\r\n",
        "\r\n",
        "bestScore = 100\r\n",
        "for start in range(20):\r\n",
        "    bMotifs = GibbsSampler(Dna, k, t, N)\r\n",
        "    if Score(bMotifs) < bestScore:\r\n",
        "        bestScore = Score(bMotifs)\r\n",
        "        bestMotifs = bMotifs\r\n",
        "\r\n",
        "print(bestMotifs)"
      ],
      "execution_count": 312,
      "outputs": [
        {
          "output_type": "stream",
          "text": [
            "['GACGAAAGAAGTACC', 'GTCTCGTAAACTACC', 'GTCGATTAGGATACC', 'GCGAATTAAACTACC', 'GTCGATGCGACTACC', 'GTCGATACGACTACC', 'GTCGATTGTCCTACC', 'TTCGATTAAACTATA', 'GTCGATTAAACATGC', 'GTCGATTAATTCACC', 'CACGATTAAACTACG', 'GTCGATTAAACTTTA', 'GTCGCCGAAACTACC', 'GTCGATTAAAACCCC', 'GTCGGACAAACTACC', 'GTCGACAGAACTACC', 'GTGTTTTAAACTACC', 'GTCCGGTAAACTACC', 'TGTGATTAAACTACC', 'GTCGACGCAACTACC']\n"
          ],
          "name": "stdout"
        }
      ]
    },
    {
      "cell_type": "code",
      "metadata": {
        "colab": {
          "base_uri": "https://localhost:8080/"
        },
        "id": "J2vZbwu9Nu1o",
        "outputId": "f1f37caa-9d5e-4628-c0e1-4efbc9a9743a"
      },
      "source": [
        "for motif in bestMotifs:\r\n",
        "  print(motif, end=\"\\n\")"
      ],
      "execution_count": 313,
      "outputs": [
        {
          "output_type": "stream",
          "text": [
            "GACGAAAGAAGTACC\n",
            "GTCTCGTAAACTACC\n",
            "GTCGATTAGGATACC\n",
            "GCGAATTAAACTACC\n",
            "GTCGATGCGACTACC\n",
            "GTCGATACGACTACC\n",
            "GTCGATTGTCCTACC\n",
            "TTCGATTAAACTATA\n",
            "GTCGATTAAACATGC\n",
            "GTCGATTAATTCACC\n",
            "CACGATTAAACTACG\n",
            "GTCGATTAAACTTTA\n",
            "GTCGCCGAAACTACC\n",
            "GTCGATTAAAACCCC\n",
            "GTCGGACAAACTACC\n",
            "GTCGACAGAACTACC\n",
            "GTGTTTTAAACTACC\n",
            "GTCCGGTAAACTACC\n",
            "TGTGATTAAACTACC\n",
            "GTCGACGCAACTACC\n"
          ],
          "name": "stdout"
        }
      ]
    }
  ]
}