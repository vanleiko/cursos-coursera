{
  "nbformat": 4,
  "nbformat_minor": 0,
  "metadata": {
    "colab": {
      "name": "Biology meets programming.ipynb",
      "provenance": [],
      "collapsed_sections": [],
      "authorship_tag": "ABX9TyP3u4XmRJSw8DSzEhgGOVH0",
      "include_colab_link": true
    },
    "kernelspec": {
      "name": "python3",
      "display_name": "Python 3"
    }
  },
  "cells": [
    {
      "cell_type": "markdown",
      "metadata": {
        "id": "view-in-github",
        "colab_type": "text"
      },
      "source": [
        "<a href=\"https://colab.research.google.com/github/vanleiko/cursos-coursera/blob/main/Biology_meets_programming.ipynb\" target=\"_parent\"><img src=\"https://colab.research.google.com/assets/colab-badge.svg\" alt=\"Open In Colab\"/></a>"
      ]
    },
    {
      "cell_type": "markdown",
      "metadata": {
        "id": "9YLxL9rRXhTg"
      },
      "source": [
        "##**Finding Ori**"
      ]
    },
    {
      "cell_type": "code",
      "metadata": {
        "id": "hpX71FMp1rNG"
      },
      "source": [
        "# conta a quantidade de padrões\r\n",
        "def PatternCount(Pattern, Text):\r\n",
        "    count = 0\r\n",
        "    for n in range(len(Text) - len(Pattern) + 1):\r\n",
        "        if Text[n:n+len(Pattern)] == Pattern:\r\n",
        "            count += 1\r\n",
        "    return count"
      ],
      "execution_count": null,
      "outputs": []
    },
    {
      "cell_type": "code",
      "metadata": {
        "id": "dbdTvXOM6PyN"
      },
      "source": [
        "# retorna um dicionário com os tipos de padrões e suas quantidades\r\n",
        "def FrequencyMap(Text, k):\r\n",
        "    freq = {}\r\n",
        "    n = len(Text)\r\n",
        "    for i in range(n-k+1):\r\n",
        "        Pattern = Text[i:i+k]\r\n",
        "        freq[Pattern] = 0\r\n",
        "       \r\n",
        "    for Pattern in freq:\r\n",
        "        for i in range(n-k+1):\r\n",
        "            if Pattern == Text[i:i+k]:\r\n",
        "                freq[Pattern] = freq[Pattern] + 1\r\n",
        "    \r\n",
        "    \r\n",
        "    return freq"
      ],
      "execution_count": null,
      "outputs": []
    },
    {
      "cell_type": "code",
      "metadata": {
        "id": "wbJY3eie-K4U"
      },
      "source": [
        "# retorna o padrão que tem o maior valor\r\n",
        "def FrequentWords(Text, k):\r\n",
        "    words = []\r\n",
        "    freq = FrequencyMap(Text, k)\r\n",
        "    m = max(freq.values())\r\n",
        "    for key in freq:\r\n",
        "        if freq[key] == m:\r\n",
        "            words.append(key)\r\n",
        "    return words\r\n",
        "\r\n",
        "\r\n",
        "def FrequencyMap(Text, k):\r\n",
        "    freq = {}\r\n",
        "    n = len(Text)\r\n",
        "    for i in range(n-k+1):\r\n",
        "        Pattern = Text[i:i+k]\r\n",
        "        freq[Pattern] = 0\r\n",
        "       \r\n",
        "    for Pattern in freq:\r\n",
        "        for i in range(n-k+1):\r\n",
        "            if Pattern == Text[i:i+k]:\r\n",
        "                freq[Pattern] = freq[Pattern] + 1\r\n",
        "    return freq"
      ],
      "execution_count": null,
      "outputs": []
    },
    {
      "cell_type": "code",
      "metadata": {
        "id": "1MoN26inDSii"
      },
      "source": [
        "def Reverse(Pattern):\r\n",
        "  return Pattern[::-1]"
      ],
      "execution_count": null,
      "outputs": []
    },
    {
      "cell_type": "code",
      "metadata": {
        "id": "uTK8mQPpDmWA"
      },
      "source": [
        "def Complement(Pattern):\r\n",
        "  s = ''\r\n",
        "  dict = {\"A\": \"T\", \"T\":\"A\", \"G\":\"C\", \"C\":\"G\"}\r\n",
        "  s = ''.join([dict[n] for n in Pattern])\r\n",
        "  return s\r\n",
        "  "
      ],
      "execution_count": null,
      "outputs": []
    },
    {
      "cell_type": "code",
      "metadata": {
        "id": "85ALdJRYFXoV"
      },
      "source": [
        "def  ReverseComplement(Pattern):\r\n",
        "  dict = {\"A\": \"T\", \"T\":\"A\", \"G\":\"C\", \"C\":\"G\"}\r\n",
        "  s = ''.join([dict[n] for n in Pattern])\r\n",
        "  return s[::-1]"
      ],
      "execution_count": null,
      "outputs": []
    },
    {
      "cell_type": "code",
      "metadata": {
        "id": "sjYO3eZJv4sU"
      },
      "source": [
        "# retorna as posições dos padrões\r\n",
        "def PatternMatching(Pattern, Genome):\r\n",
        "    positions = [] # output variable\r\n",
        "    g_len = len(Genome)\r\n",
        "    p_len = len(Pattern)\r\n",
        "    \r\n",
        "    for pos in range(g_len):\r\n",
        "      if Genome[pos:pos + p_len] == Pattern:\r\n",
        "        positions.append(pos)\r\n",
        "        \r\n",
        "\r\n",
        "    return positions"
      ],
      "execution_count": null,
      "outputs": []
    },
    {
      "cell_type": "code",
      "metadata": {
        "id": "WEma8b46AiwH"
      },
      "source": [
        "# melhoras esse código. está demorando mt\r\n",
        "# retorna o padrão que tem o maior valor correndo uma janela de leitura\r\n",
        "def FrequencyMap(janela, k, t):\r\n",
        "    freq = {}\r\n",
        "    lista = []\r\n",
        "    n = len(janela)\r\n",
        "\r\n",
        "    for i in range(n-k+1):\r\n",
        "        Pattern = janela[i:i+k]\r\n",
        "        freq[Pattern] = 0\r\n",
        "       \r\n",
        "    for Pattern in freq:\r\n",
        "        for i in range(n-k+1):\r\n",
        "            if Pattern == janela[i:i+k]:\r\n",
        "              freq[Pattern] += 1\r\n",
        "\r\n",
        "    for Pattern in freq:\r\n",
        "      if freq[Pattern] == t:\r\n",
        "        lista.append(Pattern)\r\n",
        "    \r\n",
        "    return lista\r\n",
        "\r\n",
        "\r\n",
        "def ClumpFinding(Genome,k,L,t):\r\n",
        "  lista = []\r\n",
        "  tamanho_gen = len(Genome)\r\n",
        "\r\n",
        "  for i in range(tamanho_gen-L+1):\r\n",
        "    janela = Genome[i:i+L]\r\n",
        "    padrao = FrequencyMap(janela, k, t)\r\n",
        "    for item in padrao:\r\n",
        "      if item != \"None\":\r\n",
        "        lista.append(item)\r\n",
        "      else:\r\n",
        "        pass\r\n",
        "        \r\n",
        "\r\n",
        "  lista = set(lista)\r\n",
        "\r\n",
        "  for item in lista:\r\n",
        "    print(item, end=\" \")\r\n"
      ],
      "execution_count": null,
      "outputs": []
    },
    {
      "cell_type": "code",
      "metadata": {
        "id": "KQNgd8qqDVuF"
      },
      "source": [
        "# conta a quantidade de padrões\r\n",
        "def PatternCount(Pattern, Text):\r\n",
        "    count = 0\r\n",
        "    for n in range(len(Text) - len(Pattern) + 1):\r\n",
        "        if Text[n:n+len(Pattern)] == Pattern:\r\n",
        "            count += 1\r\n",
        "    return count\r\n",
        "    \r\n",
        "def SymbolArray(Genome, symbol):\r\n",
        "    array = {}\r\n",
        "    n = len(Genome)\r\n",
        "    ExtendedGenome = Genome + Genome[0:n//2]\r\n",
        "    for i in range(n):\r\n",
        "        array[i] = PatternCount(symbol, ExtendedGenome[i:i+(n//2)])\r\n",
        "    return array"
      ],
      "execution_count": null,
      "outputs": []
    },
    {
      "cell_type": "code",
      "metadata": {
        "id": "mp5ifsJxx0-Q"
      },
      "source": [
        "def PatternCount(symbol, genome):\r\n",
        "    count = 0\r\n",
        "    for n in range(len(genome) - len(symbol) + 1):\r\n",
        "        if genome[n:n+len(symbol)] == symbol:\r\n",
        "            count += 1\r\n",
        "    return count\r\n",
        "\r\n",
        "def FasterSymbolArray(Genome, symbol):\r\n",
        "    array = {}\r\n",
        "    n = len(Genome)\r\n",
        "    ExtendedGenome = Genome + Genome[0:n//2]\r\n",
        "\r\n",
        "    # look at the first half of Genome to compute first array value\r\n",
        "    array[0] = PatternCount(symbol, Genome[0:n//2])\r\n",
        "\r\n",
        "    for i in range(1, n):\r\n",
        "        # start by setting the current array value equal to the previous array value\r\n",
        "        array[i] = array[i-1]\r\n",
        "\r\n",
        "        # the current array value can differ from the previous array value by at most 1\r\n",
        "        if ExtendedGenome[i-1] == symbol:\r\n",
        "            array[i] = array[i]-1\r\n",
        "        if ExtendedGenome[i+(n//2)-1] == symbol:\r\n",
        "            array[i] = array[i]+1\r\n",
        "    return array"
      ],
      "execution_count": null,
      "outputs": []
    },
    {
      "cell_type": "code",
      "metadata": {
        "id": "eRt4CL5GCiL9"
      },
      "source": [
        "def SkewArray(Genome):\r\n",
        "  skew = []\r\n",
        "  skew.append(0)\r\n",
        "  tamanho_gen = len(Genome)\r\n",
        "\r\n",
        "  for i in range(tamanho_gen):\r\n",
        "    if (Genome[i] == \"A\") or (Genome[i] == \"T\"):\r\n",
        "      skew.append(skew[i])\r\n",
        "    elif Genome[i] == \"G\":\r\n",
        "      skew.append(skew[i] + 1)\r\n",
        "    elif Genome[i] == \"C\":\r\n",
        "      skew.append(skew[i] - 1)\r\n",
        "    \r\n",
        "  return skew"
      ],
      "execution_count": null,
      "outputs": []
    },
    {
      "cell_type": "code",
      "metadata": {
        "id": "2Z7zpVhoMKKw"
      },
      "source": [
        "def SkewArray(Genome):\r\n",
        "\r\n",
        "    skew = []\r\n",
        "    skew.append(0)\r\n",
        "    tamanho_gen = len(Genome)\r\n",
        "\r\n",
        "    for i in range(tamanho_gen):\r\n",
        "        if (Genome[i] == \"A\") or (Genome[i] == \"T\"):\r\n",
        "            skew.append(skew[i])\r\n",
        "        elif Genome[i] == \"G\":\r\n",
        "            skew.append(skew[i] + 1)\r\n",
        "        elif Genome[i] == \"C\":\r\n",
        "             skew.append(skew[i] - 1)\r\n",
        "    return skew\r\n",
        "\r\n",
        "def MinimumSkew(Genome):\r\n",
        "    Positions = []\r\n",
        "    lista = SkewArray(Genome)\r\n",
        "    m = min(lista)\r\n",
        "    for i in range(len(lista)):\r\n",
        "        if lista[i] == m:\r\n",
        "            Positions.append(i)\r\n",
        "    return Positions\r\n"
      ],
      "execution_count": null,
      "outputs": []
    },
    {
      "cell_type": "code",
      "metadata": {
        "id": "ZywOJtmXMiWo"
      },
      "source": [
        "def hamming(gen1, gen2):\r\n",
        "  tamanho = len(gen1)\r\n",
        "\r\n",
        "  count = 0\r\n",
        "  for n in range(tamanho):\r\n",
        "    if gen1[n] != gen2[n]:\r\n",
        "      count+=1\r\n",
        "  return count\r\n"
      ],
      "execution_count": null,
      "outputs": []
    },
    {
      "cell_type": "code",
      "metadata": {
        "id": "S6f7i1brNUJE"
      },
      "source": [
        "def ApproximatePatternMatching(Text, Pattern, d):\r\n",
        "    positions = [] \r\n",
        "    tamanho_pat = len(Pattern)\r\n",
        "    tamanho_text = len(Text)\r\n",
        "\r\n",
        "    for n in range(tamanho_text - tamanho_pat + 1):\r\n",
        "      Text_seq = Text[n:n+tamanho_pat]\r\n",
        "      checa = Hamming(Pattern, Text_seq, d)\r\n",
        "      if checa:\r\n",
        "        positions.append(n)\r\n",
        "    \r\n",
        "    return positions\r\n",
        "\r\n",
        "\r\n",
        "\r\n",
        "def Hamming(Pattern, Text_seq, d):\r\n",
        "  tamanho = len(Pattern)\r\n",
        "  count = 0\r\n",
        "\r\n",
        "  if Pattern == Text_seq:\r\n",
        "    return True\r\n",
        "  else:\r\n",
        "    for n in range(tamanho):\r\n",
        "      if Pattern[n] != Text_seq[n]:\r\n",
        "        count+=1\r\n",
        "    if count <= d:\r\n",
        "      return True"
      ],
      "execution_count": null,
      "outputs": []
    },
    {
      "cell_type": "code",
      "metadata": {
        "id": "6aiUx_Q8NLm1"
      },
      "source": [
        "def ApproximatePatternCount(Text, Pattern, d):\r\n",
        "    count = 0 \r\n",
        "    tamanho_pat = len(Pattern)\r\n",
        "    tamanho_text = len(Text)\r\n",
        "\r\n",
        "    for n in range(tamanho_text - tamanho_pat + 1):\r\n",
        "      Text_seq = Text[n:n+tamanho_pat]\r\n",
        "      checa = Hamming(Pattern, Text_seq, d)\r\n",
        "      if checa:\r\n",
        "        count += 1\r\n",
        "    \r\n",
        "    return count\r\n",
        "\r\n",
        "\r\n",
        "\r\n",
        "def Hamming(Pattern, Text_seq, d):\r\n",
        "  tamanho = len(Pattern)\r\n",
        "  count = 0\r\n",
        "\r\n",
        "  if Pattern == Text_seq:\r\n",
        "    return True\r\n",
        "  else:\r\n",
        "    for n in range(tamanho):\r\n",
        "      if Pattern[n] != Text_seq[n]:\r\n",
        "        count+=1\r\n",
        "    if count <= d:\r\n",
        "      return True"
      ],
      "execution_count": null,
      "outputs": []
    },
    {
      "cell_type": "markdown",
      "metadata": {
        "id": "BSLmcvSQpjsP"
      },
      "source": [
        "##**Molecular clocks** "
      ]
    },
    {
      "cell_type": "code",
      "metadata": {
        "id": "lXwN9-6fcT3S"
      },
      "source": [
        "motifs = [\"AACGTA\", \r\n",
        "          \"CCCGTT\", \r\n",
        "          \"CACCTT\", \r\n",
        "          \"GGATTA\", \r\n",
        "          \"TTCCGG\"]"
      ],
      "execution_count": null,
      "outputs": []
    },
    {
      "cell_type": "code",
      "metadata": {
        "id": "x2-Sa226prfr"
      },
      "source": [
        "# devolve uma matriz 4 x K com a quantidade de cada nt em cada posição dos motifs\r\n",
        "def Count(motifs):\r\n",
        "  count = {}\r\n",
        "  k = len(motifs[0]) # quantidade de nt dos motifs\r\n",
        "  t = len(motifs) # quantidade de motifs da lista\r\n",
        "\r\n",
        "  for n in \"ATGC\":\r\n",
        "    count[n] = [0]*k  # cria um dicionário 4 x k, preenchido por zeros\r\n",
        "    \r\n",
        "  for i in range(t):\r\n",
        "    for j in range(k):\r\n",
        "      nt = motifs[i][j]\r\n",
        "      count[nt][j] += 1 \r\n",
        "\r\n",
        "  return count\r\n",
        "\r\n"
      ],
      "execution_count": null,
      "outputs": []
    },
    {
      "cell_type": "code",
      "metadata": {
        "colab": {
          "base_uri": "https://localhost:8080/"
        },
        "id": "AzDOLZjmhZPR",
        "outputId": "d4730b2d-27c5-43b3-9641-3a1adddecfdb"
      },
      "source": [
        "Count(motifs)"
      ],
      "execution_count": null,
      "outputs": [
        {
          "output_type": "execute_result",
          "data": {
            "text/plain": [
              "{'A': [1, 2, 1, 0, 0, 2],\n",
              " 'C': [2, 1, 4, 2, 0, 0],\n",
              " 'G': [1, 1, 0, 2, 1, 1],\n",
              " 'T': [1, 1, 0, 1, 4, 2]}"
            ]
          },
          "metadata": {
            "tags": []
          },
          "execution_count": 3
        }
      ]
    },
    {
      "cell_type": "code",
      "metadata": {
        "id": "nRN0YrPFkx92"
      },
      "source": [
        "# retorna a frequência de cada nt na posição (dividir o numero de cada nt pela quantidade de sequências)\r\n",
        "\r\n",
        "# devolve uma matriz 4 x K com a quantidade de cada nt em cada posição dos motifs\r\n",
        "def Count(motifs):\r\n",
        "  count = {}\r\n",
        "  k = len(motifs[0]) # quantidade de nt dos motifs\r\n",
        "  t = len(motifs) # quantidade de motifs da lista\r\n",
        "\r\n",
        "  for n in \"ATGC\":\r\n",
        "    count[n] = [0]*k  # cria um dicionário 4 x k, preenchido por zeros\r\n",
        "    \r\n",
        "  for i in range(t):\r\n",
        "    for j in range(k):\r\n",
        "      nt = motifs[i][j]\r\n",
        "      count[nt][j] += 1 \r\n",
        "\r\n",
        "  return count\r\n",
        "\r\n",
        "\r\n",
        "def Profile(motifs):\r\n",
        "  t = len(motifs) # quantidade de motifs da lista\r\n",
        "  contagem = Count(motifs)\r\n",
        "  profile = {}  # irá receber as frequências\r\n",
        "\r\n",
        "  for chave in contagem.keys():\r\n",
        "    profile[chave] = [valor/t for valor in contagem[chave]]\r\n",
        "\r\n",
        "  return profile\r\n",
        "\r\n"
      ],
      "execution_count": null,
      "outputs": []
    },
    {
      "cell_type": "code",
      "metadata": {
        "id": "VZWvKiSUir_B"
      },
      "source": [
        "motifs = [\"AACGTA\", \r\n",
        "          \"CCCGTT\", \r\n",
        "          \"CACCTT\", \r\n",
        "          \"GGATTA\", \r\n",
        "          \"TTCCGG\"]"
      ],
      "execution_count": null,
      "outputs": []
    },
    {
      "cell_type": "code",
      "metadata": {
        "colab": {
          "base_uri": "https://localhost:8080/"
        },
        "id": "B3NrxIGqjPFB",
        "outputId": "3a753ee1-67c7-4da8-e42f-883d8f159613"
      },
      "source": [
        "Profile(motifs)"
      ],
      "execution_count": null,
      "outputs": [
        {
          "output_type": "execute_result",
          "data": {
            "text/plain": [
              "{'A': [0.2, 0.4, 0.2, 0.0, 0.0, 0.4],\n",
              " 'C': [0.4, 0.2, 0.8, 0.4, 0.0, 0.0],\n",
              " 'G': [0.2, 0.2, 0.0, 0.4, 0.2, 0.2],\n",
              " 'T': [0.2, 0.2, 0.0, 0.2, 0.8, 0.4]}"
            ]
          },
          "metadata": {
            "tags": []
          },
          "execution_count": 25
        }
      ]
    },
    {
      "cell_type": "code",
      "metadata": {
        "id": "SbUivbDBzZtJ"
      },
      "source": [
        "\r\n",
        "Count(motifs)\r\n",
        "{'A': [1, 2, 1, 0, 0, 2],\r\n",
        " 'C': [2, 1, 4, 2, 0, 0],\r\n",
        " 'G': [1, 1, 0, 2, 1, 1],\r\n",
        " 'T': [1, 1, 0, 1, 4, 2]}"
      ],
      "execution_count": null,
      "outputs": []
    },
    {
      "cell_type": "code",
      "metadata": {
        "id": "XEaiu0Rxlcqo"
      },
      "source": [
        "# retorna a fita consenso baseada no nt que mais apareceu em dada posição\r\n",
        "def Count(motifs):\r\n",
        "  count = {}\r\n",
        "  k = len(motifs[0]) # quantidade de nt dos motifs\r\n",
        "  t = len(motifs) # quantidade de motifs da lista\r\n",
        "\r\n",
        "  for n in \"ATGC\":\r\n",
        "    count[n] = [0]*k  # cria um dicionário 4 x k, preenchido por zeros\r\n",
        "    \r\n",
        "  for i in range(t):\r\n",
        "    for j in range(k):\r\n",
        "      nt = motifs[i][j]\r\n",
        "      count[nt][j] += 1 \r\n",
        "\r\n",
        "  return count\r\n",
        "\r\n",
        "\r\n",
        "def Consensus(motifs):\r\n",
        "  k = len(motifs[0])  # retorna a quantidade de nt da sequência\r\n",
        "  count = Count(motifs)\r\n",
        "  fita_consenso = \"\"\r\n",
        "\r\n",
        "  valor = 0\r\n",
        "  for pos in range(k):\r\n",
        "    for nt in \"ACGT\":\r\n",
        "      if count[nt][pos] > valor:\r\n",
        "        nt_consenso = nt\r\n",
        "        valor = count[nt][pos]\r\n",
        "    fita_consenso += nt_consenso\r\n",
        "    valor = 0\r\n",
        "\r\n",
        "  return fita_consenso\r\n",
        "\r\n",
        "\r\n"
      ],
      "execution_count": null,
      "outputs": []
    },
    {
      "cell_type": "code",
      "metadata": {
        "id": "U8C3J26g0tze"
      },
      "source": [
        "motifs = [\"AACGTA\", \r\n",
        "          \"CCCGTT\", \r\n",
        "          \"CACCTT\", \r\n",
        "          \"GGATTA\", \r\n",
        "          \"TTCCGG\"]"
      ],
      "execution_count": null,
      "outputs": []
    },
    {
      "cell_type": "code",
      "metadata": {
        "colab": {
          "base_uri": "https://localhost:8080/",
          "height": 35
        },
        "id": "O0cyRo_r0v71",
        "outputId": "cf37cdeb-89d6-4fc9-d06f-45eb3baa24ec"
      },
      "source": [
        "Consensus(motifs)"
      ],
      "execution_count": null,
      "outputs": [
        {
          "output_type": "execute_result",
          "data": {
            "application/vnd.google.colaboratory.intrinsic+json": {
              "type": "string"
            },
            "text/plain": [
              "'CACCTA'"
            ]
          },
          "metadata": {
            "tags": []
          },
          "execution_count": 43
        }
      ]
    },
    {
      "cell_type": "code",
      "metadata": {
        "id": "OCnf2dB53GiY"
      },
      "source": [
        "# retorna o score de quantos nt não dão match com a fita consenso\r\n",
        "def Count(motifs):\r\n",
        "  count = {}\r\n",
        "  k = len(motifs[0]) # quantidade de nt dos motifs\r\n",
        "  t = len(motifs) # quantidade de motifs da lista\r\n",
        "\r\n",
        "  for n in \"ATGC\":\r\n",
        "    count[n] = [0]*k  # cria um dicionário 4 x k, preenchido por zeros\r\n",
        "    \r\n",
        "  for i in range(t):\r\n",
        "    for j in range(k):\r\n",
        "      nt = motifs[i][j]\r\n",
        "      count[nt][j] += 1 \r\n",
        "\r\n",
        "  return count\r\n",
        "\r\n",
        "\r\n",
        "def Consensus(motifs):\r\n",
        "  k = len(motifs[0])  # retorna a quantidade de nt da sequência\r\n",
        "  count = Count(motifs)\r\n",
        "  fita_consenso = \"\"\r\n",
        "\r\n",
        "  valor = 0\r\n",
        "  for pos in range(k):\r\n",
        "    for nt in \"ACGT\":\r\n",
        "      if count[nt][pos] > valor:\r\n",
        "        nt_consenso = nt\r\n",
        "        valor = count[nt][pos]\r\n",
        "    fita_consenso += nt_consenso\r\n",
        "    valor = 0\r\n",
        "\r\n",
        "  return fita_consenso\r\n",
        "\r\n",
        "\r\n",
        "def Score(motifs):\r\n",
        "  fita_consenso = Consensus(motifs)\r\n",
        "  k = len(motifs[0]) # quantidade de nt dos motifs\r\n",
        "  score = 0\r\n",
        "\r\n",
        "  for motif in motifs:\r\n",
        "    for nt in range(k):\r\n",
        "      if motif[nt] != fita_consenso[nt]:\r\n",
        "        score += 1\r\n",
        "\r\n",
        "  return score\r\n",
        "      \r\n"
      ],
      "execution_count": null,
      "outputs": []
    },
    {
      "cell_type": "code",
      "metadata": {
        "colab": {
          "base_uri": "https://localhost:8080/"
        },
        "id": "VdUD2hNg3qJ4",
        "outputId": "61b2b8a2-413a-4fdd-80fe-081a0044dbed"
      },
      "source": [
        "Score(motifs)"
      ],
      "execution_count": null,
      "outputs": [
        {
          "output_type": "execute_result",
          "data": {
            "text/plain": [
              "14"
            ]
          },
          "metadata": {
            "tags": []
          },
          "execution_count": 46
        }
      ]
    },
    {
      "cell_type": "code",
      "metadata": {
        "id": "mUcalpcbuuNL"
      },
      "source": [
        "# devolve a probabilidade de uma certa string(Text) baseada no perfil de matrix de prob de cada nt\r\n",
        "def Pr(Text, Profile):\r\n",
        "  prob = 1\r\n",
        "  tamanho_text = len(Text)\r\n",
        "  pos=0\r\n",
        "  \r\n",
        "  while pos < tamanho_text:\r\n",
        "    for nt in Text:\r\n",
        "      prob *= Profile[nt][pos]\r\n",
        "      pos += 1\r\n",
        "  \r\n",
        "  return prob\r\n"
      ],
      "execution_count": null,
      "outputs": []
    },
    {
      "cell_type": "code",
      "metadata": {
        "id": "4uzB8jg73sR3"
      },
      "source": [
        "Text = \"ACGGGGATTACC\"\r\n",
        "Profile = {\r\n",
        "    \"A\": [0.2, 0.2, 0.0, 0.0, 0.0, 0.0, 0.9, 0.1, 0.1, 0.1, 0.3, 0.0],\r\n",
        "    \"C\": [0.1, 0.6, 0.0, 0.0, 0.0, 0.0, 0.0, 0.4, 0.1, 0.2, 0.4, 0.6],\r\n",
        "    \"G\": [0.0, 0.0, 1.0, 1.0, 0.9, 0.9, 0.1, 0.0, 0.0, 0.0, 0.0, 0.0],\r\n",
        "    \"T\": [0.7, 0.2, 0.0, 0.0, 0.1, 0.1, 0.0, 0.5, 0.8, 0.7, 0.3, 0.4]}"
      ],
      "execution_count": null,
      "outputs": []
    },
    {
      "cell_type": "code",
      "metadata": {
        "colab": {
          "base_uri": "https://localhost:8080/"
        },
        "id": "qZ88AnINw9eg",
        "outputId": "c1c10ecc-ae2f-45b6-9088-850d4fca8b07"
      },
      "source": [
        "Pr(Text, Profile)"
      ],
      "execution_count": null,
      "outputs": [
        {
          "output_type": "execute_result",
          "data": {
            "text/plain": [
              "0.0008398080000000002"
            ]
          },
          "metadata": {
            "tags": []
          },
          "execution_count": 25
        }
      ]
    },
    {
      "cell_type": "code",
      "metadata": {
        "id": "5BaMpQLVzC_G"
      },
      "source": [
        "# retorna o k-mer com maior prob\r\n",
        "def Pr(kmer, Profile):\r\n",
        "  prob = 1\r\n",
        "  tamanho_text = len(kmer)\r\n",
        "  pos=0\r\n",
        "  \r\n",
        "  while pos < tamanho_text:\r\n",
        "    for nt in kmer:\r\n",
        "      prob *= Profile[nt][pos]\r\n",
        "      pos += 1\r\n",
        "  \r\n",
        "  return prob\r\n",
        "\r\n",
        "\r\n",
        "def ProfileMostProbableKmer(Text, k, Profile):\r\n",
        "  tamanho_text = len(Text)\r\n",
        "  max_prob = 0\r\n",
        "  \r\n",
        "  for pos in range(tamanho_text - k+1):\r\n",
        "    kmer = Text[pos:pos+k]\r\n",
        "    prob_kmer = Pr(kmer, Profile)\r\n",
        "    if prob_kmer == 0 and max_prob == 0:\r\n",
        "      melhor_kmer = Text[0:k]\r\n",
        "    elif prob_kmer > max_prob:\r\n",
        "      max_prob = prob_kmer\r\n",
        "      melhor_kmer = kmer\r\n",
        "      \r\n",
        "  return melhor_kmer"
      ],
      "execution_count": null,
      "outputs": []
    },
    {
      "cell_type": "code",
      "metadata": {
        "id": "24upjG4Hyx7Q"
      },
      "source": [
        "Text = \"ACCTGTTTATTGCCTAAGTTCCGAACAAACCCAATATAGCCCGAGGGCCT\"\r\n",
        "k = 5\r\n",
        "Profile = {\r\n",
        "    \"A\": [0.2, 0.2, 0.3, 0.2, 0.3],\r\n",
        "    \"C\": [0.4, 0.3, 0.1, 0.5, 0.1],\r\n",
        "    \"G\": [0.3, 0.3, 0.5, 0.2, 0.4],\r\n",
        "    \"T\": [0.1, 0.2, 0.1, 0.1, 0.2]}"
      ],
      "execution_count": null,
      "outputs": []
    },
    {
      "cell_type": "code",
      "metadata": {
        "colab": {
          "base_uri": "https://localhost:8080/",
          "height": 35
        },
        "id": "wnekaQ2z0FAG",
        "outputId": "4531073f-cc78-442c-8259-176cee474ff0"
      },
      "source": [
        "ProfileMostProbableKmer(Text, k, Profile)"
      ],
      "execution_count": null,
      "outputs": [
        {
          "output_type": "execute_result",
          "data": {
            "application/vnd.google.colaboratory.intrinsic+json": {
              "type": "string"
            },
            "text/plain": [
              "'CCGAG'"
            ]
          },
          "metadata": {
            "tags": []
          },
          "execution_count": 79
        }
      ]
    },
    {
      "cell_type": "code",
      "metadata": {
        "id": "MO1_UfDXI7oP"
      },
      "source": [
        "# devolve uma matriz 4 x K com a quantidade de cada nt em cada posição dos motifs\r\n",
        "def Count(motifs):\r\n",
        "  count = {}\r\n",
        "  k = len(motifs[0]) # quantidade de nt dos motifs\r\n",
        "  t = len(motifs) # quantidade de motifs da lista\r\n",
        "\r\n",
        "  for n in \"ATGC\":\r\n",
        "    count[n] = [0]*k  # cria um dicionário 4 x k, preenchido por zeros\r\n",
        "    \r\n",
        "  for i in range(t):\r\n",
        "    for j in range(k):\r\n",
        "      nt = motifs[i][j]\r\n",
        "      count[nt][j] += 1 \r\n",
        "\r\n",
        "  return count\r\n",
        "\r\n",
        "# retorna a frequência de cada nt na posição (dividir o numero de cada nt pela quantidade de sequências)\r\n",
        "def Profile(motifs):\r\n",
        "  t = len(motifs) # quantidade de motifs da lista\r\n",
        "  contagem = Count(motifs)\r\n",
        "  profile = {}  # irá receber as frequências\r\n",
        "\r\n",
        "  for chave in contagem.keys():\r\n",
        "    profile[chave] = [valor/t for valor in contagem[chave]]\r\n",
        "\r\n",
        "  return profile\r\n",
        "\r\n",
        "# retorna o score de quantos nt não dão match com a fita consenso  \r\n",
        "def Score(motifs):\r\n",
        "  fita_consenso = Consensus(motifs)\r\n",
        "  k = len(motifs[0]) # quantidade de nt dos motifs\r\n",
        "  score = 0\r\n",
        "\r\n",
        "  for motif in motifs:\r\n",
        "    for nt in range(k):\r\n",
        "      if motif[nt] != fita_consenso[nt]:\r\n",
        "        score += 1\r\n",
        "\r\n",
        "  return score\r\n",
        "\r\n",
        "# retorna a fita consenso baseada no nt que mais apareceu em dada posição\r\n",
        "def Consensus(motifs):\r\n",
        "  k = len(motifs[0])  # retorna a quantidade de nt da sequência\r\n",
        "  count = Count(motifs)\r\n",
        "  fita_consenso = \"\"\r\n",
        "\r\n",
        "  valor = 0\r\n",
        "  for pos in range(k):\r\n",
        "    for nt in \"ACGT\":\r\n",
        "      if count[nt][pos] > valor:\r\n",
        "        nt_consenso = nt\r\n",
        "        valor = count[nt][pos]\r\n",
        "    fita_consenso += nt_consenso\r\n",
        "    valor = 0\r\n",
        "\r\n",
        "  return fita_consenso\r\n",
        "\r\n",
        "# retorna a prob do k-mer com maior prob\r\n",
        "def Pr(kmer, Profile):\r\n",
        "  prob = 1\r\n",
        "  tamanho_text = len(kmer)\r\n",
        "  pos=0\r\n",
        "  \r\n",
        "  while pos < tamanho_text:\r\n",
        "    for nt in kmer:\r\n",
        "      prob *= Profile[nt][pos]\r\n",
        "      pos += 1\r\n",
        "  \r\n",
        "  return prob\r\n",
        "\r\n",
        "# retorna o kmer com maior prob\r\n",
        "def ProfileMostProbableKmer(Text, k, Profile):\r\n",
        "  tamanho_text = len(Text)\r\n",
        "  max_prob = 0\r\n",
        "  \r\n",
        "  for pos in range(tamanho_text - k+1):\r\n",
        "    kmer = Text[pos:pos+k]\r\n",
        "    prob_kmer = Pr(kmer, Profile)\r\n",
        "    if prob_kmer == 0 and max_prob == 0:\r\n",
        "      melhor_kmer = Text[0:k]\r\n",
        "    elif prob_kmer > max_prob:\r\n",
        "      max_prob = prob_kmer\r\n",
        "      melhor_kmer = kmer\r\n",
        "      \r\n",
        "  return melhor_kmer\r\n",
        "\r\n",
        "\r\n",
        "def GreedyMotifSearch(Dna, k, t):\r\n",
        "  amplitude = tamanho_string1 - k+1\r\n",
        "\r\n",
        "  # coloca o primeiro kmer de cada string do Dna\r\n",
        "  best_motifs = [] \r\n",
        "  for i in range(0, t):\r\n",
        "    best_motifs.append(Dna[i][0:k]) \r\n",
        "  \r\n",
        "  # cria uma lista com o kmer de cada iteração da primeira string do Dna\r\n",
        "  lista_kmer_str1 = []   \r\n",
        "  tamanho_string1 = len(Dna[0])\r\n",
        "  for pos in range(amplitude):\r\n",
        "    motif_str1 = Dna[0][pos:pos+k]\r\n",
        "    \r\n",
        "    # iterar os kmers das demais string com o kmer da str1 e achar o melhor perfil\r\n",
        "    for i in range(1:t+1):\r\n",
        "      for posi in range(amplitude):\r\n",
        "        kmer = Dna[i][posi:posi+k]\r\n",
        "\r\n"
      ],
      "execution_count": null,
      "outputs": []
    },
    {
      "cell_type": "code",
      "metadata": {
        "id": "m6716vHtMRn7"
      },
      "source": [
        " Dna = [\r\n",
        "        \"GGCGTTCAGGCA\",\r\n",
        "        \"AAGAATCAGTCA\",\r\n",
        "        \"CAAGGAGTTCGC\",\r\n",
        "        \"CACGTCAATCAC\",\r\n",
        "        \"CAATAATATTCG\"]\r\n",
        "k = 3\r\n",
        "t = 5"
      ],
      "execution_count": null,
      "outputs": []
    },
    {
      "cell_type": "code",
      "metadata": {
        "colab": {
          "base_uri": "https://localhost:8080/"
        },
        "id": "TxMWdJa5MPsz",
        "outputId": "647a26eb-5fd8-49a2-afdb-bf731c3f892f"
      },
      "source": [
        "GreedyMotifSearch(Dna, k, t)"
      ],
      "execution_count": null,
      "outputs": [
        {
          "output_type": "execute_result",
          "data": {
            "text/plain": [
              "['GGC', 'GCG', 'CGT', 'GTT', 'TTC', 'TCA', 'CAG', 'AGG', 'GGC', 'GCA']"
            ]
          },
          "metadata": {
            "tags": []
          },
          "execution_count": 99
        }
      ]
    },
    {
      "cell_type": "code",
      "metadata": {
        "id": "ZGuZ4Vh6W7ce"
      },
      "source": [
        "# calcular a entropia\r\n",
        "import math"
      ],
      "execution_count": null,
      "outputs": []
    },
    {
      "cell_type": "code",
      "metadata": {
        "id": "EBgMojh8b3a8"
      },
      "source": [
        "profile = {\r\n",
        "    'A': [0.2, 0.2, 0.0, 0.0, 0.0, 0.0, 0.9, 0.1, 0.1, 0.1, 0.3, 0.0],\r\n",
        "    'C': [0.1, 0.6, 0.0, 0.0, 0.0, 0.0, 0.0, 0.4, 0.1, 0.2, 0.4, 0.6],\r\n",
        "    'G': [0.0, 0.0, 1.0, 1.0, 0.9, 0.9, 0.1, 0.0, 0.0, 0.0, 0.0, 0.0],\r\n",
        "    'T': [0.7, 0.2, 0.0, 0.0, 0.1, 0.1, 0.0, 0.5, 0.8, 0.7, 0.3, 0.4]\r\n",
        "}"
      ],
      "execution_count": null,
      "outputs": []
    },
    {
      "cell_type": "code",
      "metadata": {
        "id": "YFdE8N5QbgRR"
      },
      "source": [
        "# calcula a entropia de cada posição. Quanto menor a entropia (próxima de zero), mas conservada é a base\r\n",
        "# quanto maior a entropia (próxima de 2, se cada base tiver chances de 0.25), menos conservada é a posição\r\n",
        "\r\n",
        "def calcula_entropia(profile):\r\n",
        "  tamanho = len(profile[\"A\"])\r\n",
        "  entropia = 0\r\n",
        "\r\n",
        "  for nt in \"ATGC\":\r\n",
        "    for pos in range(tamanho):\r\n",
        "      valor = profile[nt][pos]\r\n",
        "      if valor != 0:\r\n",
        "        entropia += (valor*math.log2(valor))\r\n",
        "      else:\r\n",
        "        continue\r\n",
        "\r\n",
        "  return -entropia"
      ],
      "execution_count": null,
      "outputs": []
    },
    {
      "cell_type": "code",
      "metadata": {
        "colab": {
          "base_uri": "https://localhost:8080/"
        },
        "id": "d4H6IMGOcOK0",
        "outputId": "c3d3defe-e8a6-4437-f520-ef27e980fc3d"
      },
      "source": [
        "calcula_entropia(profile)"
      ],
      "execution_count": null,
      "outputs": [
        {
          "output_type": "execute_result",
          "data": {
            "text/plain": [
              "9.916290005356972"
            ]
          },
          "metadata": {
            "tags": []
          },
          "execution_count": 42
        }
      ]
    },
    {
      "cell_type": "code",
      "metadata": {
        "id": "y8ZDJdjaewX9"
      },
      "source": [
        "#  adiciona 1 na matriz Count(motifs), seguindo a regra de Laplace para eliminar o zero\r\n",
        "\r\n",
        "def CountWithPseudocounts(Motifs):\r\n",
        "\r\n",
        "  count = {}\r\n",
        "  k = len(motifs[0]) # quantidade de nt dos motifs\r\n",
        "  t = len(motifs) # quantidade de motifs da lista\r\n",
        "\r\n",
        "  for n in \"ATGC\":\r\n",
        "    count[n] = [1]*k  # cria um dicionário 4 x k, preenchido por um (Laplace)\r\n",
        "    \r\n",
        "  for i in range(t):\r\n",
        "    for j in range(k):\r\n",
        "      nt = motifs[i][j]\r\n",
        "      count[nt][j] += 1 \r\n",
        "  \r\n",
        "\r\n",
        "  return count"
      ],
      "execution_count": null,
      "outputs": []
    },
    {
      "cell_type": "code",
      "metadata": {
        "id": "-vM21IKzfZB-"
      },
      "source": [
        "motifs = [\"AACGTA\", \"CCCGTT\", \"CACCTT\", \"GGATTA\", \"TTCCGG\"]"
      ],
      "execution_count": null,
      "outputs": []
    },
    {
      "cell_type": "code",
      "metadata": {
        "colab": {
          "base_uri": "https://localhost:8080/"
        },
        "id": "wx4uaJUFg6Y9",
        "outputId": "dd6a97f0-80d7-4466-edb3-760794c7161f"
      },
      "source": [
        "CountWithPseudocounts(motifs)"
      ],
      "execution_count": null,
      "outputs": [
        {
          "output_type": "execute_result",
          "data": {
            "text/plain": [
              "{'A': [2, 3, 2, 1, 1, 3],\n",
              " 'C': [3, 2, 5, 3, 1, 1],\n",
              " 'G': [2, 2, 1, 3, 2, 2],\n",
              " 'T': [2, 2, 1, 2, 5, 3]}"
            ]
          },
          "metadata": {
            "tags": []
          },
          "execution_count": 12
        }
      ]
    },
    {
      "cell_type": "code",
      "metadata": {
        "id": "3vDmh-YxhBh4"
      },
      "source": [
        "# matriz com as frequencias dos nt\r\n",
        "\r\n",
        "def ProfileWithPseudocounts(motifs):\r\n",
        "\r\n",
        "  t = len(motifs) + 4 # quantidade de motifs da lista + 4 para normalização por causa dos 1 adicionados\r\n",
        "  contagem = CountWithPseudocounts(motifs)\r\n",
        "  profile = {}  # irá receber as frequências\r\n",
        "\r\n",
        "  for chave in contagem.keys():\r\n",
        "    profile[chave] = [valor/t for valor in contagem[chave]]\r\n",
        "\r\n",
        "  return profile"
      ],
      "execution_count": null,
      "outputs": []
    },
    {
      "cell_type": "code",
      "metadata": {
        "id": "20_YOuR8ip74"
      },
      "source": [
        "motifs = [\"AACGTA\", \r\n",
        "          \"CCCGTT\", \r\n",
        "          \"CACCTT\", \r\n",
        "          \"GGATTA\", \r\n",
        "          \"TTCCGG\"]"
      ],
      "execution_count": null,
      "outputs": []
    },
    {
      "cell_type": "code",
      "metadata": {
        "colab": {
          "base_uri": "https://localhost:8080/"
        },
        "id": "T_p1qSEGiwaT",
        "outputId": "8424e2f6-7927-44f8-8f07-6bc7b0cf9bac"
      },
      "source": [
        "ProfileWithPseudocounts(motifs)"
      ],
      "execution_count": null,
      "outputs": [
        {
          "output_type": "execute_result",
          "data": {
            "text/plain": [
              "{'A': [0.2222222222222222,\n",
              "  0.3333333333333333,\n",
              "  0.2222222222222222,\n",
              "  0.1111111111111111,\n",
              "  0.1111111111111111,\n",
              "  0.3333333333333333],\n",
              " 'C': [0.3333333333333333,\n",
              "  0.2222222222222222,\n",
              "  0.5555555555555556,\n",
              "  0.3333333333333333,\n",
              "  0.1111111111111111,\n",
              "  0.1111111111111111],\n",
              " 'G': [0.2222222222222222,\n",
              "  0.2222222222222222,\n",
              "  0.1111111111111111,\n",
              "  0.3333333333333333,\n",
              "  0.2222222222222222,\n",
              "  0.2222222222222222],\n",
              " 'T': [0.2222222222222222,\n",
              "  0.2222222222222222,\n",
              "  0.1111111111111111,\n",
              "  0.2222222222222222,\n",
              "  0.5555555555555556,\n",
              "  0.3333333333333333]}"
            ]
          },
          "metadata": {
            "tags": []
          },
          "execution_count": 19
        }
      ]
    },
    {
      "cell_type": "code",
      "metadata": {
        "id": "Xi9dbO0zslxk"
      },
      "source": [
        "# retorna o kmer mais provavel de cada strin, baseado no profile fornecido\r\n",
        "def Motifs(Profile, Dna):\r\n",
        "  k = len(Profile[\"A\"])\r\n",
        "  motifs = []\r\n",
        "\r\n",
        "  for string in Dna:\r\n",
        "    motif = ProfileMostProbableKmer(string, k, Profile)\r\n",
        "    motifs.append(motif)\r\n",
        "  \r\n",
        "  return motifs\r\n",
        "\r\n",
        "\r\n",
        "# retorna a maior prob\r\n",
        "def Pr(Pattern, Profile):\r\n",
        "  prob = 1\r\n",
        "  tamanho_text = len(Pattern)\r\n",
        "  pos=0\r\n",
        "  \r\n",
        "  while pos < tamanho_text:\r\n",
        "    for nt in Pattern:\r\n",
        "      prob *= Profile[nt][pos]\r\n",
        "      pos += 1\r\n",
        "  \r\n",
        "  return prob\r\n",
        "\r\n",
        "# retorna o k-mer com maior prob\r\n",
        "def ProfileMostProbableKmer(Text, k, Profile):\r\n",
        "  tamanho_text = len(Text)\r\n",
        "  max_prob = 0\r\n",
        "  \r\n",
        "  for pos in range(tamanho_text - k+1):\r\n",
        "    kmer = Text[pos:pos+k]\r\n",
        "    prob_kmer = Pr(kmer, Profile)\r\n",
        "    if prob_kmer == 0 and max_prob == 0:\r\n",
        "      melhor_kmer = Text[0:k]\r\n",
        "    elif prob_kmer > max_prob:\r\n",
        "      max_prob = prob_kmer\r\n",
        "      melhor_kmer = kmer\r\n",
        "      \r\n",
        "  return melhor_kmer"
      ],
      "execution_count": null,
      "outputs": []
    },
    {
      "cell_type": "code",
      "metadata": {
        "id": "9mbZQbWasr36"
      },
      "source": [
        "Profile = {\"A\": [0.8, 0.0, 0.0, 0.2],\r\n",
        "           \"C\": [0.0, 0.6, 0.2, 0.0],\r\n",
        "           \"G\": [0.2, 0.2, 0.8, 0.0],\r\n",
        "           \"T\": [0.0, 0.2, 0.0, 0.8]}\r\n",
        "\r\n",
        "Dna = [\"TTACCTTAAC\", \r\n",
        "       \"GATGTCTGTC\",\r\n",
        "       \"ACGGCGTTAG\",\r\n",
        "       \"CCCTAACGAG\",\r\n",
        "       \"CGTCAGAGGT\"]"
      ],
      "execution_count": null,
      "outputs": []
    },
    {
      "cell_type": "code",
      "metadata": {
        "colab": {
          "base_uri": "https://localhost:8080/"
        },
        "id": "UlMLr2yNu9ss",
        "outputId": "208ff282-9528-4979-f047-c610c0d0377a"
      },
      "source": [
        "Motifs(Profile, Dna)"
      ],
      "execution_count": null,
      "outputs": [
        {
          "output_type": "execute_result",
          "data": {
            "text/plain": [
              "['ACCT', 'ATGT', 'GCGT', 'ACGA', 'AGGT']"
            ]
          },
          "metadata": {
            "tags": []
          },
          "execution_count": 27
        }
      ]
    },
    {
      "cell_type": "code",
      "metadata": {
        "id": "IUJgRHd3vTqj"
      },
      "source": [
        "import random"
      ],
      "execution_count": null,
      "outputs": []
    },
    {
      "cell_type": "code",
      "metadata": {
        "id": "SaGoKXkexH8O"
      },
      "source": [
        "def RandomMotifs(Dna, k, t):\r\n",
        "  t = len(Dna)\r\n",
        "  l = len(Dna[0])\r\n",
        "  random_motifs = []\r\n",
        " \r\n",
        "  for i in range(t):\r\n",
        "    r = random.randint(1, l-k)\r\n",
        "    random_motifs.append(Dna[i][r:r+k])\r\n",
        "\r\n",
        "  return random_motifs"
      ],
      "execution_count": null,
      "outputs": []
    },
    {
      "cell_type": "code",
      "metadata": {
        "id": "RqMwmUBXy7qo"
      },
      "source": [
        "Dna = [\"TTACCTTAAC\",\r\n",
        "       \"GATGTCTGTC\",\r\n",
        "       \"ACGGCGTTAG\",\r\n",
        "       \"CCCTAACGAG\",\r\n",
        "       \"CGTCAGAGGT\"]\r\n",
        "\r\n",
        "k = 3\r\n",
        "t = 5"
      ],
      "execution_count": null,
      "outputs": []
    },
    {
      "cell_type": "code",
      "metadata": {
        "colab": {
          "base_uri": "https://localhost:8080/"
        },
        "id": "VRI_roOSzEnE",
        "outputId": "23d783f5-7b82-4d2d-eb9e-5e4d3f3c3fea"
      },
      "source": [
        "RandomMotifs(Dna, k, t)"
      ],
      "execution_count": null,
      "outputs": [
        {
          "output_type": "execute_result",
          "data": {
            "text/plain": [
              "['CTT', 'GTC', 'CGG', 'CTA', 'GAG']"
            ]
          },
          "metadata": {
            "tags": []
          },
          "execution_count": 33
        }
      ]
    },
    {
      "cell_type": "code",
      "metadata": {
        "id": "aMeuhupbP6DN"
      },
      "source": [
        "import random\r\n",
        "\r\n",
        "# retorna a quantidade de nt de cada posição + 1\r\n",
        "def CountWithPseudocounts(Motifs):\r\n",
        "\r\n",
        "  count = {}\r\n",
        "  k = len(Motifs[0]) # quantidade de nt dos motifs\r\n",
        "  t = len(Motifs) # quantidade de motifs da lista\r\n",
        "\r\n",
        "  for n in \"ATGC\":\r\n",
        "    count[n] = [1]*k  # cria um dicionário 4 x k, preenchido por um (Laplace)\r\n",
        "    \r\n",
        "  for i in range(t):\r\n",
        "    for j in range(k):\r\n",
        "      nt = Motifs[i][j]\r\n",
        "      count[nt][j] += 1 \r\n",
        "  \r\n",
        "  return count\r\n",
        "\r\n",
        "# retorna as frequências de cada nt em determinada posição + 4 no divisor\r\n",
        "def ProfileWithPseudocounts(Motifs):\r\n",
        "\r\n",
        "  t = len(Motifs) + 4   # quantidade de motifs da lista + 4 para normalização por causa dos 1 adicionados\r\n",
        "  contagem = CountWithPseudocounts(Motifs)\r\n",
        "  profile = {}  # irá receber as frequências\r\n",
        "\r\n",
        "  for chave in contagem.keys():\r\n",
        "    profile[chave] = [valor/t for valor in contagem[chave]]\r\n",
        "\r\n",
        "  return profile\r\n",
        "\r\n",
        "# retorna a maior prob\r\n",
        "def Pr(Pattern, Profile):\r\n",
        "  prob = 1\r\n",
        "  tamanho_text = len(Pattern)\r\n",
        "  pos=0\r\n",
        "  \r\n",
        "  while pos < tamanho_text:\r\n",
        "    for nt in Pattern:\r\n",
        "      prob *= Profile[nt][pos]\r\n",
        "      pos += 1\r\n",
        "  \r\n",
        "  return prob\r\n",
        "\r\n",
        "# retorna o k-mer com maior prob\r\n",
        "def ProfileMostProbableKmer(String, k, Profile):\r\n",
        "  tamanho_text = len(String)\r\n",
        "  max_prob = 0\r\n",
        "  \r\n",
        "  for pos in range(tamanho_text - k+1):\r\n",
        "    kmer = String[pos:pos+k]\r\n",
        "    prob_kmer = Pr(kmer, Profile)\r\n",
        "    if prob_kmer == 0 and max_prob == 0:\r\n",
        "      melhor_kmer = String[0:k]\r\n",
        "    elif prob_kmer > max_prob:\r\n",
        "      max_prob = prob_kmer\r\n",
        "      melhor_kmer = kmer\r\n",
        "      \r\n",
        "  return melhor_kmer\r\n",
        "\r\n",
        "# retorna o kmer mais provavel de cada strin, baseado no profile fornecido\r\n",
        "def Motifs(Profile, Dna):\r\n",
        "  k = len(Profile[\"A\"])\r\n",
        "  motifs = []\r\n",
        "\r\n",
        "  for String in Dna:\r\n",
        "    motif = ProfileMostProbableKmer(String, k, Profile)\r\n",
        "    motifs.append(motif)\r\n",
        "  \r\n",
        "  return motifs\r\n",
        "\r\n",
        "# retorna o score de quantos nt não dão match com a fita consenso\r\n",
        "def Count(Motifs):\r\n",
        "  count = {}\r\n",
        "  k = len(Motifs[0]) # quantidade de nt dos motifs\r\n",
        "  t = len(Motifs) # quantidade de motifs da lista\r\n",
        "\r\n",
        "  for n in \"ATGC\":\r\n",
        "    count[n] = [0]*k  # cria um dicionário 4 x k, preenchido por zeros\r\n",
        "    \r\n",
        "  for i in range(t):\r\n",
        "    for j in range(k):\r\n",
        "      nt = Motifs[i][j]\r\n",
        "      count[nt][j] += 1 \r\n",
        "\r\n",
        "  return count\r\n",
        "\r\n",
        "# retorna a fita consenso\r\n",
        "def Consensus(Motifs):\r\n",
        "  k = len(Motifs[0])  # retorna a quantidade de nt da sequência\r\n",
        "  count = Count(Motifs)\r\n",
        "  fita_consenso = \"\"\r\n",
        "\r\n",
        "  valor = 0\r\n",
        "  for pos in range(k):\r\n",
        "    for nt in \"ACGT\":\r\n",
        "      if count[nt][pos] > valor:\r\n",
        "        nt_consenso = nt\r\n",
        "        valor = count[nt][pos]\r\n",
        "    fita_consenso += nt_consenso\r\n",
        "    valor = 0\r\n",
        "\r\n",
        "  return fita_consenso\r\n",
        "\r\n",
        "# retorna o score da fita consenso\r\n",
        "def Score(Motifs):\r\n",
        "  fita_consenso = Consensus(Motifs)\r\n",
        "  k = len(Motifs[0]) # quantidade de nt dos motifs\r\n",
        "  score = 0\r\n",
        "\r\n",
        "  for motif in Motifs:\r\n",
        "    for nt in range(k):\r\n",
        "      if motif[nt] != fita_consenso[nt]:\r\n",
        "        score += 1\r\n",
        "\r\n",
        "  return score\r\n",
        "\r\n",
        "# retorna motifs aleatorios\r\n",
        "def RandomMotifs(Dna, k, t):\r\n",
        "  t = len(Dna)\r\n",
        "  l = len(Dna[0])\r\n",
        "  random_motifs = []\r\n",
        " \r\n",
        "  for i in range(t):\r\n",
        "    r = random.randint(1, l-k)\r\n",
        "    random_motifs.append(Dna[i][r:r+k])\r\n",
        "\r\n",
        "  return random_motifs\r\n",
        "\r\n",
        "\r\n",
        "def RandomizedMotifSearch(Dna, k, t):\r\n",
        "  M = RandomMotifs(Dna, k, t)\r\n",
        "  BestMotifs = M\r\n",
        "\r\n",
        "  while True:\r\n",
        "    Profile = ProfileWithPseudocounts(M)\r\n",
        "    M = Motifs(Profile, Dna)\r\n",
        "    if Score(M) < Score(BestMotifs):\r\n",
        "      BestMotifs = M\r\n",
        "    else:\r\n",
        "      return BestMotifs "
      ],
      "execution_count": null,
      "outputs": []
    },
    {
      "cell_type": "code",
      "metadata": {
        "id": "vkz-Dh_XSxT4"
      },
      "source": [
        "Dna = [\"CGCCCCTCTCGGGGGTGTTCAGTAAACGGCCA\",\r\n",
        "       \"GGGCGAGGTATGTGTAAGTGCCAAGGTGCCAG\",\r\n",
        "       \"TAGTACCGAGACCGAAAGAAGTATACAGGCGT\",\r\n",
        "       \"TAGATCAAGTTTCAGGTGCACGTCGGTGAACC\",\r\n",
        "       \"AATCCACCAGCTCCACGTGCAATGTTGGCCTA\"]\r\n",
        "\r\n",
        "k = 8\r\n",
        "t = 5"
      ],
      "execution_count": null,
      "outputs": []
    },
    {
      "cell_type": "code",
      "metadata": {
        "colab": {
          "base_uri": "https://localhost:8080/"
        },
        "id": "psmBqzFUS-qf",
        "outputId": "5284290c-8171-4214-886f-01fb4a9a5d11"
      },
      "source": [
        "RandomizedMotifSearch(Dna, k, t)"
      ],
      "execution_count": null,
      "outputs": [
        {
          "output_type": "execute_result",
          "data": {
            "text/plain": [
              "['GGGGTGTT', 'GAGGTATG', 'GAAGTATA', 'CAGGTGCA', 'CACGTGCA']"
            ]
          },
          "metadata": {
            "tags": []
          },
          "execution_count": 16
        }
      ]
    },
    {
      "cell_type": "code",
      "metadata": {
        "colab": {
          "base_uri": "https://localhost:8080/"
        },
        "id": "dmhCcOEUXdee",
        "outputId": "b6ce2539-45b8-4162-aa4f-fa7f068ec128"
      },
      "source": [
        "# roda essa função N vezes\r\n",
        "k = 3\r\n",
        "t = 5\r\n",
        "Dna = [\"GGCGTTCAGGCA\",\r\n",
        "       \"AAGAATCAGTCA\",\r\n",
        "       \"CAAGGAGTTCGC\",\r\n",
        "       \"CACGTCAATCAC\",\r\n",
        "       \"CAATAATATTCG\"]\r\n",
        "\r\n",
        "i = 0\r\n",
        "N = 100\r\n",
        "\r\n",
        "while i<N:\r\n",
        "  BestMotifs = RandomizedMotifSearch(Dna, k, t)\r\n",
        "  i += 1\r\n",
        "\r\n",
        "print(BestMotifs)\r\n",
        "print(Score(BestMotifs))"
      ],
      "execution_count": null,
      "outputs": [
        {
          "output_type": "stream",
          "text": [
            "['TCA', 'AGA', 'AGG', 'TCA', 'ATA']\n",
            "6\n"
          ],
          "name": "stdout"
        }
      ]
    },
    {
      "cell_type": "code",
      "metadata": {
        "id": "Usxs_5l9oAnA"
      },
      "source": [
        "# normaliza as probabilidades para que a soma seja igual a 1\r\n",
        "def Normalize(Probabilities):\r\n",
        "  normalizado = {}\r\n",
        "  soma = sum(Probabilities.values())\r\n",
        "\r\n",
        "  for chave, valor in Probabilities.items():\r\n",
        "    normalizado[chave] = Probabilities[chave]/soma\r\n",
        "  \r\n",
        "  return normalizado\r\n",
        "\r\n",
        "\r\n"
      ],
      "execution_count": null,
      "outputs": []
    },
    {
      "cell_type": "code",
      "metadata": {
        "id": "RdFJEdtKofdV"
      },
      "source": [
        "Probabilities = {'A': 0.1, 'C': 0.1, 'G': 0.1, 'T': 0.1}"
      ],
      "execution_count": null,
      "outputs": []
    },
    {
      "cell_type": "code",
      "metadata": {
        "colab": {
          "base_uri": "https://localhost:8080/"
        },
        "id": "5gIHzZI4oh-c",
        "outputId": "16eb581e-6ab1-4d6c-cc53-b6598a80c3c9"
      },
      "source": [
        "Normalize(Probabilities)"
      ],
      "execution_count": null,
      "outputs": [
        {
          "output_type": "execute_result",
          "data": {
            "text/plain": [
              "{'A': 0.25, 'C': 0.25, 'G': 0.25, 'T': 0.25}"
            ]
          },
          "metadata": {
            "tags": []
          },
          "execution_count": 50
        }
      ]
    },
    {
      "cell_type": "code",
      "metadata": {
        "id": "ceO-l68ssRMz"
      },
      "source": [
        "import random\r\n",
        "# gera um \"dado\" ponderado e sorteia aleatoriamente (A: 0 - 0.25; C: 0.25 - 0.5; G: 0.5 - 0.75; T: 0.75 - 1.0)\r\n",
        "def WeightedDie(Probabilities):\r\n",
        "  count = 0\r\n",
        "  p = random.uniform(0, 1)\r\n",
        "  \r\n",
        "  for key, value in Probabilities.items():\r\n",
        "    count += value\r\n",
        "    if p < count:\r\n",
        "      return key\r\n"
      ],
      "execution_count": null,
      "outputs": []
    },
    {
      "cell_type": "code",
      "metadata": {
        "id": "kORnokfCwsg7"
      },
      "source": [
        "Probabilities = {\"A\": 0.25, \"C\": 0.25, \"G\": 0.25, \"T\": 0.25}"
      ],
      "execution_count": null,
      "outputs": []
    },
    {
      "cell_type": "code",
      "metadata": {
        "colab": {
          "base_uri": "https://localhost:8080/"
        },
        "id": "IuOnHFQUw18E",
        "outputId": "8a864503-96f0-4596-88bf-89bb7c049004"
      },
      "source": [
        "WeightedDie(Probabilities)"
      ],
      "execution_count": null,
      "outputs": [
        {
          "output_type": "execute_result",
          "data": {
            "text/plain": [
              "('T', 0.8735573653444773)"
            ]
          },
          "metadata": {
            "tags": []
          },
          "execution_count": 55
        }
      ]
    },
    {
      "cell_type": "code",
      "metadata": {
        "id": "eXCybl_g0R0A"
      },
      "source": [
        "# retorna a maior prob\r\n",
        "def Pr(Pattern, Profile):\r\n",
        "  prob = 1\r\n",
        "  tamanho_text = len(Pattern)\r\n",
        "  pos=0\r\n",
        "  \r\n",
        "  while pos < tamanho_text:\r\n",
        "    for nt in Pattern:\r\n",
        "      prob *= Profile[nt][pos]\r\n",
        "      pos += 1\r\n",
        "  \r\n",
        "  return prob\r\n",
        "\r\n",
        "# normaliza as probabilidades para que a soma seja igual a 1\r\n",
        "def Normalize(Probabilities):\r\n",
        "  normalizado = {}\r\n",
        "  soma = sum(Probabilities.values())\r\n",
        "\r\n",
        "  for chave, valor in Probabilities.items():\r\n",
        "    normalizado[chave] = Probabilities[chave]/soma\r\n",
        "  \r\n",
        "  return normalizado\r\n",
        "\r\n",
        "# gera um \"dado\" ponderado e sorteia aleatoriamente \r\n",
        "def WeightedDie(Probabilities):\r\n",
        "  count = 0\r\n",
        "  p = random.uniform(0, 1)\r\n",
        "  \r\n",
        "  for key, value in Probabilities.items():\r\n",
        "    count += value\r\n",
        "    if p < count:\r\n",
        "      return key\r\n",
        "\r\n",
        "# seleciona aleatoriamente um kmer baseado numa matriz Profile\r\n",
        "def ProfileGeneratedString(Text, profile, k):\r\n",
        "  n = len(Text)\r\n",
        "  probabilities ={}\r\n",
        "\r\n",
        "  for i in range(0, n-k+1):\r\n",
        "    kmer = Text[i:i+k]\r\n",
        "    probabilities[kmer] = Pr(kmer, profile)\r\n",
        "\r\n",
        "  probabilities = Normalize(probabilities)\r\n",
        "  kmer_escolhido = WeightedDie(probabilities)\r\n",
        "\r\n",
        "  return kmer_escolhido"
      ],
      "execution_count": null,
      "outputs": []
    },
    {
      "cell_type": "code",
      "metadata": {
        "id": "-AjRDvkp1zTf"
      },
      "source": [
        "Text = \"AAACCCAAACCC\"\r\n",
        "profile = {'A': [0.5, 0.1], 'C': [0.3, 0.2], 'G': [0.2, 0.4], 'T': [0.0, 0.3]}\r\n",
        "k = 2"
      ],
      "execution_count": null,
      "outputs": []
    },
    {
      "cell_type": "code",
      "metadata": {
        "colab": {
          "base_uri": "https://localhost:8080/",
          "height": 35
        },
        "id": "1xGnM7J615bu",
        "outputId": "d8221377-1b92-4726-b62e-fbe2ae43e391"
      },
      "source": [
        " ProfileGeneratedString(Text, profile, k)"
      ],
      "execution_count": null,
      "outputs": [
        {
          "output_type": "execute_result",
          "data": {
            "application/vnd.google.colaboratory.intrinsic+json": {
              "type": "string"
            },
            "text/plain": [
              "'AC'"
            ]
          },
          "metadata": {
            "tags": []
          },
          "execution_count": 58
        }
      ]
    },
    {
      "cell_type": "code",
      "metadata": {
        "id": "8ZrbXYu655Bg"
      },
      "source": [
        "import random\r\n",
        "\r\n",
        "# retorna motifs aleatorios\r\n",
        "def RandomMotifs(Dna, k, t):\r\n",
        "  t = len(Dna)\r\n",
        "  l = len(Dna[0])\r\n",
        "  random_motifs = []\r\n",
        " \r\n",
        "  for i in range(t):\r\n",
        "    r = random.randint(0, l-k)\r\n",
        "    random_motifs.append(Dna[i][r:r+k])\r\n",
        "\r\n",
        "  return random_motifs\r\n",
        "\r\n",
        "\r\n",
        "def CountWithPseudocounts(Motifs):\r\n",
        "\r\n",
        "  count = {}\r\n",
        "  k = len(Motifs[0]) # quantidade de nt dos motifs\r\n",
        "  t = len(Motifs) # quantidade de motifs da lista\r\n",
        "\r\n",
        "  for n in \"ATGC\":\r\n",
        "    count[n] = [1]*k  # cria um dicionário 4 x k, preenchido por um (Laplace)\r\n",
        "    \r\n",
        "  for i in range(t):\r\n",
        "    for j in range(k):\r\n",
        "      nt = Motifs[i][j]\r\n",
        "      count[nt][j] += 1 \r\n",
        "  \r\n",
        "  return count\r\n",
        "\r\n",
        "# retorna as frequências de cada nt em determinada posição + 4 no divisor\r\n",
        "def ProfileWithPseudocounts(Motifs):\r\n",
        "\r\n",
        "  t = len(Motifs) + 4   # quantidade de motifs da lista + 4 para normalização por causa dos 1 adicionados\r\n",
        "  contagem = CountWithPseudocounts(Motifs)\r\n",
        "  profile = {}  # irá receber as frequências\r\n",
        "\r\n",
        "  for chave in contagem.keys():\r\n",
        "    profile[chave] = [valor/t for valor in contagem[chave]]\r\n",
        "\r\n",
        "  return profile\r\n",
        "\r\n",
        "def ProfileGeneratedString(Text, profile, k):\r\n",
        "  n = len(Text)\r\n",
        "  probabilities ={}\r\n",
        "\r\n",
        "  for i in range(0, n-k+1):\r\n",
        "    kmer = Text[i:i+k]\r\n",
        "    probabilities[kmer] = Pr(kmer, profile)\r\n",
        "\r\n",
        "  probabilities = Normalize(probabilities)\r\n",
        "  kmer_escolhido = WeightedDie(probabilities)\r\n",
        "\r\n",
        "  return kmer_escolhido\r\n",
        "\r\n",
        "def Count(Motifs):\r\n",
        "  count = {}\r\n",
        "  k = len(Motifs[0]) # quantidade de nt dos motifs\r\n",
        "  t = len(Motifs) # quantidade de motifs da lista\r\n",
        "\r\n",
        "  for n in \"ATGC\":\r\n",
        "    count[n] = [0]*k  # cria um dicionário 4 x k, preenchido por zeros\r\n",
        "    \r\n",
        "  for i in range(t):\r\n",
        "    for j in range(k):\r\n",
        "      nt = Motifs[i][j]\r\n",
        "      count[nt][j] += 1 \r\n",
        "\r\n",
        "  return count\r\n",
        "\r\n",
        "# retorna a fita consenso\r\n",
        "def Consensus(Motifs):\r\n",
        "  k = len(Motifs[0])  # retorna a quantidade de nt da sequência\r\n",
        "  count = Count(Motifs)\r\n",
        "  fita_consenso = \"\"\r\n",
        "\r\n",
        "  valor = 0\r\n",
        "  for pos in range(k):\r\n",
        "    for nt in \"ACGT\":\r\n",
        "      if count[nt][pos] > valor:\r\n",
        "        nt_consenso = nt\r\n",
        "        valor = count[nt][pos]\r\n",
        "    fita_consenso += nt_consenso\r\n",
        "    valor = 0\r\n",
        "\r\n",
        "  return fita_consenso\r\n",
        "\r\n",
        "# retorna o score da fita consenso\r\n",
        "def Score(Motifs):\r\n",
        "  fita_consenso = Consensus(Motifs)\r\n",
        "  k = len(Motifs[0]) # quantidade de nt dos motifs\r\n",
        "  score = 0\r\n",
        "\r\n",
        "  for motif in Motifs:\r\n",
        "    for nt in range(k):\r\n",
        "      if motif[nt] != fita_consenso[nt]:\r\n",
        "        score += 1\r\n",
        "\r\n",
        "  return score\r\n",
        "\r\n",
        "\r\n",
        "def GibbsSampler(Dna, k, t, N):\r\n",
        "  Motifs = RandomMotifs(Dna, k, t)\r\n",
        "  BestMotifs = Motifs\r\n",
        "  ReducedMotifs = Motifs.copy()\r\n",
        "\r\n",
        "  for j in range(0, N):\r\n",
        "    i = random.randint(0, t)\r\n",
        "    ReducedMotifs.remove(ReducedMotifs[i])\r\n",
        "    profile = ProfileWithPseudocounts(ReducedMotifs)\r\n",
        "    motif_i = ProfileGeneratedString(Dna[i], profile, k)\r\n",
        "    Motifs[i] = motif_i\r\n",
        "\r\n",
        "    if Score(Motifs) < Score(BestMotifs):\r\n",
        "      BestMotifs = Motifs\r\n",
        "      ReducedMotifs = Motifs\r\n",
        "    else:\r\n",
        "      return BestMotifs\r\n",
        "\r\n"
      ],
      "execution_count": null,
      "outputs": []
    },
    {
      "cell_type": "code",
      "metadata": {
        "id": "JB7YFO2s-4bR"
      },
      "source": [
        "Dna = [\"CGCCCCTCTCGGGGGTGTTCAGTAAACGGCCA\",\r\n",
        "       \"GGGCGAGGTATGTGTAAGTGCCAAGGTGCCAG\",\r\n",
        "       \"TAGTACCGAGACCGAAAGAAGTATACAGGCGT\",\r\n",
        "       \"TAGATCAAGTTTCAGGTGCACGTCGGTGAACC\",\r\n",
        "       \"AATCCACCAGCTCCACGTGCAATGTTGGCCTA\"]\r\n",
        "N = 100\r\n",
        "k = 9\r\n",
        "t = 5"
      ],
      "execution_count": null,
      "outputs": []
    },
    {
      "cell_type": "code",
      "metadata": {
        "colab": {
          "base_uri": "https://localhost:8080/"
        },
        "id": "SqZhZ92eBOIn",
        "outputId": "3f41775c-ff1a-41a2-eb1d-554f989d7e53"
      },
      "source": [
        "Dna"
      ],
      "execution_count": null,
      "outputs": [
        {
          "output_type": "execute_result",
          "data": {
            "text/plain": [
              "['CGCCCCTCTCGGGGGTGTTCAGTAAACGGCCA',\n",
              " 'GGGCGAGGTATGTGTAAGTGCCAAGGTGCCAG',\n",
              " 'TAGTACCGAGACCGAAAGAAGTATACAGGCGT',\n",
              " 'TAGATCAAGTTTCAGGTGCACGTCGGTGAACC',\n",
              " 'AATCCACCAGCTCCACGTGCAATGTTGGCCTA']"
            ]
          },
          "metadata": {
            "tags": []
          },
          "execution_count": 104
        }
      ]
    },
    {
      "cell_type": "code",
      "metadata": {
        "colab": {
          "base_uri": "https://localhost:8080/"
        },
        "id": "2EF_Cbr_B21f",
        "outputId": "53a4f322-4d97-4b68-90a2-241933908e68"
      },
      "source": [
        "Normalize({\"A\": 0.22, \"C\": 0.54, \"G\": 0.58, \"T\": 0.36, \"E\": 0.3})"
      ],
      "execution_count": null,
      "outputs": [
        {
          "output_type": "execute_result",
          "data": {
            "text/plain": [
              "{'A': 0.11000000000000001,\n",
              " 'C': 0.2700000000000001,\n",
              " 'E': 0.15000000000000002,\n",
              " 'G': 0.29000000000000004,\n",
              " 'T': 0.18000000000000002}"
            ]
          },
          "metadata": {
            "tags": []
          },
          "execution_count": 106
        }
      ]
    },
    {
      "cell_type": "code",
      "metadata": {
        "id": "pKukZ_SiGFsM"
      },
      "source": [
        ""
      ],
      "execution_count": null,
      "outputs": []
    }
  ]
}